{
 "cells": [
  {
   "cell_type": "markdown",
   "metadata": {},
   "source": [
    "# Analyzing the Stroop Effect\n",
    "\n",
    "\n",
    "## Table of Contents\n",
    "<ul>\n",
    "<li><a href=\"#intro\">Introduction</a></li>\n",
    "<li><a href=\"#definitions\">Definitions</a></li>\n",
    "<li><a href=\"#test\">Statistical Test</a></li>\n",
    "<li><a href=\"#conclusions\">Conclusions</a></li>\n",
    "</ul>\n",
    "\n",
    "\n",
    "<a id='intro'></a>\n",
    "### Introduction\n",
    "Use descriptive statistics and a statistical test to analyze the [Stroop Effect](https://en.wikipedia.org/wiki/Stroop_effect), a classic result of experimental psychology."
   ]
  },
  {
   "cell_type": "markdown",
   "metadata": {},
   "source": [
    "<a id='definitions'></a>\n",
    "### Definitions\n",
    "<br/>\n",
    "**Independent and dependent variables**\n",
    "\n",
    "><u>Independent Variable</u>: Type of words conditions (Congruent, Incongruent) <br/>\n",
    "><u>Dependent Variable</u>: Test completion time<br/>"
   ]
  },
  {
   "cell_type": "markdown",
   "metadata": {},
   "source": [
    "**Null and alternative hypotheses**"
   ]
  },
  {
   "cell_type": "markdown",
   "metadata": {},
   "source": [
    ">Null Hypothesis - The average test completion time in Incongruent words condition is less or equal to average  test completion time in Congruent words condition.\n",
    "$$ H_0: \\mu_{Incongruent} \\leq \\mu_{Congruent} $$\n",
    "\n",
    "> Alternative Hypothesis - Average test completion time in Incongruent words condition is greater than average test completion time in Congruent words condition at a Type I error rate of 5%.\n",
    "$$ H_1: \\mu_{Incongruent} > \\mu_{Congruent} $$ \n",
    "\n",
    "> Symbol definitions:\n",
    "* H<font size=\"-2\">0</font>: Null Hypothesis\n",
    "* H<font size=\"-2\">1</font>: Alternative Hypothesis\n",
    "* &mu;: Population Mean\n",
    "* Congruent: Congruent words condition\n",
    "* Incongruent: Incongruent words condition\n",
    "* &mu;<font size=\"-2\">Congruent</font>: Population mean of test completion time in Congruent Words Condition\n",
    "* &mu;<font size=\"-2\">Incongruent</font>: Population mean of test completion time in Incongruent Words Condition\n",
    "\n",
    "> When I took the test, it took me 12.169 seconds for the Congruent words condition and 25.383 seconds for the Incongrudent words condition. I should be able to observe the same for the data provided.  I came up with \"Average test completion time in Incongruent words condition is greater than average test completion time in Congruent words condition\" as the alternative hypothesis since this is what I like to prove to be true.\n",
    "\n",
    "> The null hypothesis should be opposite of the alternative and it usually states that two groups are equal.  So I came up with \"The average test completion time in Incongruent words condition is less or equal to average  test completion time in Congruent words condition.\" as the null hypothesis.\n",
    "\n",
    "> I picked Type 1 error rate to be 5% as it is the standard threshold of Type I error. \n",
    "\n",
    "> I would use the Paired Samples T Test for my hypothesis testing.  The T test compares two averages and find if they are different from each other, and the dependent samples are essentially connected — they are tests on the same person.\n",
    "\n",
    "> Paired Samples T Test assumes:<br/>\n",
    "* The differences are of measurement variables.<br/>\n",
    "* Sampling (or allocation) is random and pairs of observations are independent.<br/>\n",
    "* The distribution of the mean difference is normal.<br/>"
   ]
  },
  {
   "cell_type": "markdown",
   "metadata": {},
   "source": [
    "<a id='test'></a>\n",
    "### Statistical Test"
   ]
  },
  {
   "cell_type": "code",
   "execution_count": 1,
   "metadata": {
    "scrolled": true
   },
   "outputs": [
    {
     "data": {
      "text/html": [
       "<div>\n",
       "<style scoped>\n",
       "    .dataframe tbody tr th:only-of-type {\n",
       "        vertical-align: middle;\n",
       "    }\n",
       "\n",
       "    .dataframe tbody tr th {\n",
       "        vertical-align: top;\n",
       "    }\n",
       "\n",
       "    .dataframe thead th {\n",
       "        text-align: right;\n",
       "    }\n",
       "</style>\n",
       "<table border=\"1\" class=\"dataframe\">\n",
       "  <thead>\n",
       "    <tr style=\"text-align: right;\">\n",
       "      <th></th>\n",
       "      <th>Congruent</th>\n",
       "      <th>Incongruent</th>\n",
       "    </tr>\n",
       "  </thead>\n",
       "  <tbody>\n",
       "    <tr>\n",
       "      <th>0</th>\n",
       "      <td>12.079</td>\n",
       "      <td>19.278</td>\n",
       "    </tr>\n",
       "    <tr>\n",
       "      <th>1</th>\n",
       "      <td>16.791</td>\n",
       "      <td>18.741</td>\n",
       "    </tr>\n",
       "    <tr>\n",
       "      <th>2</th>\n",
       "      <td>9.564</td>\n",
       "      <td>21.214</td>\n",
       "    </tr>\n",
       "    <tr>\n",
       "      <th>3</th>\n",
       "      <td>8.630</td>\n",
       "      <td>15.687</td>\n",
       "    </tr>\n",
       "    <tr>\n",
       "      <th>4</th>\n",
       "      <td>14.669</td>\n",
       "      <td>22.803</td>\n",
       "    </tr>\n",
       "  </tbody>\n",
       "</table>\n",
       "</div>"
      ],
      "text/plain": [
       "   Congruent  Incongruent\n",
       "0     12.079       19.278\n",
       "1     16.791       18.741\n",
       "2      9.564       21.214\n",
       "3      8.630       15.687\n",
       "4     14.669       22.803"
      ]
     },
     "execution_count": 1,
     "metadata": {},
     "output_type": "execute_result"
    }
   ],
   "source": [
    "import numpy as np\n",
    "import pandas as pd\n",
    "import scipy.stats as stats\n",
    "import matplotlib.pyplot as plt\n",
    "import seaborn as sns\n",
    "%matplotlib inline\n",
    "\n",
    "# Load data\n",
    "df = pd.read_csv('data/stroopdata.csv')\n",
    "df.head()"
   ]
  },
  {
   "cell_type": "code",
   "execution_count": 2,
   "metadata": {
    "scrolled": false
   },
   "outputs": [
    {
     "data": {
      "text/html": [
       "<div>\n",
       "<style scoped>\n",
       "    .dataframe tbody tr th:only-of-type {\n",
       "        vertical-align: middle;\n",
       "    }\n",
       "\n",
       "    .dataframe tbody tr th {\n",
       "        vertical-align: top;\n",
       "    }\n",
       "\n",
       "    .dataframe thead th {\n",
       "        text-align: right;\n",
       "    }\n",
       "</style>\n",
       "<table border=\"1\" class=\"dataframe\">\n",
       "  <thead>\n",
       "    <tr style=\"text-align: right;\">\n",
       "      <th></th>\n",
       "      <th>Congruent</th>\n",
       "      <th>Incongruent</th>\n",
       "    </tr>\n",
       "  </thead>\n",
       "  <tbody>\n",
       "    <tr>\n",
       "      <th>count</th>\n",
       "      <td>24.000000</td>\n",
       "      <td>24.000000</td>\n",
       "    </tr>\n",
       "    <tr>\n",
       "      <th>mean</th>\n",
       "      <td>14.051125</td>\n",
       "      <td>22.015917</td>\n",
       "    </tr>\n",
       "    <tr>\n",
       "      <th>std</th>\n",
       "      <td>3.559358</td>\n",
       "      <td>4.797057</td>\n",
       "    </tr>\n",
       "    <tr>\n",
       "      <th>min</th>\n",
       "      <td>8.630000</td>\n",
       "      <td>15.687000</td>\n",
       "    </tr>\n",
       "    <tr>\n",
       "      <th>25%</th>\n",
       "      <td>11.895250</td>\n",
       "      <td>18.716750</td>\n",
       "    </tr>\n",
       "    <tr>\n",
       "      <th>50%</th>\n",
       "      <td>14.356500</td>\n",
       "      <td>21.017500</td>\n",
       "    </tr>\n",
       "    <tr>\n",
       "      <th>75%</th>\n",
       "      <td>16.200750</td>\n",
       "      <td>24.051500</td>\n",
       "    </tr>\n",
       "    <tr>\n",
       "      <th>max</th>\n",
       "      <td>22.328000</td>\n",
       "      <td>35.255000</td>\n",
       "    </tr>\n",
       "  </tbody>\n",
       "</table>\n",
       "</div>"
      ],
      "text/plain": [
       "       Congruent  Incongruent\n",
       "count  24.000000    24.000000\n",
       "mean   14.051125    22.015917\n",
       "std     3.559358     4.797057\n",
       "min     8.630000    15.687000\n",
       "25%    11.895250    18.716750\n",
       "50%    14.356500    21.017500\n",
       "75%    16.200750    24.051500\n",
       "max    22.328000    35.255000"
      ]
     },
     "execution_count": 2,
     "metadata": {},
     "output_type": "execute_result"
    }
   ],
   "source": [
    "# Find descriptive statistics\n",
    "df.describe()"
   ]
  },
  {
   "cell_type": "code",
   "execution_count": 3,
   "metadata": {},
   "outputs": [
    {
     "data": {
      "text/plain": [
       "Congruent      13.698\n",
       "Incongruent    19.568\n",
       "dtype: float64"
      ]
     },
     "execution_count": 3,
     "metadata": {},
     "output_type": "execute_result"
    }
   ],
   "source": [
    "# Find Range\n",
    "df.max() - df.min()"
   ]
  },
  {
   "cell_type": "code",
   "execution_count": 4,
   "metadata": {},
   "outputs": [
    {
     "data": {
      "text/plain": [
       "Congruent      4.30550\n",
       "Incongruent    5.33475\n",
       "dtype: float64"
      ]
     },
     "execution_count": 4,
     "metadata": {},
     "output_type": "execute_result"
    }
   ],
   "source": [
    "# Find Interquartile range\n",
    "df.quantile(0.75) - df.quantile(0.25)"
   ]
  },
  {
   "cell_type": "code",
   "execution_count": 5,
   "metadata": {},
   "outputs": [
    {
     "data": {
      "text/plain": [
       "Congruent      12.669029\n",
       "Incongruent    23.011757\n",
       "dtype: float64"
      ]
     },
     "execution_count": 5,
     "metadata": {},
     "output_type": "execute_result"
    }
   ],
   "source": [
    "# Find Variance\n",
    "df.var()"
   ]
  },
  {
   "cell_type": "markdown",
   "metadata": {},
   "source": [
    "> Here are some descriptive statistics regarding this dataset.\n",
    "\n",
    "\n",
    "| Statistics              | Congrudent     | Incongrudent     |\n",
    "| ----------------------- |:--------------:| ----------------:|\n",
    "| Count                   | 24             | 24               |\n",
    "| Minimum                 | 8.630          | 15.687           |\n",
    "| Maximum                 | 22.328         | 35.255           |\n",
    "| Range                   | 13.698         | 19.568           |\n",
    "| Mean                    | 14.051125      | 22.015917        |\n",
    "| Median                  | 14.3565        | 21.0175          |\n",
    "| Interquartile range     | 4.30550        | 5.33475          |\n",
    "| Variance                | 12.669029      | 23.011757        |\n",
    "| Standard deviation      | 3.559358       | 4.797057         |"
   ]
  },
  {
   "cell_type": "markdown",
   "metadata": {},
   "source": [
    "Distribution of the sample data"
   ]
  },
  {
   "cell_type": "code",
   "execution_count": 6,
   "metadata": {},
   "outputs": [
    {
     "data": {
      "image/png": "[encoded data removed]",
      "text/plain": [
       "<Figure size 360x504 with 1 Axes>"
      ]
     },
     "metadata": {},
     "output_type": "display_data"
    }
   ],
   "source": [
    "# Visualization\n",
    "plt.figure(figsize=(5,7))\n",
    "\n",
    "sns.boxplot(x=\"variable\", y=\"value\", data=pd.melt(df))\n",
    "\n",
    "plt.title('Stroop Task Experiement', fontsize=14)\n",
    "plt.ylabel('Completion Time (in Seconds)', fontsize=12)\n",
    "plt.xlabel('Words Condition', fontsize=12)\n",
    "\n",
    "plt.grid(True)"
   ]
  },
  {
   "cell_type": "markdown",
   "metadata": {},
   "source": [
    "> The average test completion time is longer in Incongruent words condition.\n",
    "\n",
    "> The range of test completion time is wider in Congruent words condition.\n",
    "\n",
    "> Everybody took longer to complete the test in Incongrument words condition than the average test completion time in Congruent words condition.\n",
    "\n",
    "> There are couple of people who took a lot longer (outliers) than normal range of the distribution in Incongruent words condition."
   ]
  },
  {
   "cell_type": "markdown",
   "metadata": {},
   "source": [
    "Perform the statistical test and report the results."
   ]
  },
  {
   "cell_type": "code",
   "execution_count": 7,
   "metadata": {
    "scrolled": false
   },
   "outputs": [
    {
     "data": {
      "text/plain": [
       "(-8.020706944109957, 2.051500292855589e-08)"
      ]
     },
     "execution_count": 7,
     "metadata": {},
     "output_type": "execute_result"
    }
   ],
   "source": [
    "# Perform the Paired T-Test\n",
    "t_value, p_value = stats.ttest_rel(df['Congruent'],df['Incongruent'])\n",
    "\n",
    "# I'm testing \"the average test completion time in Incongruent words condition is greater than \n",
    "# the average test completion time in Congruent words condition\". This is one-tailed test. \n",
    "# Dividing p-value returned from ttest_rel() by 2 to get the one-tailed p-value.\n",
    "t_value, p_value/2"
   ]
  },
  {
   "cell_type": "markdown",
   "metadata": {},
   "source": [
    "<a id='conclusions'></a>\n",
    "### Conclusions\n",
    "\n",
    "> I picked Type 1 error rate to be 5% as it is the standard threshold of Type I error.\n",
    "\n",
    ">The (one-tailed) p-value of the Paired T-Test is 2.0515002928555891e-08 which is way less than 5% (2.0515002928555891e-08 < 0.05), and it is statistically significant.  We reject the null hypothesis.  We can say that the average test completion time in Incongruent words condition is greater than the average test completion time in Congruent words condition."
   ]
  },
  {
   "cell_type": "markdown",
   "metadata": {},
   "source": [
    "&nbsp;"
   ]
  }
 ],
 "metadata": {
  "kernelspec": {
   "display_name": "Python 3",
   "language": "python",
   "name": "python3"
  },
  "language_info": {
   "codemirror_mode": {
    "name": "ipython",
    "version": 3
   },
   "file_extension": ".py",
   "mimetype": "text/x-python",
   "name": "python",
   "nbconvert_exporter": "python",
   "pygments_lexer": "ipython3",
   "version": "3.6.4"
  }
 },
 "nbformat": 4,
 "nbformat_minor": 2
}
