{
 "cells": [
  {
   "cell_type": "markdown",
   "metadata": {},
   "source": [
    "# WeRateDogs Twitter Data Analysis"
   ]
  },
  {
   "cell_type": "markdown",
   "metadata": {},
   "source": [
    "## Table of Contents\n",
    "<ul>\n",
    "<li><a href=\"#intro\">Introduction</a></li>\n",
    "<li><a href=\"#gather\">Gather Data</a></li>\n",
    "<li><a href=\"#assess\">Assess Data</a></li>\n",
    "<li><a href=\"#clean\">Clean Data</a></li>\n",
    "<li><a href=\"#analyze\">Analyze Data</a></li>\n",
    "<li><a href=\"#conclusions\">Conclusions</a></li>\n",
    "</ul>"
   ]
  },
  {
   "cell_type": "markdown",
   "metadata": {},
   "source": [
    "<a id='intro'></a>\n",
    "## Introduction\n",
    "\n",
    "The dataset that I will be wrangling (and analyzing and visualizing) is the tweet archive of Twitter user @dog_rates, also known as WeRateDogs. WeRateDogs is a Twitter account that rates people's dogs with a humorous comment about the dog.\n",
    "\n",
    "1. Gather data from 3 difference sources.\n",
    "\t- Twitter data in cvs file provided by Udacity\n",
    "\t- Image prediction data from Udacity servers\n",
    "\t- Additional twitter data via http request’s get method\n",
    "2. Assess visually and programmatically for data quality and tidiness issues.\n",
    "3. Clean and fix data.\n",
    "4. Analyze data.\n",
    "    - How good the image prediction algorithm was to predict dog images?\n",
    "    - Are top breeds of dogs associated with rating?\n",
    "    - Which variables are associated with retweets and favorite counts?"
   ]
  },
  {
   "cell_type": "code",
   "execution_count": 1,
   "metadata": {},
   "outputs": [
    {
     "name": "stderr",
     "output_type": "stream",
     "text": [
      "C:\\Users\\ayumi\\Anaconda3\\lib\\site-packages\\statsmodels\\compat\\pandas.py:56: FutureWarning: The pandas.core.datetools module is deprecated and will be removed in a future version. Please use the pandas.tseries module instead.\n",
      "  from pandas.core import datetools\n"
     ]
    }
   ],
   "source": [
    "import numpy as np\n",
    "import pandas as pd\n",
    "import requests\n",
    "import os\n",
    "import tweepy\n",
    "import json\n",
    "import matplotlib.pyplot as plt\n",
    "import seaborn as sns\n",
    "import statsmodels.api as sms;\n",
    "%matplotlib inline"
   ]
  },
  {
   "cell_type": "markdown",
   "metadata": {},
   "source": [
    "<a id='gather'></a>\n",
    "## Gather Data"
   ]
  },
  {
   "cell_type": "markdown",
   "metadata": {},
   "source": [
    "Load The WeRateDogs Twitter archive"
   ]
  },
  {
   "cell_type": "code",
   "execution_count": 2,
   "metadata": {},
   "outputs": [],
   "source": [
    "# Load The WeRateDogs Twitter archive\n",
    "twitter_archive = pd.read_csv('twitter-archive-enhanced.csv')"
   ]
  },
  {
   "cell_type": "code",
   "execution_count": 3,
   "metadata": {
    "scrolled": true
   },
   "outputs": [
    {
     "name": "stdout",
     "output_type": "stream",
     "text": [
      "<class 'pandas.core.frame.DataFrame'>\n",
      "RangeIndex: 2356 entries, 0 to 2355\n",
      "Data columns (total 17 columns):\n",
      "tweet_id                      2356 non-null int64\n",
      "in_reply_to_status_id         78 non-null float64\n",
      "in_reply_to_user_id           78 non-null float64\n",
      "timestamp                     2356 non-null object\n",
      "source                        2356 non-null object\n",
      "text                          2356 non-null object\n",
      "retweeted_status_id           181 non-null float64\n",
      "retweeted_status_user_id      181 non-null float64\n",
      "retweeted_status_timestamp    181 non-null object\n",
      "expanded_urls                 2297 non-null object\n",
      "rating_numerator              2356 non-null int64\n",
      "rating_denominator            2356 non-null int64\n",
      "name                          2356 non-null object\n",
      "doggo                         2356 non-null object\n",
      "floofer                       2356 non-null object\n",
      "pupper                        2356 non-null object\n",
      "puppo                         2356 non-null object\n",
      "dtypes: float64(4), int64(3), object(10)\n",
      "memory usage: 313.0+ KB\n"
     ]
    }
   ],
   "source": [
    "twitter_archive.info()"
   ]
  },
  {
   "cell_type": "markdown",
   "metadata": {},
   "source": [
    "Get tweet image predictions from Udacity Servers and save to 'image_predictions.tsv' file"
   ]
  },
  {
   "cell_type": "code",
   "execution_count": 4,
   "metadata": {
    "scrolled": true
   },
   "outputs": [],
   "source": [
    "# Get tweet image predictions from Udacity Servers and save to 'image_predictions.tsv' file\n",
    "image_predictions_url = 'https://d17h27t6h515a5.cloudfront.net/topher/2017/August/599fd2ad_image-predictions/image-predictions.tsv'\n",
    "response = requests.get(image_predictions_url)\n",
    "with open('image_predictions.tsv', mode='wb') as file:\n",
    "    file.write(response.content)"
   ]
  },
  {
   "cell_type": "markdown",
   "metadata": {},
   "source": [
    "Load tweet image predictions"
   ]
  },
  {
   "cell_type": "code",
   "execution_count": 5,
   "metadata": {},
   "outputs": [],
   "source": [
    "# Load tweet image predictions\n",
    "image_predictions = pd.read_csv('image_predictions.tsv', sep = '\\t')"
   ]
  },
  {
   "cell_type": "code",
   "execution_count": 6,
   "metadata": {
    "scrolled": false
   },
   "outputs": [
    {
     "name": "stdout",
     "output_type": "stream",
     "text": [
      "<class 'pandas.core.frame.DataFrame'>\n",
      "RangeIndex: 2075 entries, 0 to 2074\n",
      "Data columns (total 12 columns):\n",
      "tweet_id    2075 non-null int64\n",
      "jpg_url     2075 non-null object\n",
      "img_num     2075 non-null int64\n",
      "p1          2075 non-null object\n",
      "p1_conf     2075 non-null float64\n",
      "p1_dog      2075 non-null bool\n",
      "p2          2075 non-null object\n",
      "p2_conf     2075 non-null float64\n",
      "p2_dog      2075 non-null bool\n",
      "p3          2075 non-null object\n",
      "p3_conf     2075 non-null float64\n",
      "p3_dog      2075 non-null bool\n",
      "dtypes: bool(3), float64(3), int64(2), object(4)\n",
      "memory usage: 152.1+ KB\n"
     ]
    }
   ],
   "source": [
    "image_predictions.info()"
   ]
  },
  {
   "cell_type": "markdown",
   "metadata": {},
   "source": [
    "Get additional data using Tweepy API and save to 'tweet_json.txt' file"
   ]
  },
  {
   "cell_type": "code",
   "execution_count": 7,
   "metadata": {},
   "outputs": [],
   "source": [
    "# Tweepy OAuthentication \n",
    "\n",
    "# Setting up consumer/access token and secret\n",
    "consumer_key = \"<consumer key>\"\n",
    "consumer_secret = \"<consumer secret>\"\n",
    "access_token = \"<application key>\"\n",
    "access_secret = \"<application secret>\"\n",
    "\n",
    "# Create an OAuthHandler instance\n",
    "auth = tweepy.OAuthHandler(consumer_key, consumer_secret)\n",
    "# Set access token\n",
    "auth.set_access_token(access_token, access_secret)\n",
    "\n",
    "# Create an API instance\n",
    "api = tweepy.API(auth)"
   ]
  },
  {
   "cell_type": "code",
   "execution_count": 8,
   "metadata": {
    "scrolled": true
   },
   "outputs": [],
   "source": [
    "# Get additional data using Twitter API\n",
    "tweet_ids = twitter_archive.tweet_id\n",
    "batch_size = 100\n",
    "count = 0\n",
    "\n",
    "f = open('tweet_json.txt','w')\n",
    "\n",
    "while batch_size*count < len(tweet_ids):\n",
    "    \n",
    "    # Calculate start and end index since we can only batch request 100 twitter ids at a time\n",
    "    idx_start = batch_size*count\n",
    "    idx_end = batch_size*(count+1) if batch_size*(count+1) < len(tweet_ids) else len(tweet_ids)\n",
    "    \n",
    "    # Get 100 tweet ids\n",
    "    tweet_ids_request = tweet_ids[idx_start:idx_end]  \n",
    "    \n",
    "    # Batch requesting addtional information for 100 tweet ids\n",
    "    # print('processing tweets %s - %s' % (idx_start+1, idx_end))\n",
    "    tweets = api.statuses_lookup(id_=tweet_ids_request.tolist(), include_entities = False)\n",
    "\n",
    "    # Save each tweet's additional data as json format in file 'tweet_json.txt'\n",
    "    for tweet in tweets:\n",
    "        json.dump(tweet._json, f)\n",
    "        f.write(\"\\n\")\n",
    "        \n",
    "    count += 1\n",
    "\n",
    "f.close()"
   ]
  },
  {
   "cell_type": "markdown",
   "metadata": {},
   "source": [
    "Load additional twitter data, retreat_count and favorite_count."
   ]
  },
  {
   "cell_type": "code",
   "execution_count": 9,
   "metadata": {},
   "outputs": [],
   "source": [
    "# Load additional twitter data, retreat_count and favorite_count. \n",
    "cols = ['tweet_id', 'retweet_count', 'favorite_count']\n",
    "tweets_list = []\n",
    "\n",
    "with open('tweet_json.txt') as f:\n",
    "    for line in f:\n",
    "        # load each line of data as json format\n",
    "        tweet = json.loads(line) \n",
    "        tweets_list.append([tweet['id'], tweet['retweet_count'], tweet['favorite_count']])\n",
    "        \n",
    "additional_data = pd.DataFrame(tweets_list, columns=cols)"
   ]
  },
  {
   "cell_type": "code",
   "execution_count": 10,
   "metadata": {
    "scrolled": true
   },
   "outputs": [
    {
     "name": "stdout",
     "output_type": "stream",
     "text": [
      "<class 'pandas.core.frame.DataFrame'>\n",
      "RangeIndex: 2345 entries, 0 to 2344\n",
      "Data columns (total 3 columns):\n",
      "tweet_id          2345 non-null int64\n",
      "retweet_count     2345 non-null int64\n",
      "favorite_count    2345 non-null int64\n",
      "dtypes: int64(3)\n",
      "memory usage: 55.0 KB\n"
     ]
    }
   ],
   "source": [
    "additional_data.info()"
   ]
  },
  {
   "cell_type": "markdown",
   "metadata": {},
   "source": [
    "<a id='assess'></a>\n",
    "## Assess Data"
   ]
  },
  {
   "cell_type": "markdown",
   "metadata": {},
   "source": [
    "#### `twitter_archive` table"
   ]
  },
  {
   "cell_type": "code",
   "execution_count": 11,
   "metadata": {
    "scrolled": false
   },
   "outputs": [
    {
     "data": {
      "text/html": [
       "<div>\n",
       "<style scoped>\n",
       "    .dataframe tbody tr th:only-of-type {\n",
       "        vertical-align: middle;\n",
       "    }\n",
       "\n",
       "    .dataframe tbody tr th {\n",
       "        vertical-align: top;\n",
       "    }\n",
       "\n",
       "    .dataframe thead th {\n",
       "        text-align: right;\n",
       "    }\n",
       "</style>\n",
       "<table border=\"1\" class=\"dataframe\">\n",
       "  <thead>\n",
       "    <tr style=\"text-align: right;\">\n",
       "      <th></th>\n",
       "      <th>tweet_id</th>\n",
       "      <th>in_reply_to_status_id</th>\n",
       "      <th>in_reply_to_user_id</th>\n",
       "      <th>timestamp</th>\n",
       "      <th>source</th>\n",
       "      <th>text</th>\n",
       "      <th>retweeted_status_id</th>\n",
       "      <th>retweeted_status_user_id</th>\n",
       "      <th>retweeted_status_timestamp</th>\n",
       "      <th>expanded_urls</th>\n",
       "      <th>rating_numerator</th>\n",
       "      <th>rating_denominator</th>\n",
       "      <th>name</th>\n",
       "      <th>doggo</th>\n",
       "      <th>floofer</th>\n",
       "      <th>pupper</th>\n",
       "      <th>puppo</th>\n",
       "    </tr>\n",
       "  </thead>\n",
       "  <tbody>\n",
       "    <tr>\n",
       "      <th>0</th>\n",
       "      <td>892420643555336193</td>\n",
       "      <td>NaN</td>\n",
       "      <td>NaN</td>\n",
       "      <td>2017-08-01 16:23:56 +0000</td>\n",
       "      <td>&lt;a href=\"http://twitter.com/download/iphone\" r...</td>\n",
       "      <td>This is Phineas. He's a mystical boy. Only eve...</td>\n",
       "      <td>NaN</td>\n",
       "      <td>NaN</td>\n",
       "      <td>NaN</td>\n",
       "      <td>https://twitter.com/dog_rates/status/892420643...</td>\n",
       "      <td>13</td>\n",
       "      <td>10</td>\n",
       "      <td>Phineas</td>\n",
       "      <td>None</td>\n",
       "      <td>None</td>\n",
       "      <td>None</td>\n",
       "      <td>None</td>\n",
       "    </tr>\n",
       "    <tr>\n",
       "      <th>1</th>\n",
       "      <td>892177421306343426</td>\n",
       "      <td>NaN</td>\n",
       "      <td>NaN</td>\n",
       "      <td>2017-08-01 00:17:27 +0000</td>\n",
       "      <td>&lt;a href=\"http://twitter.com/download/iphone\" r...</td>\n",
       "      <td>This is Tilly. She's just checking pup on you....</td>\n",
       "      <td>NaN</td>\n",
       "      <td>NaN</td>\n",
       "      <td>NaN</td>\n",
       "      <td>https://twitter.com/dog_rates/status/892177421...</td>\n",
       "      <td>13</td>\n",
       "      <td>10</td>\n",
       "      <td>Tilly</td>\n",
       "      <td>None</td>\n",
       "      <td>None</td>\n",
       "      <td>None</td>\n",
       "      <td>None</td>\n",
       "    </tr>\n",
       "    <tr>\n",
       "      <th>2</th>\n",
       "      <td>891815181378084864</td>\n",
       "      <td>NaN</td>\n",
       "      <td>NaN</td>\n",
       "      <td>2017-07-31 00:18:03 +0000</td>\n",
       "      <td>&lt;a href=\"http://twitter.com/download/iphone\" r...</td>\n",
       "      <td>This is Archie. He is a rare Norwegian Pouncin...</td>\n",
       "      <td>NaN</td>\n",
       "      <td>NaN</td>\n",
       "      <td>NaN</td>\n",
       "      <td>https://twitter.com/dog_rates/status/891815181...</td>\n",
       "      <td>12</td>\n",
       "      <td>10</td>\n",
       "      <td>Archie</td>\n",
       "      <td>None</td>\n",
       "      <td>None</td>\n",
       "      <td>None</td>\n",
       "      <td>None</td>\n",
       "    </tr>\n",
       "    <tr>\n",
       "      <th>3</th>\n",
       "      <td>891689557279858688</td>\n",
       "      <td>NaN</td>\n",
       "      <td>NaN</td>\n",
       "      <td>2017-07-30 15:58:51 +0000</td>\n",
       "      <td>&lt;a href=\"http://twitter.com/download/iphone\" r...</td>\n",
       "      <td>This is Darla. She commenced a snooze mid meal...</td>\n",
       "      <td>NaN</td>\n",
       "      <td>NaN</td>\n",
       "      <td>NaN</td>\n",
       "      <td>https://twitter.com/dog_rates/status/891689557...</td>\n",
       "      <td>13</td>\n",
       "      <td>10</td>\n",
       "      <td>Darla</td>\n",
       "      <td>None</td>\n",
       "      <td>None</td>\n",
       "      <td>None</td>\n",
       "      <td>None</td>\n",
       "    </tr>\n",
       "    <tr>\n",
       "      <th>4</th>\n",
       "      <td>891327558926688256</td>\n",
       "      <td>NaN</td>\n",
       "      <td>NaN</td>\n",
       "      <td>2017-07-29 16:00:24 +0000</td>\n",
       "      <td>&lt;a href=\"http://twitter.com/download/iphone\" r...</td>\n",
       "      <td>This is Franklin. He would like you to stop ca...</td>\n",
       "      <td>NaN</td>\n",
       "      <td>NaN</td>\n",
       "      <td>NaN</td>\n",
       "      <td>https://twitter.com/dog_rates/status/891327558...</td>\n",
       "      <td>12</td>\n",
       "      <td>10</td>\n",
       "      <td>Franklin</td>\n",
       "      <td>None</td>\n",
       "      <td>None</td>\n",
       "      <td>None</td>\n",
       "      <td>None</td>\n",
       "    </tr>\n",
       "  </tbody>\n",
       "</table>\n",
       "</div>"
      ],
      "text/plain": [
       "             tweet_id  in_reply_to_status_id  in_reply_to_user_id  \\\n",
       "0  892420643555336193                    NaN                  NaN   \n",
       "1  892177421306343426                    NaN                  NaN   \n",
       "2  891815181378084864                    NaN                  NaN   \n",
       "3  891689557279858688                    NaN                  NaN   \n",
       "4  891327558926688256                    NaN                  NaN   \n",
       "\n",
       "                   timestamp  \\\n",
       "0  2017-08-01 16:23:56 +0000   \n",
       "1  2017-08-01 00:17:27 +0000   \n",
       "2  2017-07-31 00:18:03 +0000   \n",
       "3  2017-07-30 15:58:51 +0000   \n",
       "4  2017-07-29 16:00:24 +0000   \n",
       "\n",
       "                                              source  \\\n",
       "0  <a href=\"http://twitter.com/download/iphone\" r...   \n",
       "1  <a href=\"http://twitter.com/download/iphone\" r...   \n",
       "2  <a href=\"http://twitter.com/download/iphone\" r...   \n",
       "3  <a href=\"http://twitter.com/download/iphone\" r...   \n",
       "4  <a href=\"http://twitter.com/download/iphone\" r...   \n",
       "\n",
       "                                                text  retweeted_status_id  \\\n",
       "0  This is Phineas. He's a mystical boy. Only eve...                  NaN   \n",
       "1  This is Tilly. She's just checking pup on you....                  NaN   \n",
       "2  This is Archie. He is a rare Norwegian Pouncin...                  NaN   \n",
       "3  This is Darla. She commenced a snooze mid meal...                  NaN   \n",
       "4  This is Franklin. He would like you to stop ca...                  NaN   \n",
       "\n",
       "   retweeted_status_user_id retweeted_status_timestamp  \\\n",
       "0                       NaN                        NaN   \n",
       "1                       NaN                        NaN   \n",
       "2                       NaN                        NaN   \n",
       "3                       NaN                        NaN   \n",
       "4                       NaN                        NaN   \n",
       "\n",
       "                                       expanded_urls  rating_numerator  \\\n",
       "0  https://twitter.com/dog_rates/status/892420643...                13   \n",
       "1  https://twitter.com/dog_rates/status/892177421...                13   \n",
       "2  https://twitter.com/dog_rates/status/891815181...                12   \n",
       "3  https://twitter.com/dog_rates/status/891689557...                13   \n",
       "4  https://twitter.com/dog_rates/status/891327558...                12   \n",
       "\n",
       "   rating_denominator      name doggo floofer pupper puppo  \n",
       "0                  10   Phineas  None    None   None  None  \n",
       "1                  10     Tilly  None    None   None  None  \n",
       "2                  10    Archie  None    None   None  None  \n",
       "3                  10     Darla  None    None   None  None  \n",
       "4                  10  Franklin  None    None   None  None  "
      ]
     },
     "execution_count": 11,
     "metadata": {},
     "output_type": "execute_result"
    }
   ],
   "source": [
    "twitter_archive.head()"
   ]
  },
  {
   "cell_type": "markdown",
   "metadata": {},
   "source": [
    "I've used Microsoft Excel to assess twitter_archive data visually.\n",
    "\n",
    "Here are my assessments:\n",
    "- Name column contains words like 'just', 'the', 'a'.\n",
    "- Some tweets have more than 1 dog life stages.\n",
    "- twitter id 786709082849828864 has wrong numerator and denominator. They should be 9.75/10 instead of 75/10.\n",
    "- Extract numerator and denomintor from text columns and replace 'rating_numerator' and 'rating_denominator' with correct ones.\n",
    "- Dog life stage variable is in 4 columns. ('doggo', 'floofer', 'pupper', and 'puppo')\n",
    "\n",
    "Now I will assess twitter_archive data programmatically."
   ]
  },
  {
   "cell_type": "code",
   "execution_count": 12,
   "metadata": {
    "scrolled": false
   },
   "outputs": [
    {
     "name": "stdout",
     "output_type": "stream",
     "text": [
      "<class 'pandas.core.frame.DataFrame'>\n",
      "RangeIndex: 2356 entries, 0 to 2355\n",
      "Data columns (total 17 columns):\n",
      "tweet_id                      2356 non-null int64\n",
      "in_reply_to_status_id         78 non-null float64\n",
      "in_reply_to_user_id           78 non-null float64\n",
      "timestamp                     2356 non-null object\n",
      "source                        2356 non-null object\n",
      "text                          2356 non-null object\n",
      "retweeted_status_id           181 non-null float64\n",
      "retweeted_status_user_id      181 non-null float64\n",
      "retweeted_status_timestamp    181 non-null object\n",
      "expanded_urls                 2297 non-null object\n",
      "rating_numerator              2356 non-null int64\n",
      "rating_denominator            2356 non-null int64\n",
      "name                          2356 non-null object\n",
      "doggo                         2356 non-null object\n",
      "floofer                       2356 non-null object\n",
      "pupper                        2356 non-null object\n",
      "puppo                         2356 non-null object\n",
      "dtypes: float64(4), int64(3), object(10)\n",
      "memory usage: 313.0+ KB\n"
     ]
    }
   ],
   "source": [
    "twitter_archive.info()"
   ]
  },
  {
   "cell_type": "markdown",
   "metadata": {},
   "source": [
    "There are 2356 entries and 17 columns in twitter_archive.\n",
    "\n",
    "These following columns have missing values: \n",
    " 'in_reply_to_status_id',\n",
    " 'in_reply_to_user_id',\n",
    " 'retweeted_status_id',\n",
    " 'retweeted_status_user_id',\n",
    " 'retweeted_status_timestamp',\n",
    " 'expanded_urls'\n",
    " \n",
    "The data type of 'in_reply_to_status_id', 'in_reply_to_user_id', 'retweeted_status_id', and 'retweeted_status_user_id' columns are float.\n",
    "\n",
    "The data type of the column 'timestamp' and 'retweeted_status_timestamp' are string(object).\n",
    "\n",
    "Since we only want to use original tweets, I will remove 'retweeted_status_id', 'retweeted_status_user_id', and 'retweeted_status_timestamp' columns later."
   ]
  },
  {
   "cell_type": "code",
   "execution_count": 13,
   "metadata": {},
   "outputs": [
    {
     "data": {
      "text/plain": [
       "\"This is Phineas. He's a mystical boy. Only ever appears in the hole of a donut. 13/10 https://t.co/MgUWQ76dJU\""
      ]
     },
     "execution_count": 13,
     "metadata": {},
     "output_type": "execute_result"
    }
   ],
   "source": [
    "twitter_archive['text'][0]"
   ]
  },
  {
   "cell_type": "markdown",
   "metadata": {},
   "source": [
    "Text column contains text, numerator, denominator, and short-url."
   ]
  },
  {
   "cell_type": "code",
   "execution_count": 14,
   "metadata": {
    "scrolled": true
   },
   "outputs": [
    {
     "data": {
      "text/plain": [
       "'<a href=\"http://twitter.com/download/iphone\" rel=\"nofollow\">Twitter for iPhone</a>'"
      ]
     },
     "execution_count": 14,
     "metadata": {},
     "output_type": "execute_result"
    }
   ],
   "source": [
    "twitter_archive['source'][0]"
   ]
  },
  {
   "cell_type": "raw",
   "metadata": {},
   "source": [
    "Source column contains unnecessary and extra information."
   ]
  },
  {
   "cell_type": "code",
   "execution_count": 15,
   "metadata": {},
   "outputs": [
    {
     "data": {
      "text/plain": [
       "0"
      ]
     },
     "execution_count": 15,
     "metadata": {},
     "output_type": "execute_result"
    }
   ],
   "source": [
    "sum(twitter_archive['tweet_id'].duplicated())"
   ]
  },
  {
   "cell_type": "markdown",
   "metadata": {},
   "source": [
    "There is no duplicated tweet_id."
   ]
  },
  {
   "cell_type": "code",
   "execution_count": 16,
   "metadata": {},
   "outputs": [
    {
     "data": {
      "text/plain": [
       "None     2259\n",
       "doggo      97\n",
       "Name: doggo, dtype: int64"
      ]
     },
     "execution_count": 16,
     "metadata": {},
     "output_type": "execute_result"
    }
   ],
   "source": [
    "twitter_archive['doggo'].value_counts()"
   ]
  },
  {
   "cell_type": "code",
   "execution_count": 17,
   "metadata": {},
   "outputs": [
    {
     "data": {
      "text/plain": [
       "None       2346\n",
       "floofer      10\n",
       "Name: floofer, dtype: int64"
      ]
     },
     "execution_count": 17,
     "metadata": {},
     "output_type": "execute_result"
    }
   ],
   "source": [
    "twitter_archive['floofer'].value_counts()"
   ]
  },
  {
   "cell_type": "code",
   "execution_count": 18,
   "metadata": {},
   "outputs": [
    {
     "data": {
      "text/plain": [
       "None      2099\n",
       "pupper     257\n",
       "Name: pupper, dtype: int64"
      ]
     },
     "execution_count": 18,
     "metadata": {},
     "output_type": "execute_result"
    }
   ],
   "source": [
    "twitter_archive['pupper'].value_counts()"
   ]
  },
  {
   "cell_type": "code",
   "execution_count": 19,
   "metadata": {},
   "outputs": [
    {
     "data": {
      "text/plain": [
       "None     2326\n",
       "puppo      30\n",
       "Name: puppo, dtype: int64"
      ]
     },
     "execution_count": 19,
     "metadata": {},
     "output_type": "execute_result"
    }
   ],
   "source": [
    "twitter_archive['puppo'].value_counts()"
   ]
  },
  {
   "cell_type": "markdown",
   "metadata": {},
   "source": [
    "The columns 'doggo', 'floofer', 'pupper', and 'puppo' only containts its own value and 'None'."
   ]
  },
  {
   "cell_type": "code",
   "execution_count": 20,
   "metadata": {
    "scrolled": true
   },
   "outputs": [
    {
     "data": {
      "text/plain": [
       "12      558\n",
       "11      464\n",
       "10      461\n",
       "13      351\n",
       "9       158\n",
       "8       102\n",
       "7        55\n",
       "14       54\n",
       "5        37\n",
       "6        32\n",
       "3        19\n",
       "4        17\n",
       "1         9\n",
       "2         9\n",
       "420       2\n",
       "0         2\n",
       "15        2\n",
       "75        2\n",
       "80        1\n",
       "20        1\n",
       "24        1\n",
       "26        1\n",
       "44        1\n",
       "50        1\n",
       "60        1\n",
       "165       1\n",
       "84        1\n",
       "88        1\n",
       "144       1\n",
       "182       1\n",
       "143       1\n",
       "666       1\n",
       "960       1\n",
       "1776      1\n",
       "17        1\n",
       "27        1\n",
       "45        1\n",
       "99        1\n",
       "121       1\n",
       "204       1\n",
       "Name: rating_numerator, dtype: int64"
      ]
     },
     "execution_count": 20,
     "metadata": {},
     "output_type": "execute_result"
    }
   ],
   "source": [
    "twitter_archive['rating_numerator'].value_counts()"
   ]
  },
  {
   "cell_type": "markdown",
   "metadata": {},
   "source": [
    "Checking tweets with numerator == 0."
   ]
  },
  {
   "cell_type": "code",
   "execution_count": 21,
   "metadata": {},
   "outputs": [],
   "source": [
    "# Set max_colwidth so that the context of 'text' column won't be truncated.\n",
    "pd.set_option('max_colwidth',150)"
   ]
  },
  {
   "cell_type": "code",
   "execution_count": 22,
   "metadata": {},
   "outputs": [
    {
     "data": {
      "text/plain": [
       "315           When you're so blinded by your systematic plagiarism that you forget what day it is. 0/10 https://t.co/YbEJPkg4Ag\n",
       "1016    PUPDATE: can't see any. Even if I could, I couldn't reach them to pet. 0/10 much disappointment https://t.co/c7WXaB2nqX\n",
       "Name: text, dtype: object"
      ]
     },
     "execution_count": 22,
     "metadata": {},
     "output_type": "execute_result"
    }
   ],
   "source": [
    "twitter_archive[twitter_archive['rating_numerator'] == 0]['text']"
   ]
  },
  {
   "cell_type": "markdown",
   "metadata": {},
   "source": [
    "0 seem to be a valid numerator."
   ]
  },
  {
   "cell_type": "markdown",
   "metadata": {},
   "source": [
    "Checking tweets with numerator which are greater than 100."
   ]
  },
  {
   "cell_type": "code",
   "execution_count": 23,
   "metadata": {
    "scrolled": true
   },
   "outputs": [
    {
     "data": {
      "text/plain": [
       "188                                                           @dhmontgomery We also gave snoop dogg a 420/10 but I think that predated your research\n",
       "189            @s8n You tried very hard to portray this good boy as not so good, but you have ultimately failed. His goodness shines through. 666/10\n",
       "290                                                                                                                               @markhoppus 182/10\n",
       "313                                               @jonnysun @Lin_Manuel ok jomny I know you're excited but 960/00 isn't a valid rating, 13/10 is tho\n",
       "902                                                                   Why does this never happen at my front door... 165/150 https://t.co/HmwrdfEfUE\n",
       "979                                                                   This is Atticus. He's quite simply America af. 1776/10 https://t.co/GRXwMxLBkh\n",
       "1120                       Say hello to this unbelievably well behaved squad of doggos. 204/170 would try to pet all at once https://t.co/yGQI3He3xv\n",
       "1634                  Two sneaky puppers were not initially seen, moving the rating to 143/130. Please forgive us. Thank you https://t.co/kRK51Y5ac3\n",
       "1635    Someone help the girl is being mugged. Several are distracting her while two steal her shoes. Clever puppers 121/110 https://t.co/1zfnTJLt55\n",
       "1779                                                                          IT'S PUPPERGEDDON. Total of 144/120 ...I think https://t.co/ZanVtAtvIq\n",
       "2074                                                             After so many requests... here you go.\\n\\nGood dogg. 420/10 https://t.co/yfAAo1gdeY\n",
       "Name: text, dtype: object"
      ]
     },
     "execution_count": 23,
     "metadata": {},
     "output_type": "execute_result"
    }
   ],
   "source": [
    "twitter_archive[twitter_archive['rating_numerator'] > 100]['text']"
   ]
  },
  {
   "cell_type": "markdown",
   "metadata": {},
   "source": [
    "These large numerators seem to be valid also."
   ]
  },
  {
   "cell_type": "code",
   "execution_count": 24,
   "metadata": {},
   "outputs": [
    {
     "data": {
      "text/plain": [
       "10     2333\n",
       "11        3\n",
       "50        3\n",
       "80        2\n",
       "20        2\n",
       "2         1\n",
       "16        1\n",
       "40        1\n",
       "70        1\n",
       "15        1\n",
       "90        1\n",
       "110       1\n",
       "120       1\n",
       "130       1\n",
       "150       1\n",
       "170       1\n",
       "7         1\n",
       "0         1\n",
       "Name: rating_denominator, dtype: int64"
      ]
     },
     "execution_count": 24,
     "metadata": {},
     "output_type": "execute_result"
    }
   ],
   "source": [
    "twitter_archive['rating_denominator'].value_counts()"
   ]
  },
  {
   "cell_type": "markdown",
   "metadata": {},
   "source": [
    "There is 1 record contains denominator 0."
   ]
  },
  {
   "cell_type": "code",
   "execution_count": 25,
   "metadata": {},
   "outputs": [
    {
     "data": {
      "text/plain": [
       "313    @jonnysun @Lin_Manuel ok jomny I know you're excited but 960/00 isn't a valid rating, 13/10 is tho\n",
       "Name: text, dtype: object"
      ]
     },
     "execution_count": 25,
     "metadata": {},
     "output_type": "execute_result"
    }
   ],
   "source": [
    "twitter_archive[twitter_archive['rating_denominator'] == 0]['text']"
   ]
  },
  {
   "cell_type": "markdown",
   "metadata": {},
   "source": [
    "twitter id 835246439529840640 has wrong numerator and denominator. They should be 13/10 instead of 960/0."
   ]
  },
  {
   "cell_type": "markdown",
   "metadata": {},
   "source": [
    "#### `image_predictions` table"
   ]
  },
  {
   "cell_type": "code",
   "execution_count": 26,
   "metadata": {
    "scrolled": true
   },
   "outputs": [
    {
     "data": {
      "text/html": [
       "<div>\n",
       "<style scoped>\n",
       "    .dataframe tbody tr th:only-of-type {\n",
       "        vertical-align: middle;\n",
       "    }\n",
       "\n",
       "    .dataframe tbody tr th {\n",
       "        vertical-align: top;\n",
       "    }\n",
       "\n",
       "    .dataframe thead th {\n",
       "        text-align: right;\n",
       "    }\n",
       "</style>\n",
       "<table border=\"1\" class=\"dataframe\">\n",
       "  <thead>\n",
       "    <tr style=\"text-align: right;\">\n",
       "      <th></th>\n",
       "      <th>tweet_id</th>\n",
       "      <th>jpg_url</th>\n",
       "      <th>img_num</th>\n",
       "      <th>p1</th>\n",
       "      <th>p1_conf</th>\n",
       "      <th>p1_dog</th>\n",
       "      <th>p2</th>\n",
       "      <th>p2_conf</th>\n",
       "      <th>p2_dog</th>\n",
       "      <th>p3</th>\n",
       "      <th>p3_conf</th>\n",
       "      <th>p3_dog</th>\n",
       "    </tr>\n",
       "  </thead>\n",
       "  <tbody>\n",
       "    <tr>\n",
       "      <th>0</th>\n",
       "      <td>666020888022790149</td>\n",
       "      <td>https://pbs.twimg.com/media/CT4udn0WwAA0aMy.jpg</td>\n",
       "      <td>1</td>\n",
       "      <td>Welsh_springer_spaniel</td>\n",
       "      <td>0.465074</td>\n",
       "      <td>True</td>\n",
       "      <td>collie</td>\n",
       "      <td>0.156665</td>\n",
       "      <td>True</td>\n",
       "      <td>Shetland_sheepdog</td>\n",
       "      <td>0.061428</td>\n",
       "      <td>True</td>\n",
       "    </tr>\n",
       "    <tr>\n",
       "      <th>1</th>\n",
       "      <td>666029285002620928</td>\n",
       "      <td>https://pbs.twimg.com/media/CT42GRgUYAA5iDo.jpg</td>\n",
       "      <td>1</td>\n",
       "      <td>redbone</td>\n",
       "      <td>0.506826</td>\n",
       "      <td>True</td>\n",
       "      <td>miniature_pinscher</td>\n",
       "      <td>0.074192</td>\n",
       "      <td>True</td>\n",
       "      <td>Rhodesian_ridgeback</td>\n",
       "      <td>0.072010</td>\n",
       "      <td>True</td>\n",
       "    </tr>\n",
       "    <tr>\n",
       "      <th>2</th>\n",
       "      <td>666033412701032449</td>\n",
       "      <td>https://pbs.twimg.com/media/CT4521TWwAEvMyu.jpg</td>\n",
       "      <td>1</td>\n",
       "      <td>German_shepherd</td>\n",
       "      <td>0.596461</td>\n",
       "      <td>True</td>\n",
       "      <td>malinois</td>\n",
       "      <td>0.138584</td>\n",
       "      <td>True</td>\n",
       "      <td>bloodhound</td>\n",
       "      <td>0.116197</td>\n",
       "      <td>True</td>\n",
       "    </tr>\n",
       "    <tr>\n",
       "      <th>3</th>\n",
       "      <td>666044226329800704</td>\n",
       "      <td>https://pbs.twimg.com/media/CT5Dr8HUEAA-lEu.jpg</td>\n",
       "      <td>1</td>\n",
       "      <td>Rhodesian_ridgeback</td>\n",
       "      <td>0.408143</td>\n",
       "      <td>True</td>\n",
       "      <td>redbone</td>\n",
       "      <td>0.360687</td>\n",
       "      <td>True</td>\n",
       "      <td>miniature_pinscher</td>\n",
       "      <td>0.222752</td>\n",
       "      <td>True</td>\n",
       "    </tr>\n",
       "    <tr>\n",
       "      <th>4</th>\n",
       "      <td>666049248165822465</td>\n",
       "      <td>https://pbs.twimg.com/media/CT5IQmsXIAAKY4A.jpg</td>\n",
       "      <td>1</td>\n",
       "      <td>miniature_pinscher</td>\n",
       "      <td>0.560311</td>\n",
       "      <td>True</td>\n",
       "      <td>Rottweiler</td>\n",
       "      <td>0.243682</td>\n",
       "      <td>True</td>\n",
       "      <td>Doberman</td>\n",
       "      <td>0.154629</td>\n",
       "      <td>True</td>\n",
       "    </tr>\n",
       "  </tbody>\n",
       "</table>\n",
       "</div>"
      ],
      "text/plain": [
       "             tweet_id                                          jpg_url  \\\n",
       "0  666020888022790149  https://pbs.twimg.com/media/CT4udn0WwAA0aMy.jpg   \n",
       "1  666029285002620928  https://pbs.twimg.com/media/CT42GRgUYAA5iDo.jpg   \n",
       "2  666033412701032449  https://pbs.twimg.com/media/CT4521TWwAEvMyu.jpg   \n",
       "3  666044226329800704  https://pbs.twimg.com/media/CT5Dr8HUEAA-lEu.jpg   \n",
       "4  666049248165822465  https://pbs.twimg.com/media/CT5IQmsXIAAKY4A.jpg   \n",
       "\n",
       "   img_num                      p1   p1_conf  p1_dog                  p2  \\\n",
       "0        1  Welsh_springer_spaniel  0.465074    True              collie   \n",
       "1        1                 redbone  0.506826    True  miniature_pinscher   \n",
       "2        1         German_shepherd  0.596461    True            malinois   \n",
       "3        1     Rhodesian_ridgeback  0.408143    True             redbone   \n",
       "4        1      miniature_pinscher  0.560311    True          Rottweiler   \n",
       "\n",
       "    p2_conf  p2_dog                   p3   p3_conf  p3_dog  \n",
       "0  0.156665    True    Shetland_sheepdog  0.061428    True  \n",
       "1  0.074192    True  Rhodesian_ridgeback  0.072010    True  \n",
       "2  0.138584    True           bloodhound  0.116197    True  \n",
       "3  0.360687    True   miniature_pinscher  0.222752    True  \n",
       "4  0.243682    True             Doberman  0.154629    True  "
      ]
     },
     "execution_count": 26,
     "metadata": {},
     "output_type": "execute_result"
    }
   ],
   "source": [
    "image_predictions.head()"
   ]
  },
  {
   "cell_type": "markdown",
   "metadata": {},
   "source": [
    "The format of predicted dog breeds in column p1, p2, and p3 are not consistent. \n",
    "Some are all lower cases, some use dash instead of underscore, etc.\n",
    "\n",
    "\n",
    "'pg_url', 'img_num', 'p1', 'p1_conf', 'p1_dog', 'p2', 'p2_conf', 'p2_dog', 'p3', 'p3_conf', and 'p3_dog' should be part of the twitter_archive table."
   ]
  },
  {
   "cell_type": "code",
   "execution_count": 27,
   "metadata": {
    "scrolled": false
   },
   "outputs": [
    {
     "name": "stdout",
     "output_type": "stream",
     "text": [
      "<class 'pandas.core.frame.DataFrame'>\n",
      "RangeIndex: 2075 entries, 0 to 2074\n",
      "Data columns (total 12 columns):\n",
      "tweet_id    2075 non-null int64\n",
      "jpg_url     2075 non-null object\n",
      "img_num     2075 non-null int64\n",
      "p1          2075 non-null object\n",
      "p1_conf     2075 non-null float64\n",
      "p1_dog      2075 non-null bool\n",
      "p2          2075 non-null object\n",
      "p2_conf     2075 non-null float64\n",
      "p2_dog      2075 non-null bool\n",
      "p3          2075 non-null object\n",
      "p3_conf     2075 non-null float64\n",
      "p3_dog      2075 non-null bool\n",
      "dtypes: bool(3), float64(3), int64(2), object(4)\n",
      "memory usage: 152.1+ KB\n"
     ]
    }
   ],
   "source": [
    "image_predictions.info()"
   ]
  },
  {
   "cell_type": "markdown",
   "metadata": {},
   "source": [
    "There are 2075 entries and 12 columns in image_prediction table. No data is missing."
   ]
  },
  {
   "cell_type": "code",
   "execution_count": 28,
   "metadata": {},
   "outputs": [
    {
     "data": {
      "text/plain": [
       "0"
      ]
     },
     "execution_count": 28,
     "metadata": {},
     "output_type": "execute_result"
    }
   ],
   "source": [
    "sum(image_predictions['tweet_id'].duplicated())"
   ]
  },
  {
   "cell_type": "markdown",
   "metadata": {},
   "source": [
    "There is no duplicated tweet_id."
   ]
  },
  {
   "cell_type": "code",
   "execution_count": 29,
   "metadata": {},
   "outputs": [
    {
     "data": {
      "text/plain": [
       "0"
      ]
     },
     "execution_count": 29,
     "metadata": {},
     "output_type": "execute_result"
    }
   ],
   "source": [
    "sum(image_predictions['p1_conf'] > 1) + sum(image_predictions['p2_conf'] > 1) + sum(image_predictions['p3_conf'] > 1)"
   ]
  },
  {
   "cell_type": "markdown",
   "metadata": {},
   "source": [
    "Confidence values do not exceed more than 1 for p1, p2, and p3."
   ]
  },
  {
   "cell_type": "markdown",
   "metadata": {},
   "source": [
    "#### `additional_data` table"
   ]
  },
  {
   "cell_type": "code",
   "execution_count": 30,
   "metadata": {
    "scrolled": true
   },
   "outputs": [
    {
     "data": {
      "text/html": [
       "<div>\n",
       "<style scoped>\n",
       "    .dataframe tbody tr th:only-of-type {\n",
       "        vertical-align: middle;\n",
       "    }\n",
       "\n",
       "    .dataframe tbody tr th {\n",
       "        vertical-align: top;\n",
       "    }\n",
       "\n",
       "    .dataframe thead th {\n",
       "        text-align: right;\n",
       "    }\n",
       "</style>\n",
       "<table border=\"1\" class=\"dataframe\">\n",
       "  <thead>\n",
       "    <tr style=\"text-align: right;\">\n",
       "      <th></th>\n",
       "      <th>tweet_id</th>\n",
       "      <th>retweet_count</th>\n",
       "      <th>favorite_count</th>\n",
       "    </tr>\n",
       "  </thead>\n",
       "  <tbody>\n",
       "    <tr>\n",
       "      <th>0</th>\n",
       "      <td>876484053909872640</td>\n",
       "      <td>2427</td>\n",
       "      <td>18769</td>\n",
       "    </tr>\n",
       "    <tr>\n",
       "      <th>1</th>\n",
       "      <td>886366144734445568</td>\n",
       "      <td>3214</td>\n",
       "      <td>21167</td>\n",
       "    </tr>\n",
       "    <tr>\n",
       "      <th>2</th>\n",
       "      <td>877611172832227328</td>\n",
       "      <td>81</td>\n",
       "      <td>0</td>\n",
       "    </tr>\n",
       "    <tr>\n",
       "      <th>3</th>\n",
       "      <td>888078434458587136</td>\n",
       "      <td>3515</td>\n",
       "      <td>21723</td>\n",
       "    </tr>\n",
       "    <tr>\n",
       "      <th>4</th>\n",
       "      <td>891689557279858688</td>\n",
       "      <td>8693</td>\n",
       "      <td>42139</td>\n",
       "    </tr>\n",
       "  </tbody>\n",
       "</table>\n",
       "</div>"
      ],
      "text/plain": [
       "             tweet_id  retweet_count  favorite_count\n",
       "0  876484053909872640           2427           18769\n",
       "1  886366144734445568           3214           21167\n",
       "2  877611172832227328             81               0\n",
       "3  888078434458587136           3515           21723\n",
       "4  891689557279858688           8693           42139"
      ]
     },
     "execution_count": 30,
     "metadata": {},
     "output_type": "execute_result"
    }
   ],
   "source": [
    "additional_data.head()"
   ]
  },
  {
   "cell_type": "markdown",
   "metadata": {},
   "source": [
    "'retweet_count' and 'favorite_count' should be part of the twitter_archive table"
   ]
  },
  {
   "cell_type": "code",
   "execution_count": 31,
   "metadata": {
    "scrolled": true
   },
   "outputs": [
    {
     "name": "stdout",
     "output_type": "stream",
     "text": [
      "<class 'pandas.core.frame.DataFrame'>\n",
      "RangeIndex: 2345 entries, 0 to 2344\n",
      "Data columns (total 3 columns):\n",
      "tweet_id          2345 non-null int64\n",
      "retweet_count     2345 non-null int64\n",
      "favorite_count    2345 non-null int64\n",
      "dtypes: int64(3)\n",
      "memory usage: 55.0 KB\n"
     ]
    }
   ],
   "source": [
    "additional_data.info()"
   ]
  },
  {
   "cell_type": "markdown",
   "metadata": {},
   "source": [
    "There are 2175 entries and 3 columns in additional_data table.  No is data missing."
   ]
  },
  {
   "cell_type": "code",
   "execution_count": 32,
   "metadata": {
    "scrolled": true
   },
   "outputs": [
    {
     "data": {
      "text/plain": [
       "0"
      ]
     },
     "execution_count": 32,
     "metadata": {},
     "output_type": "execute_result"
    }
   ],
   "source": [
    "sum(additional_data['tweet_id'].duplicated())"
   ]
  },
  {
   "cell_type": "markdown",
   "metadata": {},
   "source": [
    "There is no duplicated tweet_id."
   ]
  },
  {
   "cell_type": "code",
   "execution_count": 33,
   "metadata": {},
   "outputs": [
    {
     "data": {
      "text/plain": [
       "1"
      ]
     },
     "execution_count": 33,
     "metadata": {},
     "output_type": "execute_result"
    }
   ],
   "source": [
    "sum(additional_data['retweet_count'] == 0)"
   ]
  },
  {
   "cell_type": "code",
   "execution_count": 34,
   "metadata": {
    "scrolled": true
   },
   "outputs": [
    {
     "data": {
      "text/plain": [
       "170"
      ]
     },
     "execution_count": 34,
     "metadata": {},
     "output_type": "execute_result"
    }
   ],
   "source": [
    "sum(additional_data['favorite_count'] == 0)"
   ]
  },
  {
   "cell_type": "markdown",
   "metadata": {},
   "source": [
    "There is 1 tweet which has retweet_count 0 and 170 tweets which have favorite_count 0.<br/>\n",
    "They could be valid data as unpopular tweet could have 0 retweet and favorite vote, but further investigation is needed."
   ]
  },
  {
   "cell_type": "markdown",
   "metadata": {},
   "source": [
    "### Quality"
   ]
  },
  {
   "cell_type": "markdown",
   "metadata": {},
   "source": [
    "##### `twitter_archive` table\n",
    "- Dataset contains retweets in addition to original tweets.\n",
    "- 'retweeted_status_id', 'retweeted_status_user_id', and 'retweeted_status_timestamp' columns are not needed.\n",
    "- Missing data : 'in_reply_to_status_id', 'in_reply_to_user_id', and 'expanded_urls'\n",
    "- Source column contains unnecessary and extra information\n",
    "- Name column contains words like 'just', 'the', 'a'.\n",
    "- Some tweets have more than 1 dog life stages.\n",
    "- Erroneous datatypes : 'in_reply_to_status_id' and 'in_reply_to_user_id' are float.\n",
    "- Erroneous datatypes : 'timestamp' is string(object).\n",
    "- Erroneous datatypes : 'doggo', 'floofer', 'pupper', and 'puppo' only containts its own value and 'None'.\n",
    "- Extract numerator and denomintor from text columns and replace 'rating_numerator' and 'rating_denominator' with correct ones.\n",
    "- Text column contains text, numerator, denominator, and short-url.\n",
    "- twitter id 835246439529840640 has wrong numerator and denominator. They should be 13/10 instead of 960/0.\n",
    "- twitter id 786709082849828864 has wrong numerator and denominator. They should be 10/10 instead of 75/10."
   ]
  },
  {
   "cell_type": "markdown",
   "metadata": {},
   "source": [
    "##### `image_predictions` table\n",
    "- The format of predicted dog breeds in column p1, p2, and p3 are not consistent.  Some are all lower cases, some use dash instead of underscore, etc. "
   ]
  },
  {
   "cell_type": "markdown",
   "metadata": {},
   "source": [
    "##### `additional_data` table"
   ]
  },
  {
   "cell_type": "markdown",
   "metadata": {},
   "source": [
    "- There is 1 tweet which has retweet_count 0 and 170 tweets which have favorite_count 0. They could be valid data."
   ]
  },
  {
   "cell_type": "markdown",
   "metadata": {},
   "source": [
    "### Tidiness"
   ]
  },
  {
   "cell_type": "markdown",
   "metadata": {},
   "source": [
    "##### `twitter_archive` table\n",
    "- Dog life stage variable is in 4 columns."
   ]
  },
  {
   "cell_type": "markdown",
   "metadata": {},
   "source": [
    "##### `image_predictions` table\n",
    "- 'pg_url', 'img_num', 'p1', 'p1_conf', 'p1_dog', 'p2', 'p2_conf', 'p2_dog', 'p3', 'p3_conf', and 'p3_dog' should be part of the twitter_archive table."
   ]
  },
  {
   "cell_type": "markdown",
   "metadata": {},
   "source": [
    "##### `additional_data` table\n",
    "- 'retweet_count' and 'favorite_count' should be part of the twitter_archive table"
   ]
  },
  {
   "cell_type": "markdown",
   "metadata": {},
   "source": [
    "<a id='clean'></a>\n",
    "## Clean Data"
   ]
  },
  {
   "cell_type": "markdown",
   "metadata": {},
   "source": [
    "Prior to cleaning, copies of the original data are made."
   ]
  },
  {
   "cell_type": "code",
   "execution_count": 35,
   "metadata": {},
   "outputs": [],
   "source": [
    "# Copy original dataframes to clean versions\n",
    "twitter_archive_clean = twitter_archive.copy()\n",
    "image_predictions_clean = image_predictions.copy()\n",
    "additional_data_clean = additional_data.copy()"
   ]
  },
  {
   "cell_type": "markdown",
   "metadata": {},
   "source": [
    "### Quality"
   ]
  },
  {
   "cell_type": "markdown",
   "metadata": {},
   "source": [
    "###### `twitter_archive` : Dataset contains retweets in addition to original tweets."
   ]
  },
  {
   "cell_type": "markdown",
   "metadata": {},
   "source": [
    "###### Define\n",
    "Remove retweets since we only want original tweets. "
   ]
  },
  {
   "cell_type": "markdown",
   "metadata": {},
   "source": [
    "###### Code"
   ]
  },
  {
   "cell_type": "code",
   "execution_count": 36,
   "metadata": {
    "scrolled": true
   },
   "outputs": [
    {
     "data": {
      "text/plain": [
       "181"
      ]
     },
     "execution_count": 36,
     "metadata": {},
     "output_type": "execute_result"
    }
   ],
   "source": [
    "sum(twitter_archive_clean['retweeted_status_id'].notnull())"
   ]
  },
  {
   "cell_type": "markdown",
   "metadata": {},
   "source": [
    "There are 181 retweet entries."
   ]
  },
  {
   "cell_type": "code",
   "execution_count": 37,
   "metadata": {},
   "outputs": [],
   "source": [
    "# Excluding retweets since we only want original tweets. \n",
    "twitter_archive_clean = twitter_archive_clean[twitter_archive_clean['retweeted_status_id'].isnull()]\n",
    "# Reset index\n",
    "twitter_archive_clean = twitter_archive_clean.reset_index(drop=True)"
   ]
  },
  {
   "cell_type": "markdown",
   "metadata": {},
   "source": [
    "###### Test"
   ]
  },
  {
   "cell_type": "code",
   "execution_count": 38,
   "metadata": {
    "scrolled": true
   },
   "outputs": [
    {
     "name": "stdout",
     "output_type": "stream",
     "text": [
      "<class 'pandas.core.frame.DataFrame'>\n",
      "RangeIndex: 2175 entries, 0 to 2174\n",
      "Data columns (total 17 columns):\n",
      "tweet_id                      2175 non-null int64\n",
      "in_reply_to_status_id         78 non-null float64\n",
      "in_reply_to_user_id           78 non-null float64\n",
      "timestamp                     2175 non-null object\n",
      "source                        2175 non-null object\n",
      "text                          2175 non-null object\n",
      "retweeted_status_id           0 non-null float64\n",
      "retweeted_status_user_id      0 non-null float64\n",
      "retweeted_status_timestamp    0 non-null object\n",
      "expanded_urls                 2117 non-null object\n",
      "rating_numerator              2175 non-null int64\n",
      "rating_denominator            2175 non-null int64\n",
      "name                          2175 non-null object\n",
      "doggo                         2175 non-null object\n",
      "floofer                       2175 non-null object\n",
      "pupper                        2175 non-null object\n",
      "puppo                         2175 non-null object\n",
      "dtypes: float64(4), int64(3), object(10)\n",
      "memory usage: 288.9+ KB\n"
     ]
    }
   ],
   "source": [
    "twitter_archive_clean.info()"
   ]
  },
  {
   "cell_type": "markdown",
   "metadata": {},
   "source": [
    "Retweets are dropped. (2356 - 181 = 2175)"
   ]
  },
  {
   "cell_type": "markdown",
   "metadata": {},
   "source": [
    "### Quality"
   ]
  },
  {
   "cell_type": "markdown",
   "metadata": {},
   "source": [
    "###### `twitter_archive` : 'retweeted_status_id', 'retweeted_status_user_id', and 'retweeted_status_timestamp' columns are not needed."
   ]
  },
  {
   "cell_type": "markdown",
   "metadata": {},
   "source": [
    "###### Define\n",
    "Delete 'retweeted_status_id', 'retweeted_status_user_id', and 'retweeted_status_timestamp' columns"
   ]
  },
  {
   "cell_type": "markdown",
   "metadata": {},
   "source": [
    "###### Code"
   ]
  },
  {
   "cell_type": "code",
   "execution_count": 39,
   "metadata": {},
   "outputs": [],
   "source": [
    "twitter_archive_clean.drop(['retweeted_status_id', 'retweeted_status_user_id', 'retweeted_status_timestamp'], axis=1, inplace=True)"
   ]
  },
  {
   "cell_type": "markdown",
   "metadata": {},
   "source": [
    "###### Test"
   ]
  },
  {
   "cell_type": "code",
   "execution_count": 40,
   "metadata": {},
   "outputs": [
    {
     "name": "stdout",
     "output_type": "stream",
     "text": [
      "<class 'pandas.core.frame.DataFrame'>\n",
      "RangeIndex: 2175 entries, 0 to 2174\n",
      "Data columns (total 14 columns):\n",
      "tweet_id                 2175 non-null int64\n",
      "in_reply_to_status_id    78 non-null float64\n",
      "in_reply_to_user_id      78 non-null float64\n",
      "timestamp                2175 non-null object\n",
      "source                   2175 non-null object\n",
      "text                     2175 non-null object\n",
      "expanded_urls            2117 non-null object\n",
      "rating_numerator         2175 non-null int64\n",
      "rating_denominator       2175 non-null int64\n",
      "name                     2175 non-null object\n",
      "doggo                    2175 non-null object\n",
      "floofer                  2175 non-null object\n",
      "pupper                   2175 non-null object\n",
      "puppo                    2175 non-null object\n",
      "dtypes: float64(2), int64(3), object(9)\n",
      "memory usage: 238.0+ KB\n"
     ]
    }
   ],
   "source": [
    "twitter_archive_clean.info()"
   ]
  },
  {
   "cell_type": "markdown",
   "metadata": {},
   "source": [
    "'retweeted_status_id', 'retweeted_status_user_id', and 'retweeted_status_timestamp' are dropped."
   ]
  },
  {
   "cell_type": "markdown",
   "metadata": {},
   "source": [
    "### Missing Data"
   ]
  },
  {
   "cell_type": "markdown",
   "metadata": {},
   "source": [
    "###### `twitter_archive` : Missing data in columns 'in_reply_to_status_id', 'in_reply_to_user_id', and 'expanded_urls' "
   ]
  },
  {
   "cell_type": "markdown",
   "metadata": {},
   "source": [
    "###### Define\n",
    "Unless a tweet has reply, values for 'in_reply_to_status_id' and 'in_reply_to_user_id' columns will not be present. This issue will not be fixed.\n",
    "\n",
    "'extended_url' is missing because it's missing a short-url in text column. There must be a way to get an extended_url from twetter_id.  However, I will not be using 'extended_url' for my analysis nor visualization, so I am going to delete it."
   ]
  },
  {
   "cell_type": "markdown",
   "metadata": {},
   "source": [
    "###### Code"
   ]
  },
  {
   "cell_type": "code",
   "execution_count": 41,
   "metadata": {},
   "outputs": [],
   "source": [
    "twitter_archive_clean = twitter_archive_clean.drop('expanded_urls', axis=1)"
   ]
  },
  {
   "cell_type": "markdown",
   "metadata": {},
   "source": [
    "###### Test"
   ]
  },
  {
   "cell_type": "code",
   "execution_count": 42,
   "metadata": {
    "scrolled": true
   },
   "outputs": [
    {
     "name": "stdout",
     "output_type": "stream",
     "text": [
      "<class 'pandas.core.frame.DataFrame'>\n",
      "RangeIndex: 2175 entries, 0 to 2174\n",
      "Data columns (total 13 columns):\n",
      "tweet_id                 2175 non-null int64\n",
      "in_reply_to_status_id    78 non-null float64\n",
      "in_reply_to_user_id      78 non-null float64\n",
      "timestamp                2175 non-null object\n",
      "source                   2175 non-null object\n",
      "text                     2175 non-null object\n",
      "rating_numerator         2175 non-null int64\n",
      "rating_denominator       2175 non-null int64\n",
      "name                     2175 non-null object\n",
      "doggo                    2175 non-null object\n",
      "floofer                  2175 non-null object\n",
      "pupper                   2175 non-null object\n",
      "puppo                    2175 non-null object\n",
      "dtypes: float64(2), int64(3), object(8)\n",
      "memory usage: 221.0+ KB\n"
     ]
    }
   ],
   "source": [
    "twitter_archive_clean.info()"
   ]
  },
  {
   "cell_type": "markdown",
   "metadata": {},
   "source": [
    "'extended_url' column is dropped."
   ]
  },
  {
   "cell_type": "markdown",
   "metadata": {},
   "source": [
    "### Tidiness"
   ]
  },
  {
   "cell_type": "markdown",
   "metadata": {},
   "source": [
    "###### `twitter_archive` : Dog life stage variable is in 4 columns."
   ]
  },
  {
   "cell_type": "markdown",
   "metadata": {},
   "source": [
    "###### Define\n",
    "Melt 'doggo', 'floofer', 'pupper', and 'puppo' columns to a 'life_stage' column. Drop the immediate 'life_stage_category' column."
   ]
  },
  {
   "cell_type": "markdown",
   "metadata": {},
   "source": [
    "###### Code"
   ]
  },
  {
   "cell_type": "code",
   "execution_count": 43,
   "metadata": {},
   "outputs": [],
   "source": [
    "twitter_archive_clean = pd.melt(twitter_archive_clean, id_vars=[\n",
    "    'tweet_id',\n",
    "    'in_reply_to_status_id',\n",
    "    'in_reply_to_user_id',\n",
    "    'timestamp',\n",
    "    'source',\n",
    "    'text',\n",
    "    'rating_numerator',\n",
    "    'rating_denominator',\n",
    "    'name'\n",
    "    ],\n",
    "    value_vars=['doggo', 'floofer', 'pupper', 'puppo'], var_name='life_stage_category', value_name='life_stage')"
   ]
  },
  {
   "cell_type": "code",
   "execution_count": 44,
   "metadata": {
    "scrolled": true
   },
   "outputs": [
    {
     "data": {
      "text/html": [
       "<div>\n",
       "<style scoped>\n",
       "    .dataframe tbody tr th:only-of-type {\n",
       "        vertical-align: middle;\n",
       "    }\n",
       "\n",
       "    .dataframe tbody tr th {\n",
       "        vertical-align: top;\n",
       "    }\n",
       "\n",
       "    .dataframe thead th {\n",
       "        text-align: right;\n",
       "    }\n",
       "</style>\n",
       "<table border=\"1\" class=\"dataframe\">\n",
       "  <thead>\n",
       "    <tr style=\"text-align: right;\">\n",
       "      <th></th>\n",
       "      <th>tweet_id</th>\n",
       "      <th>in_reply_to_status_id</th>\n",
       "      <th>in_reply_to_user_id</th>\n",
       "      <th>timestamp</th>\n",
       "      <th>source</th>\n",
       "      <th>text</th>\n",
       "      <th>rating_numerator</th>\n",
       "      <th>rating_denominator</th>\n",
       "      <th>name</th>\n",
       "      <th>life_stage_category</th>\n",
       "      <th>life_stage</th>\n",
       "    </tr>\n",
       "  </thead>\n",
       "  <tbody>\n",
       "    <tr>\n",
       "      <th>0</th>\n",
       "      <td>892420643555336193</td>\n",
       "      <td>NaN</td>\n",
       "      <td>NaN</td>\n",
       "      <td>2017-08-01 16:23:56 +0000</td>\n",
       "      <td>&lt;a href=\"http://twitter.com/download/iphone\" rel=\"nofollow\"&gt;Twitter for iPhone&lt;/a&gt;</td>\n",
       "      <td>This is Phineas. He's a mystical boy. Only ever appears in the hole of a donut. 13/10 https://t.co/MgUWQ76dJU</td>\n",
       "      <td>13</td>\n",
       "      <td>10</td>\n",
       "      <td>Phineas</td>\n",
       "      <td>doggo</td>\n",
       "      <td>None</td>\n",
       "    </tr>\n",
       "    <tr>\n",
       "      <th>1</th>\n",
       "      <td>892177421306343426</td>\n",
       "      <td>NaN</td>\n",
       "      <td>NaN</td>\n",
       "      <td>2017-08-01 00:17:27 +0000</td>\n",
       "      <td>&lt;a href=\"http://twitter.com/download/iphone\" rel=\"nofollow\"&gt;Twitter for iPhone&lt;/a&gt;</td>\n",
       "      <td>This is Tilly. She's just checking pup on you. Hopes you're doing ok. If not, she's available for pats, snugs, boops, the whole bit. 13/10 https:/...</td>\n",
       "      <td>13</td>\n",
       "      <td>10</td>\n",
       "      <td>Tilly</td>\n",
       "      <td>doggo</td>\n",
       "      <td>None</td>\n",
       "    </tr>\n",
       "    <tr>\n",
       "      <th>2</th>\n",
       "      <td>891815181378084864</td>\n",
       "      <td>NaN</td>\n",
       "      <td>NaN</td>\n",
       "      <td>2017-07-31 00:18:03 +0000</td>\n",
       "      <td>&lt;a href=\"http://twitter.com/download/iphone\" rel=\"nofollow\"&gt;Twitter for iPhone&lt;/a&gt;</td>\n",
       "      <td>This is Archie. He is a rare Norwegian Pouncing Corgo. Lives in the tall grass. You never know when one may strike. 12/10 https://t.co/wUnZnhtVJB</td>\n",
       "      <td>12</td>\n",
       "      <td>10</td>\n",
       "      <td>Archie</td>\n",
       "      <td>doggo</td>\n",
       "      <td>None</td>\n",
       "    </tr>\n",
       "    <tr>\n",
       "      <th>3</th>\n",
       "      <td>891689557279858688</td>\n",
       "      <td>NaN</td>\n",
       "      <td>NaN</td>\n",
       "      <td>2017-07-30 15:58:51 +0000</td>\n",
       "      <td>&lt;a href=\"http://twitter.com/download/iphone\" rel=\"nofollow\"&gt;Twitter for iPhone&lt;/a&gt;</td>\n",
       "      <td>This is Darla. She commenced a snooze mid meal. 13/10 happens to the best of us https://t.co/tD36da7qLQ</td>\n",
       "      <td>13</td>\n",
       "      <td>10</td>\n",
       "      <td>Darla</td>\n",
       "      <td>doggo</td>\n",
       "      <td>None</td>\n",
       "    </tr>\n",
       "    <tr>\n",
       "      <th>4</th>\n",
       "      <td>891327558926688256</td>\n",
       "      <td>NaN</td>\n",
       "      <td>NaN</td>\n",
       "      <td>2017-07-29 16:00:24 +0000</td>\n",
       "      <td>&lt;a href=\"http://twitter.com/download/iphone\" rel=\"nofollow\"&gt;Twitter for iPhone&lt;/a&gt;</td>\n",
       "      <td>This is Franklin. He would like you to stop calling him \"cute.\" He is a very fierce shark and should be respected as such. 12/10 #BarkWeek https:/...</td>\n",
       "      <td>12</td>\n",
       "      <td>10</td>\n",
       "      <td>Franklin</td>\n",
       "      <td>doggo</td>\n",
       "      <td>None</td>\n",
       "    </tr>\n",
       "  </tbody>\n",
       "</table>\n",
       "</div>"
      ],
      "text/plain": [
       "             tweet_id  in_reply_to_status_id  in_reply_to_user_id  \\\n",
       "0  892420643555336193                    NaN                  NaN   \n",
       "1  892177421306343426                    NaN                  NaN   \n",
       "2  891815181378084864                    NaN                  NaN   \n",
       "3  891689557279858688                    NaN                  NaN   \n",
       "4  891327558926688256                    NaN                  NaN   \n",
       "\n",
       "                   timestamp  \\\n",
       "0  2017-08-01 16:23:56 +0000   \n",
       "1  2017-08-01 00:17:27 +0000   \n",
       "2  2017-07-31 00:18:03 +0000   \n",
       "3  2017-07-30 15:58:51 +0000   \n",
       "4  2017-07-29 16:00:24 +0000   \n",
       "\n",
       "                                                                               source  \\\n",
       "0  <a href=\"http://twitter.com/download/iphone\" rel=\"nofollow\">Twitter for iPhone</a>   \n",
       "1  <a href=\"http://twitter.com/download/iphone\" rel=\"nofollow\">Twitter for iPhone</a>   \n",
       "2  <a href=\"http://twitter.com/download/iphone\" rel=\"nofollow\">Twitter for iPhone</a>   \n",
       "3  <a href=\"http://twitter.com/download/iphone\" rel=\"nofollow\">Twitter for iPhone</a>   \n",
       "4  <a href=\"http://twitter.com/download/iphone\" rel=\"nofollow\">Twitter for iPhone</a>   \n",
       "\n",
       "                                                                                                                                                    text  \\\n",
       "0                                          This is Phineas. He's a mystical boy. Only ever appears in the hole of a donut. 13/10 https://t.co/MgUWQ76dJU   \n",
       "1  This is Tilly. She's just checking pup on you. Hopes you're doing ok. If not, she's available for pats, snugs, boops, the whole bit. 13/10 https:/...   \n",
       "2      This is Archie. He is a rare Norwegian Pouncing Corgo. Lives in the tall grass. You never know when one may strike. 12/10 https://t.co/wUnZnhtVJB   \n",
       "3                                                This is Darla. She commenced a snooze mid meal. 13/10 happens to the best of us https://t.co/tD36da7qLQ   \n",
       "4  This is Franklin. He would like you to stop calling him \"cute.\" He is a very fierce shark and should be respected as such. 12/10 #BarkWeek https:/...   \n",
       "\n",
       "   rating_numerator  rating_denominator      name life_stage_category  \\\n",
       "0                13                  10   Phineas               doggo   \n",
       "1                13                  10     Tilly               doggo   \n",
       "2                12                  10    Archie               doggo   \n",
       "3                13                  10     Darla               doggo   \n",
       "4                12                  10  Franklin               doggo   \n",
       "\n",
       "  life_stage  \n",
       "0       None  \n",
       "1       None  \n",
       "2       None  \n",
       "3       None  \n",
       "4       None  "
      ]
     },
     "execution_count": 44,
     "metadata": {},
     "output_type": "execute_result"
    }
   ],
   "source": [
    "twitter_archive_clean.head()"
   ]
  },
  {
   "cell_type": "code",
   "execution_count": 45,
   "metadata": {},
   "outputs": [],
   "source": [
    "# Drop 'life_stage_category column\n",
    "twitter_archive_clean = twitter_archive_clean.drop('life_stage_category', axis=1)"
   ]
  },
  {
   "cell_type": "code",
   "execution_count": 46,
   "metadata": {},
   "outputs": [],
   "source": [
    "# Drop duplicated rows\n",
    "twitter_archive_clean = twitter_archive_clean.drop_duplicates()"
   ]
  },
  {
   "cell_type": "code",
   "execution_count": 47,
   "metadata": {},
   "outputs": [],
   "source": [
    "# Subset all duplicated tweet_ids \n",
    "duplicated_tweets = twitter_archive_clean[twitter_archive_clean['tweet_id'].duplicated(keep=False)]"
   ]
  },
  {
   "cell_type": "code",
   "execution_count": 48,
   "metadata": {},
   "outputs": [],
   "source": [
    "# Drop all rows which have 'None' as life_stage from duplicated_tweets\n",
    "duplicated_tweets = duplicated_tweets[duplicated_tweets['life_stage'] != 'None']"
   ]
  },
  {
   "cell_type": "markdown",
   "metadata": {},
   "source": [
    "duplicated_tweets contains tweets with at least 1 life_stages"
   ]
  },
  {
   "cell_type": "code",
   "execution_count": 49,
   "metadata": {},
   "outputs": [],
   "source": [
    "# Remove all duplicated tweets\n",
    "twitter_archive_clean = twitter_archive_clean[~twitter_archive_clean['tweet_id'].duplicated(keep=False)]"
   ]
  },
  {
   "cell_type": "markdown",
   "metadata": {},
   "source": [
    "twitter_archive_clean now contains tweets without any life_stages."
   ]
  },
  {
   "cell_type": "code",
   "execution_count": 50,
   "metadata": {},
   "outputs": [],
   "source": [
    "# Exclude all duplicated tweets from duplicated_tweets as some tweets have more than 1 life_stage\n",
    "one_life_stage_tweets = duplicated_tweets[~duplicated_tweets['tweet_id'].duplicated(keep=False)]"
   ]
  },
  {
   "cell_type": "markdown",
   "metadata": {},
   "source": [
    "one_life_stage_tweets contains tweets with only 1 life_stage."
   ]
  },
  {
   "cell_type": "code",
   "execution_count": 51,
   "metadata": {},
   "outputs": [],
   "source": [
    "# Keep all duplicated tweets from duplicated_tweets\n",
    "multiple_life_stages_tweets = duplicated_tweets[duplicated_tweets['tweet_id'].duplicated(keep=False)]"
   ]
  },
  {
   "cell_type": "markdown",
   "metadata": {},
   "source": [
    "multiple_life_stages_tweets contains tweets with more than 1 life stages."
   ]
  },
  {
   "cell_type": "code",
   "execution_count": 52,
   "metadata": {
    "scrolled": true
   },
   "outputs": [
    {
     "data": {
      "text/html": [
       "<div>\n",
       "<style scoped>\n",
       "    .dataframe tbody tr th:only-of-type {\n",
       "        vertical-align: middle;\n",
       "    }\n",
       "\n",
       "    .dataframe tbody tr th {\n",
       "        vertical-align: top;\n",
       "    }\n",
       "\n",
       "    .dataframe thead th {\n",
       "        text-align: right;\n",
       "    }\n",
       "</style>\n",
       "<table border=\"1\" class=\"dataframe\">\n",
       "  <thead>\n",
       "    <tr style=\"text-align: right;\">\n",
       "      <th></th>\n",
       "      <th>tweet_id</th>\n",
       "      <th>text</th>\n",
       "    </tr>\n",
       "  </thead>\n",
       "  <tbody>\n",
       "    <tr>\n",
       "      <th>2347</th>\n",
       "      <td>854010172552949760</td>\n",
       "      <td>At first I thought this was a shy doggo, but it's actually a Rare Canadian Floofer Owl. Amateurs would confuse the two. 11/10 only send dogs https...</td>\n",
       "    </tr>\n",
       "    <tr>\n",
       "      <th>4732</th>\n",
       "      <td>817777686764523521</td>\n",
       "      <td>This is Dido. She's playing the lead role in \"Pupper Stops to Catch Snow Before Resuming Shadow Box with Dried Apple.\" 13/10 (IG: didodoggo) https...</td>\n",
       "    </tr>\n",
       "    <tr>\n",
       "      <th>4792</th>\n",
       "      <td>808106460588765185</td>\n",
       "      <td>Here we have Burke (pupper) and Dexter (doggo). Pupper wants to be exactly like doggo. Both 12/10 would pet at same time https://t.co/ANBpEYHaho</td>\n",
       "    </tr>\n",
       "    <tr>\n",
       "      <th>4817</th>\n",
       "      <td>802265048156610565</td>\n",
       "      <td>Like doggo, like pupper version 2. Both 11/10 https://t.co/9IxWAXFqze</td>\n",
       "    </tr>\n",
       "    <tr>\n",
       "      <th>4824</th>\n",
       "      <td>801115127852503040</td>\n",
       "      <td>This is Bones. He's being haunted by another doggo of roughly the same size. 12/10 deep breaths pupper everything's fine https://t.co/55Dqe0SJNj</td>\n",
       "    </tr>\n",
       "    <tr>\n",
       "      <th>4917</th>\n",
       "      <td>785639753186217984</td>\n",
       "      <td>This is Pinot. He's a sophisticated doggo. You can tell by the hat. Also pointier than your average pupper. Still 10/10 would pet cautiously https...</td>\n",
       "    </tr>\n",
       "    <tr>\n",
       "      <th>4943</th>\n",
       "      <td>781308096455073793</td>\n",
       "      <td>Pupper butt 1, Doggo 0. Both 12/10 https://t.co/WQvcPEpH2u</td>\n",
       "    </tr>\n",
       "    <tr>\n",
       "      <th>5072</th>\n",
       "      <td>759793422261743616</td>\n",
       "      <td>Meet Maggie &amp;amp; Lila. Maggie is the doggo, Lila is the pupper. They are sisters. Both 12/10 would pet at the same time https://t.co/MYwR4DQKll</td>\n",
       "    </tr>\n",
       "    <tr>\n",
       "      <th>5131</th>\n",
       "      <td>751583847268179968</td>\n",
       "      <td>Please stop sending it pictures that don't even have a doggo or pupper in them. Churlish af. 5/10 neat couch tho https://t.co/u2c9c7qSg8</td>\n",
       "    </tr>\n",
       "    <tr>\n",
       "      <th>5235</th>\n",
       "      <td>741067306818797568</td>\n",
       "      <td>This is just downright precious af. 12/10 for both pupper and doggo https://t.co/o5J479bZUC</td>\n",
       "    </tr>\n",
       "    <tr>\n",
       "      <th>5285</th>\n",
       "      <td>733109485275860992</td>\n",
       "      <td>Like father (doggo), like son (pupper). Both 12/10 https://t.co/pG2inLaOda</td>\n",
       "    </tr>\n",
       "    <tr>\n",
       "      <th>6690</th>\n",
       "      <td>855851453814013952</td>\n",
       "      <td>Here's a puppo participating in the #ScienceMarch. Cleverly disguising her own doggo agenda. 13/10 would keep the planet habitable for https://t.c...</td>\n",
       "    </tr>\n",
       "  </tbody>\n",
       "</table>\n",
       "</div>"
      ],
      "text/plain": [
       "                tweet_id  \\\n",
       "2347  854010172552949760   \n",
       "4732  817777686764523521   \n",
       "4792  808106460588765185   \n",
       "4817  802265048156610565   \n",
       "4824  801115127852503040   \n",
       "4917  785639753186217984   \n",
       "4943  781308096455073793   \n",
       "5072  759793422261743616   \n",
       "5131  751583847268179968   \n",
       "5235  741067306818797568   \n",
       "5285  733109485275860992   \n",
       "6690  855851453814013952   \n",
       "\n",
       "                                                                                                                                                       text  \n",
       "2347  At first I thought this was a shy doggo, but it's actually a Rare Canadian Floofer Owl. Amateurs would confuse the two. 11/10 only send dogs https...  \n",
       "4732  This is Dido. She's playing the lead role in \"Pupper Stops to Catch Snow Before Resuming Shadow Box with Dried Apple.\" 13/10 (IG: didodoggo) https...  \n",
       "4792       Here we have Burke (pupper) and Dexter (doggo). Pupper wants to be exactly like doggo. Both 12/10 would pet at same time https://t.co/ANBpEYHaho  \n",
       "4817                                                                                  Like doggo, like pupper version 2. Both 11/10 https://t.co/9IxWAXFqze  \n",
       "4824       This is Bones. He's being haunted by another doggo of roughly the same size. 12/10 deep breaths pupper everything's fine https://t.co/55Dqe0SJNj  \n",
       "4917  This is Pinot. He's a sophisticated doggo. You can tell by the hat. Also pointier than your average pupper. Still 10/10 would pet cautiously https...  \n",
       "4943                                                                                             Pupper butt 1, Doggo 0. Both 12/10 https://t.co/WQvcPEpH2u  \n",
       "5072       Meet Maggie &amp; Lila. Maggie is the doggo, Lila is the pupper. They are sisters. Both 12/10 would pet at the same time https://t.co/MYwR4DQKll  \n",
       "5131               Please stop sending it pictures that don't even have a doggo or pupper in them. Churlish af. 5/10 neat couch tho https://t.co/u2c9c7qSg8  \n",
       "5235                                                            This is just downright precious af. 12/10 for both pupper and doggo https://t.co/o5J479bZUC  \n",
       "5285                                                                             Like father (doggo), like son (pupper). Both 12/10 https://t.co/pG2inLaOda  \n",
       "6690  Here's a puppo participating in the #ScienceMarch. Cleverly disguising her own doggo agenda. 13/10 would keep the planet habitable for https://t.c...  "
      ]
     },
     "execution_count": 52,
     "metadata": {},
     "output_type": "execute_result"
    }
   ],
   "source": [
    "multiple_life_stages_tweets[multiple_life_stages_tweets['tweet_id'].duplicated()][['tweet_id', 'text']]"
   ]
  },
  {
   "cell_type": "markdown",
   "metadata": {},
   "source": [
    "Looking at these 12 tweets, there are multiple tweets talks about 2 dogs. <br/>\n",
    "This is why these tweets have more then 1 life stages.  \n",
    "\n",
    "I will assign 'multi' for these tweets.  Others, I will hand pick correct one by investigating text column."
   ]
  },
  {
   "cell_type": "code",
   "execution_count": 53,
   "metadata": {
    "scrolled": true
   },
   "outputs": [
    {
     "name": "stderr",
     "output_type": "stream",
     "text": [
      "C:\\Users\\ayumi\\Anaconda3\\lib\\site-packages\\pandas\\core\\indexing.py:537: SettingWithCopyWarning: \n",
      "A value is trying to be set on a copy of a slice from a DataFrame.\n",
      "Try using .loc[row_indexer,col_indexer] = value instead\n",
      "\n",
      "See the caveats in the documentation: http://pandas.pydata.org/pandas-docs/stable/indexing.html#indexing-view-versus-copy\n",
      "  self.obj[item] = s\n"
     ]
    }
   ],
   "source": [
    "multiple_life_stages_tweets.loc[multiple_life_stages_tweets['tweet_id'] == 854010172552949760, 'life_stage'] = 'floofer'\n",
    "multiple_life_stages_tweets.loc[multiple_life_stages_tweets['tweet_id'] == 817777686764523521, 'life_stage'] = 'pupper'\n",
    "multiple_life_stages_tweets.loc[multiple_life_stages_tweets['tweet_id'] == 808106460588765185, 'life_stage'] = 'multi'\n",
    "multiple_life_stages_tweets.loc[multiple_life_stages_tweets['tweet_id'] == 802265048156610565, 'life_stage'] = 'multi'\n",
    "multiple_life_stages_tweets.loc[multiple_life_stages_tweets['tweet_id'] == 801115127852503040, 'life_stage'] = 'pupper'\n",
    "multiple_life_stages_tweets.loc[multiple_life_stages_tweets['tweet_id'] == 785639753186217984, 'life_stage'] = 'doggo'\n",
    "multiple_life_stages_tweets.loc[multiple_life_stages_tweets['tweet_id'] == 781308096455073793, 'life_stage'] = 'multi'\n",
    "multiple_life_stages_tweets.loc[multiple_life_stages_tweets['tweet_id'] == 759793422261743616, 'life_stage'] = 'multi'\n",
    "multiple_life_stages_tweets.loc[multiple_life_stages_tweets['tweet_id'] == 751583847268179968, 'life_stage'] = 'None'\n",
    "multiple_life_stages_tweets.loc[multiple_life_stages_tweets['tweet_id'] == 741067306818797568, 'life_stage'] = 'multi'\n",
    "multiple_life_stages_tweets.loc[multiple_life_stages_tweets['tweet_id'] == 733109485275860992, 'life_stage'] = 'multi'\n",
    "multiple_life_stages_tweets.loc[multiple_life_stages_tweets['tweet_id'] == 855851453814013952, 'life_stage'] = 'multi'"
   ]
  },
  {
   "cell_type": "code",
   "execution_count": 54,
   "metadata": {},
   "outputs": [],
   "source": [
    "# Remove duplidates\n",
    "multiple_life_stages_tweets = multiple_life_stages_tweets[multiple_life_stages_tweets.duplicated()]"
   ]
  },
  {
   "cell_type": "code",
   "execution_count": 55,
   "metadata": {
    "scrolled": false
   },
   "outputs": [
    {
     "data": {
      "text/html": [
       "<div>\n",
       "<style scoped>\n",
       "    .dataframe tbody tr th:only-of-type {\n",
       "        vertical-align: middle;\n",
       "    }\n",
       "\n",
       "    .dataframe tbody tr th {\n",
       "        vertical-align: top;\n",
       "    }\n",
       "\n",
       "    .dataframe thead th {\n",
       "        text-align: right;\n",
       "    }\n",
       "</style>\n",
       "<table border=\"1\" class=\"dataframe\">\n",
       "  <thead>\n",
       "    <tr style=\"text-align: right;\">\n",
       "      <th></th>\n",
       "      <th>tweet_id</th>\n",
       "      <th>in_reply_to_status_id</th>\n",
       "      <th>in_reply_to_user_id</th>\n",
       "      <th>timestamp</th>\n",
       "      <th>source</th>\n",
       "      <th>text</th>\n",
       "      <th>rating_numerator</th>\n",
       "      <th>rating_denominator</th>\n",
       "      <th>name</th>\n",
       "      <th>life_stage</th>\n",
       "    </tr>\n",
       "  </thead>\n",
       "  <tbody>\n",
       "    <tr>\n",
       "      <th>2347</th>\n",
       "      <td>854010172552949760</td>\n",
       "      <td>NaN</td>\n",
       "      <td>NaN</td>\n",
       "      <td>2017-04-17 16:34:26 +0000</td>\n",
       "      <td>&lt;a href=\"http://twitter.com/download/iphone\" rel=\"nofollow\"&gt;Twitter for iPhone&lt;/a&gt;</td>\n",
       "      <td>At first I thought this was a shy doggo, but it's actually a Rare Canadian Floofer Owl. Amateurs would confuse the two. 11/10 only send dogs https...</td>\n",
       "      <td>11</td>\n",
       "      <td>10</td>\n",
       "      <td>None</td>\n",
       "      <td>floofer</td>\n",
       "    </tr>\n",
       "    <tr>\n",
       "      <th>4732</th>\n",
       "      <td>817777686764523521</td>\n",
       "      <td>NaN</td>\n",
       "      <td>NaN</td>\n",
       "      <td>2017-01-07 16:59:28 +0000</td>\n",
       "      <td>&lt;a href=\"http://twitter.com/download/iphone\" rel=\"nofollow\"&gt;Twitter for iPhone&lt;/a&gt;</td>\n",
       "      <td>This is Dido. She's playing the lead role in \"Pupper Stops to Catch Snow Before Resuming Shadow Box with Dried Apple.\" 13/10 (IG: didodoggo) https...</td>\n",
       "      <td>13</td>\n",
       "      <td>10</td>\n",
       "      <td>Dido</td>\n",
       "      <td>pupper</td>\n",
       "    </tr>\n",
       "    <tr>\n",
       "      <th>4792</th>\n",
       "      <td>808106460588765185</td>\n",
       "      <td>NaN</td>\n",
       "      <td>NaN</td>\n",
       "      <td>2016-12-12 00:29:28 +0000</td>\n",
       "      <td>&lt;a href=\"http://twitter.com/download/iphone\" rel=\"nofollow\"&gt;Twitter for iPhone&lt;/a&gt;</td>\n",
       "      <td>Here we have Burke (pupper) and Dexter (doggo). Pupper wants to be exactly like doggo. Both 12/10 would pet at same time https://t.co/ANBpEYHaho</td>\n",
       "      <td>12</td>\n",
       "      <td>10</td>\n",
       "      <td>None</td>\n",
       "      <td>multi</td>\n",
       "    </tr>\n",
       "    <tr>\n",
       "      <th>4817</th>\n",
       "      <td>802265048156610565</td>\n",
       "      <td>7.331095e+17</td>\n",
       "      <td>4.196984e+09</td>\n",
       "      <td>2016-11-25 21:37:47 +0000</td>\n",
       "      <td>&lt;a href=\"http://twitter.com/download/iphone\" rel=\"nofollow\"&gt;Twitter for iPhone&lt;/a&gt;</td>\n",
       "      <td>Like doggo, like pupper version 2. Both 11/10 https://t.co/9IxWAXFqze</td>\n",
       "      <td>11</td>\n",
       "      <td>10</td>\n",
       "      <td>None</td>\n",
       "      <td>multi</td>\n",
       "    </tr>\n",
       "    <tr>\n",
       "      <th>4824</th>\n",
       "      <td>801115127852503040</td>\n",
       "      <td>NaN</td>\n",
       "      <td>NaN</td>\n",
       "      <td>2016-11-22 17:28:25 +0000</td>\n",
       "      <td>&lt;a href=\"http://twitter.com/download/iphone\" rel=\"nofollow\"&gt;Twitter for iPhone&lt;/a&gt;</td>\n",
       "      <td>This is Bones. He's being haunted by another doggo of roughly the same size. 12/10 deep breaths pupper everything's fine https://t.co/55Dqe0SJNj</td>\n",
       "      <td>12</td>\n",
       "      <td>10</td>\n",
       "      <td>Bones</td>\n",
       "      <td>pupper</td>\n",
       "    </tr>\n",
       "    <tr>\n",
       "      <th>4917</th>\n",
       "      <td>785639753186217984</td>\n",
       "      <td>NaN</td>\n",
       "      <td>NaN</td>\n",
       "      <td>2016-10-11 00:34:48 +0000</td>\n",
       "      <td>&lt;a href=\"http://twitter.com/download/iphone\" rel=\"nofollow\"&gt;Twitter for iPhone&lt;/a&gt;</td>\n",
       "      <td>This is Pinot. He's a sophisticated doggo. You can tell by the hat. Also pointier than your average pupper. Still 10/10 would pet cautiously https...</td>\n",
       "      <td>10</td>\n",
       "      <td>10</td>\n",
       "      <td>Pinot</td>\n",
       "      <td>doggo</td>\n",
       "    </tr>\n",
       "    <tr>\n",
       "      <th>4943</th>\n",
       "      <td>781308096455073793</td>\n",
       "      <td>NaN</td>\n",
       "      <td>NaN</td>\n",
       "      <td>2016-09-29 01:42:20 +0000</td>\n",
       "      <td>&lt;a href=\"http://vine.co\" rel=\"nofollow\"&gt;Vine - Make a Scene&lt;/a&gt;</td>\n",
       "      <td>Pupper butt 1, Doggo 0. Both 12/10 https://t.co/WQvcPEpH2u</td>\n",
       "      <td>12</td>\n",
       "      <td>10</td>\n",
       "      <td>None</td>\n",
       "      <td>multi</td>\n",
       "    </tr>\n",
       "    <tr>\n",
       "      <th>5072</th>\n",
       "      <td>759793422261743616</td>\n",
       "      <td>NaN</td>\n",
       "      <td>NaN</td>\n",
       "      <td>2016-07-31 16:50:42 +0000</td>\n",
       "      <td>&lt;a href=\"http://twitter.com/download/iphone\" rel=\"nofollow\"&gt;Twitter for iPhone&lt;/a&gt;</td>\n",
       "      <td>Meet Maggie &amp;amp; Lila. Maggie is the doggo, Lila is the pupper. They are sisters. Both 12/10 would pet at the same time https://t.co/MYwR4DQKll</td>\n",
       "      <td>12</td>\n",
       "      <td>10</td>\n",
       "      <td>Maggie</td>\n",
       "      <td>multi</td>\n",
       "    </tr>\n",
       "    <tr>\n",
       "      <th>5131</th>\n",
       "      <td>751583847268179968</td>\n",
       "      <td>NaN</td>\n",
       "      <td>NaN</td>\n",
       "      <td>2016-07-09 01:08:47 +0000</td>\n",
       "      <td>&lt;a href=\"http://twitter.com/download/iphone\" rel=\"nofollow\"&gt;Twitter for iPhone&lt;/a&gt;</td>\n",
       "      <td>Please stop sending it pictures that don't even have a doggo or pupper in them. Churlish af. 5/10 neat couch tho https://t.co/u2c9c7qSg8</td>\n",
       "      <td>5</td>\n",
       "      <td>10</td>\n",
       "      <td>None</td>\n",
       "      <td>None</td>\n",
       "    </tr>\n",
       "    <tr>\n",
       "      <th>5235</th>\n",
       "      <td>741067306818797568</td>\n",
       "      <td>NaN</td>\n",
       "      <td>NaN</td>\n",
       "      <td>2016-06-10 00:39:48 +0000</td>\n",
       "      <td>&lt;a href=\"http://twitter.com/download/iphone\" rel=\"nofollow\"&gt;Twitter for iPhone&lt;/a&gt;</td>\n",
       "      <td>This is just downright precious af. 12/10 for both pupper and doggo https://t.co/o5J479bZUC</td>\n",
       "      <td>12</td>\n",
       "      <td>10</td>\n",
       "      <td>just</td>\n",
       "      <td>multi</td>\n",
       "    </tr>\n",
       "    <tr>\n",
       "      <th>5285</th>\n",
       "      <td>733109485275860992</td>\n",
       "      <td>NaN</td>\n",
       "      <td>NaN</td>\n",
       "      <td>2016-05-19 01:38:16 +0000</td>\n",
       "      <td>&lt;a href=\"http://twitter.com/download/iphone\" rel=\"nofollow\"&gt;Twitter for iPhone&lt;/a&gt;</td>\n",
       "      <td>Like father (doggo), like son (pupper). Both 12/10 https://t.co/pG2inLaOda</td>\n",
       "      <td>12</td>\n",
       "      <td>10</td>\n",
       "      <td>None</td>\n",
       "      <td>multi</td>\n",
       "    </tr>\n",
       "    <tr>\n",
       "      <th>6690</th>\n",
       "      <td>855851453814013952</td>\n",
       "      <td>NaN</td>\n",
       "      <td>NaN</td>\n",
       "      <td>2017-04-22 18:31:02 +0000</td>\n",
       "      <td>&lt;a href=\"http://twitter.com/download/iphone\" rel=\"nofollow\"&gt;Twitter for iPhone&lt;/a&gt;</td>\n",
       "      <td>Here's a puppo participating in the #ScienceMarch. Cleverly disguising her own doggo agenda. 13/10 would keep the planet habitable for https://t.c...</td>\n",
       "      <td>13</td>\n",
       "      <td>10</td>\n",
       "      <td>None</td>\n",
       "      <td>multi</td>\n",
       "    </tr>\n",
       "  </tbody>\n",
       "</table>\n",
       "</div>"
      ],
      "text/plain": [
       "                tweet_id  in_reply_to_status_id  in_reply_to_user_id  \\\n",
       "2347  854010172552949760                    NaN                  NaN   \n",
       "4732  817777686764523521                    NaN                  NaN   \n",
       "4792  808106460588765185                    NaN                  NaN   \n",
       "4817  802265048156610565           7.331095e+17         4.196984e+09   \n",
       "4824  801115127852503040                    NaN                  NaN   \n",
       "4917  785639753186217984                    NaN                  NaN   \n",
       "4943  781308096455073793                    NaN                  NaN   \n",
       "5072  759793422261743616                    NaN                  NaN   \n",
       "5131  751583847268179968                    NaN                  NaN   \n",
       "5235  741067306818797568                    NaN                  NaN   \n",
       "5285  733109485275860992                    NaN                  NaN   \n",
       "6690  855851453814013952                    NaN                  NaN   \n",
       "\n",
       "                      timestamp  \\\n",
       "2347  2017-04-17 16:34:26 +0000   \n",
       "4732  2017-01-07 16:59:28 +0000   \n",
       "4792  2016-12-12 00:29:28 +0000   \n",
       "4817  2016-11-25 21:37:47 +0000   \n",
       "4824  2016-11-22 17:28:25 +0000   \n",
       "4917  2016-10-11 00:34:48 +0000   \n",
       "4943  2016-09-29 01:42:20 +0000   \n",
       "5072  2016-07-31 16:50:42 +0000   \n",
       "5131  2016-07-09 01:08:47 +0000   \n",
       "5235  2016-06-10 00:39:48 +0000   \n",
       "5285  2016-05-19 01:38:16 +0000   \n",
       "6690  2017-04-22 18:31:02 +0000   \n",
       "\n",
       "                                                                                  source  \\\n",
       "2347  <a href=\"http://twitter.com/download/iphone\" rel=\"nofollow\">Twitter for iPhone</a>   \n",
       "4732  <a href=\"http://twitter.com/download/iphone\" rel=\"nofollow\">Twitter for iPhone</a>   \n",
       "4792  <a href=\"http://twitter.com/download/iphone\" rel=\"nofollow\">Twitter for iPhone</a>   \n",
       "4817  <a href=\"http://twitter.com/download/iphone\" rel=\"nofollow\">Twitter for iPhone</a>   \n",
       "4824  <a href=\"http://twitter.com/download/iphone\" rel=\"nofollow\">Twitter for iPhone</a>   \n",
       "4917  <a href=\"http://twitter.com/download/iphone\" rel=\"nofollow\">Twitter for iPhone</a>   \n",
       "4943                     <a href=\"http://vine.co\" rel=\"nofollow\">Vine - Make a Scene</a>   \n",
       "5072  <a href=\"http://twitter.com/download/iphone\" rel=\"nofollow\">Twitter for iPhone</a>   \n",
       "5131  <a href=\"http://twitter.com/download/iphone\" rel=\"nofollow\">Twitter for iPhone</a>   \n",
       "5235  <a href=\"http://twitter.com/download/iphone\" rel=\"nofollow\">Twitter for iPhone</a>   \n",
       "5285  <a href=\"http://twitter.com/download/iphone\" rel=\"nofollow\">Twitter for iPhone</a>   \n",
       "6690  <a href=\"http://twitter.com/download/iphone\" rel=\"nofollow\">Twitter for iPhone</a>   \n",
       "\n",
       "                                                                                                                                                       text  \\\n",
       "2347  At first I thought this was a shy doggo, but it's actually a Rare Canadian Floofer Owl. Amateurs would confuse the two. 11/10 only send dogs https...   \n",
       "4732  This is Dido. She's playing the lead role in \"Pupper Stops to Catch Snow Before Resuming Shadow Box with Dried Apple.\" 13/10 (IG: didodoggo) https...   \n",
       "4792       Here we have Burke (pupper) and Dexter (doggo). Pupper wants to be exactly like doggo. Both 12/10 would pet at same time https://t.co/ANBpEYHaho   \n",
       "4817                                                                                  Like doggo, like pupper version 2. Both 11/10 https://t.co/9IxWAXFqze   \n",
       "4824       This is Bones. He's being haunted by another doggo of roughly the same size. 12/10 deep breaths pupper everything's fine https://t.co/55Dqe0SJNj   \n",
       "4917  This is Pinot. He's a sophisticated doggo. You can tell by the hat. Also pointier than your average pupper. Still 10/10 would pet cautiously https...   \n",
       "4943                                                                                             Pupper butt 1, Doggo 0. Both 12/10 https://t.co/WQvcPEpH2u   \n",
       "5072       Meet Maggie &amp; Lila. Maggie is the doggo, Lila is the pupper. They are sisters. Both 12/10 would pet at the same time https://t.co/MYwR4DQKll   \n",
       "5131               Please stop sending it pictures that don't even have a doggo or pupper in them. Churlish af. 5/10 neat couch tho https://t.co/u2c9c7qSg8   \n",
       "5235                                                            This is just downright precious af. 12/10 for both pupper and doggo https://t.co/o5J479bZUC   \n",
       "5285                                                                             Like father (doggo), like son (pupper). Both 12/10 https://t.co/pG2inLaOda   \n",
       "6690  Here's a puppo participating in the #ScienceMarch. Cleverly disguising her own doggo agenda. 13/10 would keep the planet habitable for https://t.c...   \n",
       "\n",
       "      rating_numerator  rating_denominator    name life_stage  \n",
       "2347                11                  10    None    floofer  \n",
       "4732                13                  10    Dido     pupper  \n",
       "4792                12                  10    None      multi  \n",
       "4817                11                  10    None      multi  \n",
       "4824                12                  10   Bones     pupper  \n",
       "4917                10                  10   Pinot      doggo  \n",
       "4943                12                  10    None      multi  \n",
       "5072                12                  10  Maggie      multi  \n",
       "5131                 5                  10    None       None  \n",
       "5235                12                  10    just      multi  \n",
       "5285                12                  10    None      multi  \n",
       "6690                13                  10    None      multi  "
      ]
     },
     "execution_count": 55,
     "metadata": {},
     "output_type": "execute_result"
    }
   ],
   "source": [
    "multiple_life_stages_tweets"
   ]
  },
  {
   "cell_type": "markdown",
   "metadata": {},
   "source": [
    "Correct life stage is assigned for all rows in multiple_life_stages_tweets.\n",
    "\n",
    "Now put everything back together.\n",
    "\n",
    "twitter_archive_clean - tweets without any life stages<br/>\n",
    "one_life_stage_tweets - tweets with 1 life stage<br/>\n",
    "multiple_life_stages_tweets - tweets with more than 1 life stages<br/>"
   ]
  },
  {
   "cell_type": "code",
   "execution_count": 56,
   "metadata": {},
   "outputs": [],
   "source": [
    "# Append all the data back to twitter_archive_clean\n",
    "twitter_archive_clean = twitter_archive_clean.append(one_life_stage_tweets)\n",
    "twitter_archive_clean = twitter_archive_clean.append(multiple_life_stages_tweets)\n",
    "\n",
    "# Reset index\n",
    "twitter_archive_clean = twitter_archive_clean.reset_index(drop=True)"
   ]
  },
  {
   "cell_type": "markdown",
   "metadata": {},
   "source": [
    "###### Test"
   ]
  },
  {
   "cell_type": "code",
   "execution_count": 57,
   "metadata": {
    "scrolled": true
   },
   "outputs": [
    {
     "name": "stdout",
     "output_type": "stream",
     "text": [
      "<class 'pandas.core.frame.DataFrame'>\n",
      "RangeIndex: 2175 entries, 0 to 2174\n",
      "Data columns (total 10 columns):\n",
      "tweet_id                 2175 non-null int64\n",
      "in_reply_to_status_id    78 non-null float64\n",
      "in_reply_to_user_id      78 non-null float64\n",
      "timestamp                2175 non-null object\n",
      "source                   2175 non-null object\n",
      "text                     2175 non-null object\n",
      "rating_numerator         2175 non-null int64\n",
      "rating_denominator       2175 non-null int64\n",
      "name                     2175 non-null object\n",
      "life_stage               2175 non-null object\n",
      "dtypes: float64(2), int64(3), object(5)\n",
      "memory usage: 170.0+ KB\n"
     ]
    }
   ],
   "source": [
    "twitter_archive_clean.info()"
   ]
  },
  {
   "cell_type": "markdown",
   "metadata": {},
   "source": [
    "There are 2175 entries, and no data is missing from life_stage column."
   ]
  },
  {
   "cell_type": "markdown",
   "metadata": {},
   "source": [
    "### Quality"
   ]
  },
  {
   "cell_type": "markdown",
   "metadata": {},
   "source": [
    "###### `twitter_archive` : Source column contains unnecessary and extra information."
   ]
  },
  {
   "cell_type": "markdown",
   "metadata": {},
   "source": [
    "###### Define\n",
    "It needs to be cleaned up so that it only contains 'source' informaiton."
   ]
  },
  {
   "cell_type": "markdown",
   "metadata": {},
   "source": [
    "###### Code"
   ]
  },
  {
   "cell_type": "code",
   "execution_count": 58,
   "metadata": {},
   "outputs": [
    {
     "data": {
      "text/plain": [
       "<a href=\"http://twitter.com/download/iphone\" rel=\"nofollow\">Twitter for iPhone</a>     2042\n",
       "<a href=\"http://vine.co\" rel=\"nofollow\">Vine - Make a Scene</a>                          91\n",
       "<a href=\"http://twitter.com\" rel=\"nofollow\">Twitter Web Client</a>                       31\n",
       "<a href=\"https://about.twitter.com/products/tweetdeck\" rel=\"nofollow\">TweetDeck</a>      11\n",
       "Name: source, dtype: int64"
      ]
     },
     "execution_count": 58,
     "metadata": {},
     "output_type": "execute_result"
    }
   ],
   "source": [
    "twitter_archive_clean['source'].value_counts()"
   ]
  },
  {
   "cell_type": "code",
   "execution_count": 59,
   "metadata": {},
   "outputs": [],
   "source": [
    "# Extract hyperlink text\n",
    "twitter_archive_clean['source'] = twitter_archive_clean['source'].str.extract('>(.*)<\\/a>', expand=True)"
   ]
  },
  {
   "cell_type": "markdown",
   "metadata": {},
   "source": [
    "###### Test"
   ]
  },
  {
   "cell_type": "code",
   "execution_count": 60,
   "metadata": {
    "scrolled": true
   },
   "outputs": [
    {
     "data": {
      "text/plain": [
       "Twitter for iPhone     2042\n",
       "Vine - Make a Scene      91\n",
       "Twitter Web Client       31\n",
       "TweetDeck                11\n",
       "Name: source, dtype: int64"
      ]
     },
     "execution_count": 60,
     "metadata": {},
     "output_type": "execute_result"
    }
   ],
   "source": [
    "twitter_archive_clean['source'].value_counts()"
   ]
  },
  {
   "cell_type": "markdown",
   "metadata": {},
   "source": [
    "Source column now contains only 'source' information."
   ]
  },
  {
   "cell_type": "markdown",
   "metadata": {},
   "source": [
    "### Quality"
   ]
  },
  {
   "cell_type": "markdown",
   "metadata": {},
   "source": [
    "###### `twitter_archive` : Name column contains words like 'just', 'the', 'a'."
   ]
  },
  {
   "cell_type": "markdown",
   "metadata": {},
   "source": [
    "###### Define\n",
    "Extract name from text column.  If extracted word doesn't seem like a name, then they need to be changed to 'None'.\n",
    "\n",
    "Here are patterns to find dog name in text column.\n",
    "1. This is Zoey.\n",
    "2. Meet Jax.\n",
    "3. Here is George.\n",
    "4. Say hello to Oakley."
   ]
  },
  {
   "cell_type": "markdown",
   "metadata": {},
   "source": [
    "###### Code"
   ]
  },
  {
   "cell_type": "markdown",
   "metadata": {},
   "source": [
    "Extract name using 4 patterns identified above."
   ]
  },
  {
   "cell_type": "code",
   "execution_count": 61,
   "metadata": {},
   "outputs": [],
   "source": [
    "# Extract Name - This is Zoey pattern\n",
    "extracted_this_is = twitter_archive_clean['text'].str.extract('This is (\\w+)', expand=False)"
   ]
  },
  {
   "cell_type": "code",
   "execution_count": 62,
   "metadata": {},
   "outputs": [],
   "source": [
    "# Extract Name - Meet Jax pattern\n",
    "extracted_meet = twitter_archive_clean['text'].str.extract('Meet (\\w+)', expand=False)"
   ]
  },
  {
   "cell_type": "code",
   "execution_count": 63,
   "metadata": {},
   "outputs": [],
   "source": [
    "# Extract Name - Here is George pattern\n",
    "extracted_here = twitter_archive_clean['text'].str.extract('Here is (\\w+)', expand=False)"
   ]
  },
  {
   "cell_type": "code",
   "execution_count": 64,
   "metadata": {},
   "outputs": [],
   "source": [
    "# Extract Name - Say hello to Oakley pattern\n",
    "extracted_say = twitter_archive_clean['text'].str.extract('Say hello to (\\w+)', expand=False)"
   ]
  },
  {
   "cell_type": "code",
   "execution_count": 65,
   "metadata": {},
   "outputs": [],
   "source": [
    "# Create new dataframe\n",
    "extracted_word = pd.DataFrame({\"this_is\": extracted_this_is, \"meet\": extracted_meet, \"here\": extracted_here, 'say': extracted_say})"
   ]
  },
  {
   "cell_type": "code",
   "execution_count": 66,
   "metadata": {
    "scrolled": false
   },
   "outputs": [
    {
     "data": {
      "text/html": [
       "<div>\n",
       "<style scoped>\n",
       "    .dataframe tbody tr th:only-of-type {\n",
       "        vertical-align: middle;\n",
       "    }\n",
       "\n",
       "    .dataframe tbody tr th {\n",
       "        vertical-align: top;\n",
       "    }\n",
       "\n",
       "    .dataframe thead th {\n",
       "        text-align: right;\n",
       "    }\n",
       "</style>\n",
       "<table border=\"1\" class=\"dataframe\">\n",
       "  <thead>\n",
       "    <tr style=\"text-align: right;\">\n",
       "      <th></th>\n",
       "      <th>here</th>\n",
       "      <th>meet</th>\n",
       "      <th>say</th>\n",
       "      <th>this_is</th>\n",
       "    </tr>\n",
       "  </thead>\n",
       "  <tbody>\n",
       "    <tr>\n",
       "      <th>0</th>\n",
       "      <td>NaN</td>\n",
       "      <td>NaN</td>\n",
       "      <td>NaN</td>\n",
       "      <td>Phineas</td>\n",
       "    </tr>\n",
       "    <tr>\n",
       "      <th>1</th>\n",
       "      <td>NaN</td>\n",
       "      <td>NaN</td>\n",
       "      <td>NaN</td>\n",
       "      <td>Tilly</td>\n",
       "    </tr>\n",
       "    <tr>\n",
       "      <th>2</th>\n",
       "      <td>NaN</td>\n",
       "      <td>NaN</td>\n",
       "      <td>NaN</td>\n",
       "      <td>Archie</td>\n",
       "    </tr>\n",
       "    <tr>\n",
       "      <th>3</th>\n",
       "      <td>NaN</td>\n",
       "      <td>NaN</td>\n",
       "      <td>NaN</td>\n",
       "      <td>Darla</td>\n",
       "    </tr>\n",
       "    <tr>\n",
       "      <th>4</th>\n",
       "      <td>NaN</td>\n",
       "      <td>NaN</td>\n",
       "      <td>NaN</td>\n",
       "      <td>Franklin</td>\n",
       "    </tr>\n",
       "  </tbody>\n",
       "</table>\n",
       "</div>"
      ],
      "text/plain": [
       "  here meet  say   this_is\n",
       "0  NaN  NaN  NaN   Phineas\n",
       "1  NaN  NaN  NaN     Tilly\n",
       "2  NaN  NaN  NaN    Archie\n",
       "3  NaN  NaN  NaN     Darla\n",
       "4  NaN  NaN  NaN  Franklin"
      ]
     },
     "execution_count": 66,
     "metadata": {},
     "output_type": "execute_result"
    }
   ],
   "source": [
    "extracted_word.head()"
   ]
  },
  {
   "cell_type": "code",
   "execution_count": 67,
   "metadata": {},
   "outputs": [],
   "source": [
    "# Replace Nan with None since name column is not numbers\n",
    "extracted_word = extracted_word.where(extracted_word.notnull(), None)"
   ]
  },
  {
   "cell_type": "markdown",
   "metadata": {},
   "source": [
    "Add count to each matched pattern and calculate how many names are found for each tweet."
   ]
  },
  {
   "cell_type": "code",
   "execution_count": 68,
   "metadata": {},
   "outputs": [],
   "source": [
    "# ########################################################################\n",
    "# I was trying to use .apply() to get sum of count,\n",
    "# but it throws an error, and I couldn't figure out how to fix it.\n",
    "#\n",
    "# I'm gonna do it very ugly way.\n",
    "# Create count for each pattern, using 1 or 1 and just do simple addition\n",
    "# to create name count,\n",
    "# -------------------------------------------------------------------------\n",
    "#def count_name(x):\n",
    "#    return \\\n",
    "#        sum(x['this_is'].notnull()) + \\\n",
    "#        sum(x['meet'].notnull()) + \\\n",
    "#        sum(x['here'].notnull()) + \\\n",
    "#        sum(x['say'].notnull())\n",
    "#        \n",
    "#extracted_word['name_count'] = extracted_word.apply(count_name, axis=1)\n",
    "#---------------------------------------------------------------------------\n",
    "# AttributeError: (\"'str' object has no attribute 'notnull'\", 'occurred at index 0')\n",
    "# ########################################################################\n",
    "\n",
    "# Create count for each patter using 0 and 1\n",
    "extracted_word['this_is_count'] = np.where(extracted_word['this_is'].notnull(), 1, 0)\n",
    "extracted_word['meet_count'] = np.where(extracted_word['meet'].notnull(), 1, 0)\n",
    "extracted_word['here_count'] = np.where(extracted_word['here'].notnull(), 1, 0)\n",
    "extracted_word['say_count'] = np.where(extracted_word['say'].notnull(), 1, 0)\n",
    "\n",
    "# Add them all to craete name_count\n",
    "extracted_word['name_count'] = extracted_word['this_is_count'] + \\\n",
    "extracted_word['meet_count'] + extracted_word['here_count'] + extracted_word['say_count']"
   ]
  },
  {
   "cell_type": "markdown",
   "metadata": {},
   "source": [
    "Find tweets which had more than 1 name found."
   ]
  },
  {
   "cell_type": "code",
   "execution_count": 69,
   "metadata": {
    "scrolled": false
   },
   "outputs": [
    {
     "data": {
      "text/html": [
       "<div>\n",
       "<style scoped>\n",
       "    .dataframe tbody tr th:only-of-type {\n",
       "        vertical-align: middle;\n",
       "    }\n",
       "\n",
       "    .dataframe tbody tr th {\n",
       "        vertical-align: top;\n",
       "    }\n",
       "\n",
       "    .dataframe thead th {\n",
       "        text-align: right;\n",
       "    }\n",
       "</style>\n",
       "<table border=\"1\" class=\"dataframe\">\n",
       "  <thead>\n",
       "    <tr style=\"text-align: right;\">\n",
       "      <th></th>\n",
       "      <th>here</th>\n",
       "      <th>meet</th>\n",
       "      <th>say</th>\n",
       "      <th>this_is</th>\n",
       "      <th>this_is_count</th>\n",
       "      <th>meet_count</th>\n",
       "      <th>here_count</th>\n",
       "      <th>say_count</th>\n",
       "      <th>name_count</th>\n",
       "    </tr>\n",
       "  </thead>\n",
       "  <tbody>\n",
       "    <tr>\n",
       "      <th>551</th>\n",
       "      <td>None</td>\n",
       "      <td>None</td>\n",
       "      <td>Carbon</td>\n",
       "      <td>his</td>\n",
       "      <td>1</td>\n",
       "      <td>0</td>\n",
       "      <td>0</td>\n",
       "      <td>1</td>\n",
       "      <td>2</td>\n",
       "    </tr>\n",
       "    <tr>\n",
       "      <th>1193</th>\n",
       "      <td>None</td>\n",
       "      <td>None</td>\n",
       "      <td>Lupe</td>\n",
       "      <td>how</td>\n",
       "      <td>1</td>\n",
       "      <td>0</td>\n",
       "      <td>0</td>\n",
       "      <td>1</td>\n",
       "      <td>2</td>\n",
       "    </tr>\n",
       "  </tbody>\n",
       "</table>\n",
       "</div>"
      ],
      "text/plain": [
       "      here  meet     say this_is  this_is_count  meet_count  here_count  \\\n",
       "551   None  None  Carbon     his              1           0           0   \n",
       "1193  None  None    Lupe     how              1           0           0   \n",
       "\n",
       "      say_count  name_count  \n",
       "551           1           2  \n",
       "1193          1           2  "
      ]
     },
     "execution_count": 69,
     "metadata": {},
     "output_type": "execute_result"
    }
   ],
   "source": [
    "# Find tweets which had more than 1 name found.\n",
    "extracted_word[extracted_word['name_count'] > 1]"
   ]
  },
  {
   "cell_type": "markdown",
   "metadata": {},
   "source": [
    "Manually clean these 2 tweets. \n",
    "\n",
    "Since names found by 'Say hello to ...' pattern is actual name, they should be used as name for these 2 tweets.<br/>\n",
    "Replacing name found by 'This is ...' pattern to 'None'."
   ]
  },
  {
   "cell_type": "code",
   "execution_count": 70,
   "metadata": {},
   "outputs": [],
   "source": [
    "# Replace 'his' and 'how' in 'this_is' column with None\n",
    "extracted_word['this_is'] = np.where(extracted_word['this_is'] == 'his', None, extracted_word['this_is'])\n",
    "extracted_word['this_is'] = np.where(extracted_word['this_is'] == 'how', None, extracted_word['this_is'])"
   ]
  },
  {
   "cell_type": "code",
   "execution_count": 71,
   "metadata": {
    "scrolled": true
   },
   "outputs": [
    {
     "data": {
      "text/html": [
       "<div>\n",
       "<style scoped>\n",
       "    .dataframe tbody tr th:only-of-type {\n",
       "        vertical-align: middle;\n",
       "    }\n",
       "\n",
       "    .dataframe tbody tr th {\n",
       "        vertical-align: top;\n",
       "    }\n",
       "\n",
       "    .dataframe thead th {\n",
       "        text-align: right;\n",
       "    }\n",
       "</style>\n",
       "<table border=\"1\" class=\"dataframe\">\n",
       "  <thead>\n",
       "    <tr style=\"text-align: right;\">\n",
       "      <th></th>\n",
       "      <th>here</th>\n",
       "      <th>meet</th>\n",
       "      <th>say</th>\n",
       "      <th>this_is</th>\n",
       "      <th>this_is_count</th>\n",
       "      <th>meet_count</th>\n",
       "      <th>here_count</th>\n",
       "      <th>say_count</th>\n",
       "      <th>name_count</th>\n",
       "    </tr>\n",
       "  </thead>\n",
       "  <tbody>\n",
       "    <tr>\n",
       "      <th>551</th>\n",
       "      <td>None</td>\n",
       "      <td>None</td>\n",
       "      <td>Carbon</td>\n",
       "      <td>None</td>\n",
       "      <td>1</td>\n",
       "      <td>0</td>\n",
       "      <td>0</td>\n",
       "      <td>1</td>\n",
       "      <td>2</td>\n",
       "    </tr>\n",
       "    <tr>\n",
       "      <th>1193</th>\n",
       "      <td>None</td>\n",
       "      <td>None</td>\n",
       "      <td>Lupe</td>\n",
       "      <td>None</td>\n",
       "      <td>1</td>\n",
       "      <td>0</td>\n",
       "      <td>0</td>\n",
       "      <td>1</td>\n",
       "      <td>2</td>\n",
       "    </tr>\n",
       "  </tbody>\n",
       "</table>\n",
       "</div>"
      ],
      "text/plain": [
       "      here  meet     say this_is  this_is_count  meet_count  here_count  \\\n",
       "551   None  None  Carbon    None              1           0           0   \n",
       "1193  None  None    Lupe    None              1           0           0   \n",
       "\n",
       "      say_count  name_count  \n",
       "551           1           2  \n",
       "1193          1           2  "
      ]
     },
     "execution_count": 71,
     "metadata": {},
     "output_type": "execute_result"
    }
   ],
   "source": [
    "extracted_word[extracted_word['name_count'] > 1]"
   ]
  },
  {
   "cell_type": "code",
   "execution_count": 72,
   "metadata": {},
   "outputs": [],
   "source": [
    "# drop count columns\n",
    "extracted_word = extracted_word.drop(['this_is_count', 'meet_count', 'here_count', 'say_count', 'name_count'], axis=1)"
   ]
  },
  {
   "cell_type": "code",
   "execution_count": 73,
   "metadata": {
    "scrolled": true
   },
   "outputs": [
    {
     "name": "stdout",
     "output_type": "stream",
     "text": [
      "<class 'pandas.core.frame.DataFrame'>\n",
      "RangeIndex: 2175 entries, 0 to 2174\n",
      "Data columns (total 4 columns):\n",
      "here       13 non-null object\n",
      "meet       216 non-null object\n",
      "say        95 non-null object\n",
      "this_is    1170 non-null object\n",
      "dtypes: object(4)\n",
      "memory usage: 68.0+ KB\n"
     ]
    }
   ],
   "source": [
    "extracted_word.info()"
   ]
  },
  {
   "cell_type": "markdown",
   "metadata": {},
   "source": [
    "count columns are dropped.\n",
    "\n",
    "Create 'name' column from name found by 4 patterns. "
   ]
  },
  {
   "cell_type": "code",
   "execution_count": 74,
   "metadata": {},
   "outputs": [],
   "source": [
    "# Find name either name extracted from \n",
    "# 'This is ..' pattern, 'Meet ..' pattern, \n",
    "# 'Here is ..' pattern, or 'Say hello to ..' pattern.\n",
    "extracted_word['name'] = np.where(extracted_word['this_is'].notnull(), extracted_word['this_is'], extracted_word['meet'])\n",
    "extracted_word['name'] = np.where(extracted_word['name'].notnull(), extracted_word['name'], extracted_word['here'])\n",
    "extracted_word['name'] = np.where(extracted_word['name'].notnull(), extracted_word['name'], extracted_word['say'])"
   ]
  },
  {
   "cell_type": "code",
   "execution_count": 75,
   "metadata": {
    "scrolled": true
   },
   "outputs": [
    {
     "data": {
      "text/html": [
       "<div>\n",
       "<style scoped>\n",
       "    .dataframe tbody tr th:only-of-type {\n",
       "        vertical-align: middle;\n",
       "    }\n",
       "\n",
       "    .dataframe tbody tr th {\n",
       "        vertical-align: top;\n",
       "    }\n",
       "\n",
       "    .dataframe thead th {\n",
       "        text-align: right;\n",
       "    }\n",
       "</style>\n",
       "<table border=\"1\" class=\"dataframe\">\n",
       "  <thead>\n",
       "    <tr style=\"text-align: right;\">\n",
       "      <th></th>\n",
       "      <th>here</th>\n",
       "      <th>meet</th>\n",
       "      <th>say</th>\n",
       "      <th>this_is</th>\n",
       "      <th>name</th>\n",
       "    </tr>\n",
       "  </thead>\n",
       "  <tbody>\n",
       "    <tr>\n",
       "      <th>1145</th>\n",
       "      <td>None</td>\n",
       "      <td>None</td>\n",
       "      <td>None</td>\n",
       "      <td>Kramer</td>\n",
       "      <td>Kramer</td>\n",
       "    </tr>\n",
       "    <tr>\n",
       "      <th>40</th>\n",
       "      <td>None</td>\n",
       "      <td>None</td>\n",
       "      <td>None</td>\n",
       "      <td>Stanley</td>\n",
       "      <td>Stanley</td>\n",
       "    </tr>\n",
       "    <tr>\n",
       "      <th>477</th>\n",
       "      <td>None</td>\n",
       "      <td>None</td>\n",
       "      <td>None</td>\n",
       "      <td>Rusty</td>\n",
       "      <td>Rusty</td>\n",
       "    </tr>\n",
       "    <tr>\n",
       "      <th>764</th>\n",
       "      <td>None</td>\n",
       "      <td>None</td>\n",
       "      <td>None</td>\n",
       "      <td>Solomon</td>\n",
       "      <td>Solomon</td>\n",
       "    </tr>\n",
       "    <tr>\n",
       "      <th>534</th>\n",
       "      <td>None</td>\n",
       "      <td>Roosevelt</td>\n",
       "      <td>None</td>\n",
       "      <td>None</td>\n",
       "      <td>Roosevelt</td>\n",
       "    </tr>\n",
       "    <tr>\n",
       "      <th>791</th>\n",
       "      <td>None</td>\n",
       "      <td>None</td>\n",
       "      <td>None</td>\n",
       "      <td>Lola</td>\n",
       "      <td>Lola</td>\n",
       "    </tr>\n",
       "    <tr>\n",
       "      <th>1734</th>\n",
       "      <td>None</td>\n",
       "      <td>Olive</td>\n",
       "      <td>None</td>\n",
       "      <td>None</td>\n",
       "      <td>Olive</td>\n",
       "    </tr>\n",
       "    <tr>\n",
       "      <th>1335</th>\n",
       "      <td>None</td>\n",
       "      <td>Vinnie</td>\n",
       "      <td>None</td>\n",
       "      <td>None</td>\n",
       "      <td>Vinnie</td>\n",
       "    </tr>\n",
       "    <tr>\n",
       "      <th>212</th>\n",
       "      <td>None</td>\n",
       "      <td>None</td>\n",
       "      <td>None</td>\n",
       "      <td>Odie</td>\n",
       "      <td>Odie</td>\n",
       "    </tr>\n",
       "    <tr>\n",
       "      <th>463</th>\n",
       "      <td>None</td>\n",
       "      <td>None</td>\n",
       "      <td>None</td>\n",
       "      <td>Moose</td>\n",
       "      <td>Moose</td>\n",
       "    </tr>\n",
       "  </tbody>\n",
       "</table>\n",
       "</div>"
      ],
      "text/plain": [
       "      here       meet   say  this_is       name\n",
       "1145  None       None  None   Kramer     Kramer\n",
       "40    None       None  None  Stanley    Stanley\n",
       "477   None       None  None    Rusty      Rusty\n",
       "764   None       None  None  Solomon    Solomon\n",
       "534   None  Roosevelt  None     None  Roosevelt\n",
       "791   None       None  None     Lola       Lola\n",
       "1734  None      Olive  None     None      Olive\n",
       "1335  None     Vinnie  None     None     Vinnie\n",
       "212   None       None  None     Odie       Odie\n",
       "463   None       None  None    Moose      Moose"
      ]
     },
     "execution_count": 75,
     "metadata": {},
     "output_type": "execute_result"
    }
   ],
   "source": [
    "extracted_word.sample(10)"
   ]
  },
  {
   "cell_type": "markdown",
   "metadata": {},
   "source": [
    "Find name actually not a name (like 'just', 'the', 'a', etc)"
   ]
  },
  {
   "cell_type": "code",
   "execution_count": 76,
   "metadata": {},
   "outputs": [],
   "source": [
    "# Find name like 'just', 'the', 'a', etc\n",
    "extracted_word['cap_test'] = extracted_word['name'].str.match('^[A-Z]')"
   ]
  },
  {
   "cell_type": "code",
   "execution_count": 77,
   "metadata": {
    "scrolled": true
   },
   "outputs": [
    {
     "data": {
      "text/html": [
       "<div>\n",
       "<style scoped>\n",
       "    .dataframe tbody tr th:only-of-type {\n",
       "        vertical-align: middle;\n",
       "    }\n",
       "\n",
       "    .dataframe tbody tr th {\n",
       "        vertical-align: top;\n",
       "    }\n",
       "\n",
       "    .dataframe thead th {\n",
       "        text-align: right;\n",
       "    }\n",
       "</style>\n",
       "<table border=\"1\" class=\"dataframe\">\n",
       "  <thead>\n",
       "    <tr style=\"text-align: right;\">\n",
       "      <th></th>\n",
       "      <th>here</th>\n",
       "      <th>meet</th>\n",
       "      <th>say</th>\n",
       "      <th>this_is</th>\n",
       "      <th>name</th>\n",
       "      <th>cap_test</th>\n",
       "    </tr>\n",
       "  </thead>\n",
       "  <tbody>\n",
       "    <tr>\n",
       "      <th>548</th>\n",
       "      <td>None</td>\n",
       "      <td>None</td>\n",
       "      <td>None</td>\n",
       "      <td>very</td>\n",
       "      <td>very</td>\n",
       "      <td>False</td>\n",
       "    </tr>\n",
       "    <tr>\n",
       "      <th>701</th>\n",
       "      <td>None</td>\n",
       "      <td>None</td>\n",
       "      <td>None</td>\n",
       "      <td>very</td>\n",
       "      <td>very</td>\n",
       "      <td>False</td>\n",
       "    </tr>\n",
       "    <tr>\n",
       "      <th>1748</th>\n",
       "      <td>None</td>\n",
       "      <td>None</td>\n",
       "      <td>None</td>\n",
       "      <td>a</td>\n",
       "      <td>a</td>\n",
       "      <td>False</td>\n",
       "    </tr>\n",
       "    <tr>\n",
       "      <th>1274</th>\n",
       "      <td>None</td>\n",
       "      <td>None</td>\n",
       "      <td>None</td>\n",
       "      <td>officially</td>\n",
       "      <td>officially</td>\n",
       "      <td>False</td>\n",
       "    </tr>\n",
       "    <tr>\n",
       "      <th>266</th>\n",
       "      <td>None</td>\n",
       "      <td>None</td>\n",
       "      <td>None</td>\n",
       "      <td>one</td>\n",
       "      <td>one</td>\n",
       "      <td>False</td>\n",
       "    </tr>\n",
       "  </tbody>\n",
       "</table>\n",
       "</div>"
      ],
      "text/plain": [
       "      here  meet   say     this_is        name cap_test\n",
       "548   None  None  None        very        very    False\n",
       "701   None  None  None        very        very    False\n",
       "1748  None  None  None           a           a    False\n",
       "1274  None  None  None  officially  officially    False\n",
       "266   None  None  None         one         one    False"
      ]
     },
     "execution_count": 77,
     "metadata": {},
     "output_type": "execute_result"
    }
   ],
   "source": [
    "extracted_word[extracted_word['cap_test'] == False].sample(5)"
   ]
  },
  {
   "cell_type": "markdown",
   "metadata": {},
   "source": [
    "Replace words (like 'just', 'the', 'a', etc) with 'None'"
   ]
  },
  {
   "cell_type": "code",
   "execution_count": 78,
   "metadata": {},
   "outputs": [],
   "source": [
    "# Replace words not names with None\n",
    "extracted_word['name'] = np.where(extracted_word['cap_test'] == False, None, extracted_word['name'])"
   ]
  },
  {
   "cell_type": "code",
   "execution_count": 79,
   "metadata": {
    "scrolled": false
   },
   "outputs": [
    {
     "data": {
      "text/html": [
       "<div>\n",
       "<style scoped>\n",
       "    .dataframe tbody tr th:only-of-type {\n",
       "        vertical-align: middle;\n",
       "    }\n",
       "\n",
       "    .dataframe tbody tr th {\n",
       "        vertical-align: top;\n",
       "    }\n",
       "\n",
       "    .dataframe thead th {\n",
       "        text-align: right;\n",
       "    }\n",
       "</style>\n",
       "<table border=\"1\" class=\"dataframe\">\n",
       "  <thead>\n",
       "    <tr style=\"text-align: right;\">\n",
       "      <th></th>\n",
       "      <th>here</th>\n",
       "      <th>meet</th>\n",
       "      <th>say</th>\n",
       "      <th>this_is</th>\n",
       "      <th>name</th>\n",
       "      <th>cap_test</th>\n",
       "    </tr>\n",
       "  </thead>\n",
       "  <tbody>\n",
       "    <tr>\n",
       "      <th>1681</th>\n",
       "      <td>None</td>\n",
       "      <td>None</td>\n",
       "      <td>None</td>\n",
       "      <td>an</td>\n",
       "      <td>None</td>\n",
       "      <td>False</td>\n",
       "    </tr>\n",
       "    <tr>\n",
       "      <th>1762</th>\n",
       "      <td>None</td>\n",
       "      <td>None</td>\n",
       "      <td>None</td>\n",
       "      <td>a</td>\n",
       "      <td>None</td>\n",
       "      <td>False</td>\n",
       "    </tr>\n",
       "    <tr>\n",
       "      <th>1786</th>\n",
       "      <td>None</td>\n",
       "      <td>None</td>\n",
       "      <td>None</td>\n",
       "      <td>a</td>\n",
       "      <td>None</td>\n",
       "      <td>False</td>\n",
       "    </tr>\n",
       "    <tr>\n",
       "      <th>1828</th>\n",
       "      <td>a</td>\n",
       "      <td>None</td>\n",
       "      <td>None</td>\n",
       "      <td>None</td>\n",
       "      <td>None</td>\n",
       "      <td>False</td>\n",
       "    </tr>\n",
       "    <tr>\n",
       "      <th>2172</th>\n",
       "      <td>None</td>\n",
       "      <td>None</td>\n",
       "      <td>None</td>\n",
       "      <td>just</td>\n",
       "      <td>None</td>\n",
       "      <td>False</td>\n",
       "    </tr>\n",
       "  </tbody>\n",
       "</table>\n",
       "</div>"
      ],
      "text/plain": [
       "      here  meet   say this_is  name cap_test\n",
       "1681  None  None  None      an  None    False\n",
       "1762  None  None  None       a  None    False\n",
       "1786  None  None  None       a  None    False\n",
       "1828     a  None  None    None  None    False\n",
       "2172  None  None  None    just  None    False"
      ]
     },
     "execution_count": 79,
     "metadata": {},
     "output_type": "execute_result"
    }
   ],
   "source": [
    "extracted_word[extracted_word['cap_test'] == False].sample(5)"
   ]
  },
  {
   "cell_type": "code",
   "execution_count": 80,
   "metadata": {},
   "outputs": [],
   "source": [
    "# None doesn't get written to csv file. Manually assining word 'None'\n",
    "extracted_word['name'] = np.where(extracted_word['name'].isnull(), 'None', extracted_word['name'])"
   ]
  },
  {
   "cell_type": "markdown",
   "metadata": {},
   "source": [
    "Replace name column in twitter_archive_clean with extracted names."
   ]
  },
  {
   "cell_type": "code",
   "execution_count": 81,
   "metadata": {},
   "outputs": [],
   "source": [
    "# Replace name column in twitter_archive_clean with 'names in extracted_word\n",
    "twitter_archive_clean['name'] = extracted_word['name']"
   ]
  },
  {
   "cell_type": "markdown",
   "metadata": {},
   "source": [
    "###### Test"
   ]
  },
  {
   "cell_type": "markdown",
   "metadata": {},
   "source": [
    "Make sure names like 'just' and 'the' are gone."
   ]
  },
  {
   "cell_type": "code",
   "execution_count": 82,
   "metadata": {},
   "outputs": [
    {
     "data": {
      "text/plain": [
       "1496    None\n",
       "2025    None\n",
       "2172    None\n",
       "Name: name, dtype: object"
      ]
     },
     "execution_count": 82,
     "metadata": {},
     "output_type": "execute_result"
    }
   ],
   "source": [
    "twitter_archive_clean[twitter_archive_clean[twitter_archive_clean.notnull()]['text'].str.match('This is just')].name"
   ]
  },
  {
   "cell_type": "code",
   "execution_count": 83,
   "metadata": {
    "scrolled": true
   },
   "outputs": [
    {
     "data": {
      "text/plain": [
       "1331    None\n",
       "1514    None\n",
       "1820    None\n",
       "2055    None\n",
       "2095    None\n",
       "Name: name, dtype: object"
      ]
     },
     "execution_count": 83,
     "metadata": {},
     "output_type": "execute_result"
    }
   ],
   "source": [
    "twitter_archive_clean[twitter_archive_clean[twitter_archive_clean.notnull()]['text'].str.match('This is the')].name"
   ]
  },
  {
   "cell_type": "markdown",
   "metadata": {},
   "source": [
    "### Quality"
   ]
  },
  {
   "cell_type": "markdown",
   "metadata": {},
   "source": [
    "###### `twitter_archive` : Some tweets have more than 1 dog life stages."
   ]
  },
  {
   "cell_type": "markdown",
   "metadata": {},
   "source": [
    "###### Define\n",
    "This quality issue was addressed in tidiness issue \"Dog life stage variable is in 4 columns\" above. No further work needed."
   ]
  },
  {
   "cell_type": "markdown",
   "metadata": {},
   "source": [
    "###### Code\n",
    "N/A"
   ]
  },
  {
   "cell_type": "markdown",
   "metadata": {},
   "source": [
    "###### Test\n",
    "N/A"
   ]
  },
  {
   "cell_type": "markdown",
   "metadata": {},
   "source": [
    "### Quality"
   ]
  },
  {
   "cell_type": "markdown",
   "metadata": {},
   "source": [
    "###### `twitter_archive` : Erroneous datatypes : 'in_reply_to_status_id' and 'in_reply_to_user_id' are float."
   ]
  },
  {
   "cell_type": "markdown",
   "metadata": {},
   "source": [
    "###### Define\n",
    "Convert 'in_reply_to_status_id' and 'in_reply_to_user_id' to integer data type."
   ]
  },
  {
   "cell_type": "markdown",
   "metadata": {},
   "source": [
    "###### Code"
   ]
  },
  {
   "cell_type": "code",
   "execution_count": 84,
   "metadata": {
    "scrolled": false
   },
   "outputs": [
    {
     "name": "stdout",
     "output_type": "stream",
     "text": [
      "<class 'pandas.core.frame.DataFrame'>\n",
      "RangeIndex: 2175 entries, 0 to 2174\n",
      "Data columns (total 10 columns):\n",
      "tweet_id                 2175 non-null int64\n",
      "in_reply_to_status_id    78 non-null float64\n",
      "in_reply_to_user_id      78 non-null float64\n",
      "timestamp                2175 non-null object\n",
      "source                   2175 non-null object\n",
      "text                     2175 non-null object\n",
      "rating_numerator         2175 non-null int64\n",
      "rating_denominator       2175 non-null int64\n",
      "name                     2175 non-null object\n",
      "life_stage               2175 non-null object\n",
      "dtypes: float64(2), int64(3), object(5)\n",
      "memory usage: 170.0+ KB\n"
     ]
    }
   ],
   "source": [
    "twitter_archive_clean.info()"
   ]
  },
  {
   "cell_type": "markdown",
   "metadata": {},
   "source": [
    "Before I can convert data type to int, NaN needs to be replaced with 0 for these columns."
   ]
  },
  {
   "cell_type": "code",
   "execution_count": 85,
   "metadata": {},
   "outputs": [],
   "source": [
    "# Replace NaN with 0\n",
    "twitter_archive_clean['in_reply_to_status_id'].fillna(value=0, inplace=True)\n",
    "twitter_archive_clean['in_reply_to_user_id'].fillna(value=0, inplace=True)"
   ]
  },
  {
   "cell_type": "code",
   "execution_count": 86,
   "metadata": {
    "scrolled": true
   },
   "outputs": [
    {
     "data": {
      "text/plain": [
       "0"
      ]
     },
     "execution_count": 86,
     "metadata": {},
     "output_type": "execute_result"
    }
   ],
   "source": [
    "# Check there is no NaN\n",
    "sum(twitter_archive_clean['in_reply_to_status_id'].isnull()) + sum(twitter_archive_clean['in_reply_to_user_id'].isnull()) "
   ]
  },
  {
   "cell_type": "markdown",
   "metadata": {},
   "source": [
    "Convert 'in_reply_to_status_id' and 'in_reply_to_user_id' to integer data type."
   ]
  },
  {
   "cell_type": "code",
   "execution_count": 87,
   "metadata": {},
   "outputs": [],
   "source": [
    "# Convert to int data type\n",
    "twitter_archive_clean['in_reply_to_status_id'] = twitter_archive_clean['in_reply_to_status_id'].astype(int)\n",
    "twitter_archive_clean['in_reply_to_user_id'] = twitter_archive_clean['in_reply_to_user_id'].astype(int)"
   ]
  },
  {
   "cell_type": "markdown",
   "metadata": {},
   "source": [
    "###### Test"
   ]
  },
  {
   "cell_type": "code",
   "execution_count": 88,
   "metadata": {
    "scrolled": true
   },
   "outputs": [
    {
     "name": "stdout",
     "output_type": "stream",
     "text": [
      "<class 'pandas.core.frame.DataFrame'>\n",
      "RangeIndex: 2175 entries, 0 to 2174\n",
      "Data columns (total 10 columns):\n",
      "tweet_id                 2175 non-null int64\n",
      "in_reply_to_status_id    2175 non-null int32\n",
      "in_reply_to_user_id      2175 non-null int32\n",
      "timestamp                2175 non-null object\n",
      "source                   2175 non-null object\n",
      "text                     2175 non-null object\n",
      "rating_numerator         2175 non-null int64\n",
      "rating_denominator       2175 non-null int64\n",
      "name                     2175 non-null object\n",
      "life_stage               2175 non-null object\n",
      "dtypes: int32(2), int64(3), object(5)\n",
      "memory usage: 153.0+ KB\n"
     ]
    }
   ],
   "source": [
    "twitter_archive_clean.info()"
   ]
  },
  {
   "cell_type": "markdown",
   "metadata": {},
   "source": [
    "Data type of 'in_reply_to_status_id' and 'in_reply_to_user_id' is changed to integer."
   ]
  },
  {
   "cell_type": "markdown",
   "metadata": {},
   "source": [
    "###### `twitter_archive` : Erroneous datatypes : 'timestamp' is string(object)."
   ]
  },
  {
   "cell_type": "markdown",
   "metadata": {},
   "source": [
    "###### Define\n",
    "Convert 'timestamp' to datetime data type. "
   ]
  },
  {
   "cell_type": "markdown",
   "metadata": {},
   "source": [
    "###### Code"
   ]
  },
  {
   "cell_type": "code",
   "execution_count": 89,
   "metadata": {},
   "outputs": [],
   "source": [
    "twitter_archive_clean['timestamp'] = pd.to_datetime(twitter_archive_clean['timestamp'])"
   ]
  },
  {
   "cell_type": "markdown",
   "metadata": {},
   "source": [
    "###### Test"
   ]
  },
  {
   "cell_type": "code",
   "execution_count": 90,
   "metadata": {
    "scrolled": true
   },
   "outputs": [
    {
     "name": "stdout",
     "output_type": "stream",
     "text": [
      "<class 'pandas.core.frame.DataFrame'>\n",
      "RangeIndex: 2175 entries, 0 to 2174\n",
      "Data columns (total 10 columns):\n",
      "tweet_id                 2175 non-null int64\n",
      "in_reply_to_status_id    2175 non-null int32\n",
      "in_reply_to_user_id      2175 non-null int32\n",
      "timestamp                2175 non-null datetime64[ns]\n",
      "source                   2175 non-null object\n",
      "text                     2175 non-null object\n",
      "rating_numerator         2175 non-null int64\n",
      "rating_denominator       2175 non-null int64\n",
      "name                     2175 non-null object\n",
      "life_stage               2175 non-null object\n",
      "dtypes: datetime64[ns](1), int32(2), int64(3), object(4)\n",
      "memory usage: 153.0+ KB\n"
     ]
    }
   ],
   "source": [
    "twitter_archive_clean.info()"
   ]
  },
  {
   "cell_type": "markdown",
   "metadata": {},
   "source": [
    "Data type of 'timestamp' is changed to datetime."
   ]
  },
  {
   "cell_type": "markdown",
   "metadata": {},
   "source": [
    "### Quality"
   ]
  },
  {
   "cell_type": "markdown",
   "metadata": {},
   "source": [
    "###### `twitter_archive` : Erroneous datatypes : 'doggo', 'floofer', 'pupper', and 'puppo' only containts its own value and 'None'."
   ]
  },
  {
   "cell_type": "markdown",
   "metadata": {},
   "source": [
    "###### Define\n",
    "They could have been converted to boolean data types, but this quality issue was addressed in tidiness issue \"Dog life stage variable is in 4 columns\" above.  Instead of converting these 4 columns to boolean data type, new variable life_style was created. No further cleaning needed."
   ]
  },
  {
   "cell_type": "markdown",
   "metadata": {},
   "source": [
    "###### Code\n",
    "N/A"
   ]
  },
  {
   "cell_type": "markdown",
   "metadata": {},
   "source": [
    "###### Test\n",
    "N/A"
   ]
  },
  {
   "cell_type": "markdown",
   "metadata": {},
   "source": [
    "### Quality"
   ]
  },
  {
   "cell_type": "markdown",
   "metadata": {},
   "source": [
    "###### `twitter_archive` : Extract numerator and denomintor from text columns and replace 'rating_numerator' and 'rating_denominator' with correct ones."
   ]
  },
  {
   "cell_type": "markdown",
   "metadata": {},
   "source": [
    "###### Define\n",
    "According to Project Details, 'rating_numerator' and 'rating_denominator' columns might not contain correct values. I'm going to newly extract numerator and denominator from text columns and replace them in 'rating_numerator' and 'rating_denominator' columns."
   ]
  },
  {
   "cell_type": "markdown",
   "metadata": {},
   "source": [
    "###### Code"
   ]
  },
  {
   "cell_type": "markdown",
   "metadata": {},
   "source": [
    "Extract numbers before '/' and after from text column. Some tweets contain more than 1 ratings."
   ]
  },
  {
   "cell_type": "code",
   "execution_count": 91,
   "metadata": {
    "scrolled": false
   },
   "outputs": [],
   "source": [
    "# Extract numbers before '/' and after (\\d+)\\/(\\d+) from text column\n",
    "extracted = twitter_archive_clean['text'].str.extractall('(\\d+)\\/(\\d+)').unstack()"
   ]
  },
  {
   "cell_type": "code",
   "execution_count": 92,
   "metadata": {},
   "outputs": [
    {
     "data": {
      "text/html": [
       "<div>\n",
       "<style scoped>\n",
       "    .dataframe tbody tr th:only-of-type {\n",
       "        vertical-align: middle;\n",
       "    }\n",
       "\n",
       "    .dataframe tbody tr th {\n",
       "        vertical-align: top;\n",
       "    }\n",
       "\n",
       "    .dataframe thead tr th {\n",
       "        text-align: left;\n",
       "    }\n",
       "</style>\n",
       "<table border=\"1\" class=\"dataframe\">\n",
       "  <thead>\n",
       "    <tr>\n",
       "      <th></th>\n",
       "      <th colspan=\"3\" halign=\"left\">0</th>\n",
       "      <th colspan=\"3\" halign=\"left\">1</th>\n",
       "    </tr>\n",
       "    <tr>\n",
       "      <th>match</th>\n",
       "      <th>0</th>\n",
       "      <th>1</th>\n",
       "      <th>2</th>\n",
       "      <th>0</th>\n",
       "      <th>1</th>\n",
       "      <th>2</th>\n",
       "    </tr>\n",
       "  </thead>\n",
       "  <tbody>\n",
       "    <tr>\n",
       "      <th>0</th>\n",
       "      <td>13</td>\n",
       "      <td>None</td>\n",
       "      <td>None</td>\n",
       "      <td>10</td>\n",
       "      <td>None</td>\n",
       "      <td>None</td>\n",
       "    </tr>\n",
       "    <tr>\n",
       "      <th>1</th>\n",
       "      <td>13</td>\n",
       "      <td>None</td>\n",
       "      <td>None</td>\n",
       "      <td>10</td>\n",
       "      <td>None</td>\n",
       "      <td>None</td>\n",
       "    </tr>\n",
       "    <tr>\n",
       "      <th>2</th>\n",
       "      <td>12</td>\n",
       "      <td>None</td>\n",
       "      <td>None</td>\n",
       "      <td>10</td>\n",
       "      <td>None</td>\n",
       "      <td>None</td>\n",
       "    </tr>\n",
       "    <tr>\n",
       "      <th>3</th>\n",
       "      <td>13</td>\n",
       "      <td>None</td>\n",
       "      <td>None</td>\n",
       "      <td>10</td>\n",
       "      <td>None</td>\n",
       "      <td>None</td>\n",
       "    </tr>\n",
       "    <tr>\n",
       "      <th>4</th>\n",
       "      <td>12</td>\n",
       "      <td>None</td>\n",
       "      <td>None</td>\n",
       "      <td>10</td>\n",
       "      <td>None</td>\n",
       "      <td>None</td>\n",
       "    </tr>\n",
       "  </tbody>\n",
       "</table>\n",
       "</div>"
      ],
      "text/plain": [
       "        0               1            \n",
       "match   0     1     2   0     1     2\n",
       "0      13  None  None  10  None  None\n",
       "1      13  None  None  10  None  None\n",
       "2      12  None  None  10  None  None\n",
       "3      13  None  None  10  None  None\n",
       "4      12  None  None  10  None  None"
      ]
     },
     "execution_count": 92,
     "metadata": {},
     "output_type": "execute_result"
    }
   ],
   "source": [
    "extracted.head()"
   ]
  },
  {
   "cell_type": "code",
   "execution_count": 93,
   "metadata": {
    "scrolled": true
   },
   "outputs": [
    {
     "data": {
      "text/html": [
       "<div>\n",
       "<style scoped>\n",
       "    .dataframe tbody tr th:only-of-type {\n",
       "        vertical-align: middle;\n",
       "    }\n",
       "\n",
       "    .dataframe tbody tr th {\n",
       "        vertical-align: top;\n",
       "    }\n",
       "\n",
       "    .dataframe thead tr th {\n",
       "        text-align: left;\n",
       "    }\n",
       "</style>\n",
       "<table border=\"1\" class=\"dataframe\">\n",
       "  <thead>\n",
       "    <tr>\n",
       "      <th></th>\n",
       "      <th colspan=\"3\" halign=\"left\">0</th>\n",
       "      <th colspan=\"3\" halign=\"left\">1</th>\n",
       "    </tr>\n",
       "    <tr>\n",
       "      <th>match</th>\n",
       "      <th>0</th>\n",
       "      <th>1</th>\n",
       "      <th>2</th>\n",
       "      <th>0</th>\n",
       "      <th>1</th>\n",
       "      <th>2</th>\n",
       "    </tr>\n",
       "  </thead>\n",
       "  <tbody>\n",
       "    <tr>\n",
       "      <th>0</th>\n",
       "      <td>13</td>\n",
       "      <td>NaN</td>\n",
       "      <td>NaN</td>\n",
       "      <td>10</td>\n",
       "      <td>NaN</td>\n",
       "      <td>NaN</td>\n",
       "    </tr>\n",
       "    <tr>\n",
       "      <th>1</th>\n",
       "      <td>13</td>\n",
       "      <td>NaN</td>\n",
       "      <td>NaN</td>\n",
       "      <td>10</td>\n",
       "      <td>NaN</td>\n",
       "      <td>NaN</td>\n",
       "    </tr>\n",
       "    <tr>\n",
       "      <th>2</th>\n",
       "      <td>12</td>\n",
       "      <td>NaN</td>\n",
       "      <td>NaN</td>\n",
       "      <td>10</td>\n",
       "      <td>NaN</td>\n",
       "      <td>NaN</td>\n",
       "    </tr>\n",
       "    <tr>\n",
       "      <th>3</th>\n",
       "      <td>13</td>\n",
       "      <td>NaN</td>\n",
       "      <td>NaN</td>\n",
       "      <td>10</td>\n",
       "      <td>NaN</td>\n",
       "      <td>NaN</td>\n",
       "    </tr>\n",
       "    <tr>\n",
       "      <th>4</th>\n",
       "      <td>12</td>\n",
       "      <td>NaN</td>\n",
       "      <td>NaN</td>\n",
       "      <td>10</td>\n",
       "      <td>NaN</td>\n",
       "      <td>NaN</td>\n",
       "    </tr>\n",
       "  </tbody>\n",
       "</table>\n",
       "</div>"
      ],
      "text/plain": [
       "        0             1          \n",
       "match   0    1    2   0    1    2\n",
       "0      13  NaN  NaN  10  NaN  NaN\n",
       "1      13  NaN  NaN  10  NaN  NaN\n",
       "2      12  NaN  NaN  10  NaN  NaN\n",
       "3      13  NaN  NaN  10  NaN  NaN\n",
       "4      12  NaN  NaN  10  NaN  NaN"
      ]
     },
     "execution_count": 93,
     "metadata": {},
     "output_type": "execute_result"
    }
   ],
   "source": [
    "# Replace 'None' with NaN since these are numbers\n",
    "extracted.fillna(value=np.nan, inplace=True)\n",
    "extracted.head()"
   ]
  },
  {
   "cell_type": "markdown",
   "metadata": {},
   "source": [
    "First, find any text which had 3 matched ratings."
   ]
  },
  {
   "cell_type": "code",
   "execution_count": 94,
   "metadata": {
    "scrolled": false
   },
   "outputs": [
    {
     "data": {
      "text/plain": [
       "   match\n",
       "0  0        1\n",
       "   1        1\n",
       "   2        1\n",
       "1  0        1\n",
       "   1        1\n",
       "   2        1\n",
       "dtype: int64"
      ]
     },
     "execution_count": 94,
     "metadata": {},
     "output_type": "execute_result"
    }
   ],
   "source": [
    "extracted[extracted[0][2].notnull()].count()"
   ]
  },
  {
   "cell_type": "markdown",
   "metadata": {},
   "source": [
    "It seems like there is only 1 tweet having 3 matched ratings."
   ]
  },
  {
   "cell_type": "code",
   "execution_count": 95,
   "metadata": {
    "scrolled": true
   },
   "outputs": [
    {
     "data": {
      "text/plain": [
       "(672248013293752320,\n",
       " '10/10 for dog. 7/10 for cat. 12/10 for human. Much skill. Would pet all https://t.co/uhx5gfpx5k')"
      ]
     },
     "execution_count": 95,
     "metadata": {},
     "output_type": "execute_result"
    }
   ],
   "source": [
    "twitter_archive_clean.iloc[extracted[extracted[0][2].notnull()].index[0]]['tweet_id'], \\\n",
    "twitter_archive_clean.iloc[extracted[extracted[0][2].notnull()].index[0]]['text']"
   ]
  },
  {
   "cell_type": "markdown",
   "metadata": {},
   "source": [
    "By investigating the text column, the correct numerator and denominator for tweet_id 672248013293752320 is 10/10."
   ]
  },
  {
   "cell_type": "code",
   "execution_count": 96,
   "metadata": {},
   "outputs": [
    {
     "data": {
      "text/plain": [
       "(10, 10)"
      ]
     },
     "execution_count": 96,
     "metadata": {},
     "output_type": "execute_result"
    }
   ],
   "source": [
    "twitter_archive_clean.iloc[extracted[extracted[0][2].notnull()].index[0]]['rating_numerator'], \\\n",
    "twitter_archive_clean.iloc[extracted[extracted[0][2].notnull()].index[0]]['rating_denominator']"
   ]
  },
  {
   "cell_type": "markdown",
   "metadata": {},
   "source": [
    "Comfirmed that tweet_id 672248013293752320 has the correct numerator and denominator.\n",
    "\n",
    "Now investigating any tweets which had 2 matched ratings."
   ]
  },
  {
   "cell_type": "code",
   "execution_count": 97,
   "metadata": {
    "scrolled": false
   },
   "outputs": [
    {
     "data": {
      "text/plain": [
       "   match\n",
       "0  0        30\n",
       "   1        30\n",
       "   2         1\n",
       "1  0        30\n",
       "   1        30\n",
       "   2         1\n",
       "dtype: int64"
      ]
     },
     "execution_count": 97,
     "metadata": {},
     "output_type": "execute_result"
    }
   ],
   "source": [
    "extracted[extracted[0][1].notnull()].count()"
   ]
  },
  {
   "cell_type": "markdown",
   "metadata": {},
   "source": [
    "There are 30 tweets with 2 matched ratings."
   ]
  },
  {
   "cell_type": "code",
   "execution_count": 98,
   "metadata": {
    "scrolled": true
   },
   "outputs": [
    {
     "data": {
      "text/html": [
       "<div>\n",
       "<style scoped>\n",
       "    .dataframe tbody tr th:only-of-type {\n",
       "        vertical-align: middle;\n",
       "    }\n",
       "\n",
       "    .dataframe tbody tr th {\n",
       "        vertical-align: top;\n",
       "    }\n",
       "\n",
       "    .dataframe thead tr th {\n",
       "        text-align: left;\n",
       "    }\n",
       "</style>\n",
       "<table border=\"1\" class=\"dataframe\">\n",
       "  <thead>\n",
       "    <tr>\n",
       "      <th></th>\n",
       "      <th colspan=\"3\" halign=\"left\">0</th>\n",
       "      <th colspan=\"3\" halign=\"left\">1</th>\n",
       "    </tr>\n",
       "    <tr>\n",
       "      <th>match</th>\n",
       "      <th>0</th>\n",
       "      <th>1</th>\n",
       "      <th>2</th>\n",
       "      <th>0</th>\n",
       "      <th>1</th>\n",
       "      <th>2</th>\n",
       "    </tr>\n",
       "  </thead>\n",
       "  <tbody>\n",
       "    <tr>\n",
       "      <th>0</th>\n",
       "      <td>13</td>\n",
       "      <td>NaN</td>\n",
       "      <td>NaN</td>\n",
       "      <td>10</td>\n",
       "      <td>NaN</td>\n",
       "      <td>NaN</td>\n",
       "    </tr>\n",
       "    <tr>\n",
       "      <th>1</th>\n",
       "      <td>13</td>\n",
       "      <td>NaN</td>\n",
       "      <td>NaN</td>\n",
       "      <td>10</td>\n",
       "      <td>NaN</td>\n",
       "      <td>NaN</td>\n",
       "    </tr>\n",
       "    <tr>\n",
       "      <th>2</th>\n",
       "      <td>12</td>\n",
       "      <td>NaN</td>\n",
       "      <td>NaN</td>\n",
       "      <td>10</td>\n",
       "      <td>NaN</td>\n",
       "      <td>NaN</td>\n",
       "    </tr>\n",
       "    <tr>\n",
       "      <th>3</th>\n",
       "      <td>13</td>\n",
       "      <td>NaN</td>\n",
       "      <td>NaN</td>\n",
       "      <td>10</td>\n",
       "      <td>NaN</td>\n",
       "      <td>NaN</td>\n",
       "    </tr>\n",
       "    <tr>\n",
       "      <th>4</th>\n",
       "      <td>12</td>\n",
       "      <td>NaN</td>\n",
       "      <td>NaN</td>\n",
       "      <td>10</td>\n",
       "      <td>NaN</td>\n",
       "      <td>NaN</td>\n",
       "    </tr>\n",
       "  </tbody>\n",
       "</table>\n",
       "</div>"
      ],
      "text/plain": [
       "        0             1          \n",
       "match   0    1    2   0    1    2\n",
       "0      13  NaN  NaN  10  NaN  NaN\n",
       "1      13  NaN  NaN  10  NaN  NaN\n",
       "2      12  NaN  NaN  10  NaN  NaN\n",
       "3      13  NaN  NaN  10  NaN  NaN\n",
       "4      12  NaN  NaN  10  NaN  NaN"
      ]
     },
     "execution_count": 98,
     "metadata": {},
     "output_type": "execute_result"
    }
   ],
   "source": [
    "extracted.head()"
   ]
  },
  {
   "cell_type": "markdown",
   "metadata": {},
   "source": [
    "Create new dataframe with current numerator and denominator & 2 matched numerators and denominators for easy comparisons and evlauation."
   ]
  },
  {
   "cell_type": "code",
   "execution_count": 99,
   "metadata": {
    "scrolled": true
   },
   "outputs": [],
   "source": [
    "# Subset tweet_id, text, numerator and denominator from twitter_archive_clean\n",
    "# for all tweets which had 2 matched pattern.\n",
    "two_pattern = pd.DataFrame(data = { \\\n",
    "    'tweet_id' : twitter_archive_clean[extracted[0][1].notnull()]['tweet_id'], \\\n",
    "    'text' : twitter_archive_clean[extracted[0][1].notnull()]['text'], \\\n",
    "    'tac_nume' : twitter_archive_clean[extracted[0][1].notnull()]['rating_numerator'], \\\n",
    "    'tac_deno' : twitter_archive_clean[extracted[0][1].notnull()]['rating_denominator']     \n",
    "})"
   ]
  },
  {
   "cell_type": "code",
   "execution_count": 100,
   "metadata": {},
   "outputs": [],
   "source": [
    "# Subset 1st and 2nd mattched numerator and denominator.\n",
    "extracted_two_pattern = extracted[extracted[0][1].notnull()]\n",
    "\n",
    "extracted_two_pattern_rating = pd.DataFrame(data = { \\\n",
    "    'nume1' : extracted_two_pattern[0][0], \\\n",
    "    'deno1' : extracted_two_pattern[1][0], \\\n",
    "    'nume2' : extracted_two_pattern[0][1], \\\n",
    "    'deno2' : extracted_two_pattern[1][1] \\\n",
    "}) "
   ]
  },
  {
   "cell_type": "code",
   "execution_count": 101,
   "metadata": {},
   "outputs": [],
   "source": [
    "# Join them together for new table\n",
    "two_pattern = two_pattern.join(extracted_two_pattern_rating)"
   ]
  },
  {
   "cell_type": "code",
   "execution_count": 102,
   "metadata": {
    "scrolled": false
   },
   "outputs": [
    {
     "name": "stdout",
     "output_type": "stream",
     "text": [
      "<class 'pandas.core.frame.DataFrame'>\n",
      "Int64Index: 30 entries, 45 to 2126\n",
      "Data columns (total 8 columns):\n",
      "tac_deno    30 non-null int64\n",
      "tac_nume    30 non-null int64\n",
      "text        30 non-null object\n",
      "tweet_id    30 non-null int64\n",
      "deno1       30 non-null object\n",
      "deno2       30 non-null object\n",
      "nume1       30 non-null object\n",
      "nume2       30 non-null object\n",
      "dtypes: int64(3), object(5)\n",
      "memory usage: 3.4+ KB\n"
     ]
    }
   ],
   "source": [
    "two_pattern.info()"
   ]
  },
  {
   "cell_type": "markdown",
   "metadata": {},
   "source": [
    "Change data type of deno1, deno2, nume1, nume2 to int"
   ]
  },
  {
   "cell_type": "code",
   "execution_count": 103,
   "metadata": {},
   "outputs": [],
   "source": [
    "# Change data type to int\n",
    "two_pattern['deno1'] = two_pattern['deno1'].astype(int)\n",
    "two_pattern['deno2'] = two_pattern['deno2'].astype(int)\n",
    "two_pattern['nume1'] = two_pattern['nume1'].astype(int)\n",
    "two_pattern['nume2'] = two_pattern['nume2'].astype(int)"
   ]
  },
  {
   "cell_type": "markdown",
   "metadata": {},
   "source": [
    "Look at new dataframe created."
   ]
  },
  {
   "cell_type": "code",
   "execution_count": 104,
   "metadata": {
    "scrolled": true
   },
   "outputs": [
    {
     "data": {
      "text/html": [
       "<div>\n",
       "<style scoped>\n",
       "    .dataframe tbody tr th:only-of-type {\n",
       "        vertical-align: middle;\n",
       "    }\n",
       "\n",
       "    .dataframe tbody tr th {\n",
       "        vertical-align: top;\n",
       "    }\n",
       "\n",
       "    .dataframe thead th {\n",
       "        text-align: right;\n",
       "    }\n",
       "</style>\n",
       "<table border=\"1\" class=\"dataframe\">\n",
       "  <thead>\n",
       "    <tr style=\"text-align: right;\">\n",
       "      <th></th>\n",
       "      <th>tac_deno</th>\n",
       "      <th>tac_nume</th>\n",
       "      <th>text</th>\n",
       "      <th>tweet_id</th>\n",
       "      <th>deno1</th>\n",
       "      <th>deno2</th>\n",
       "      <th>nume1</th>\n",
       "      <th>nume2</th>\n",
       "    </tr>\n",
       "  </thead>\n",
       "  <tbody>\n",
       "    <tr>\n",
       "      <th>45</th>\n",
       "      <td>10</td>\n",
       "      <td>17</td>\n",
       "      <td>@roushfenway These are good dogs but 17/10 is an emotional impulse rating. More like 13/10s</td>\n",
       "      <td>881633300179243008</td>\n",
       "      <td>10</td>\n",
       "      <td>10</td>\n",
       "      <td>17</td>\n",
       "      <td>13</td>\n",
       "    </tr>\n",
       "    <tr>\n",
       "      <th>230</th>\n",
       "      <td>0</td>\n",
       "      <td>960</td>\n",
       "      <td>@jonnysun @Lin_Manuel ok jomny I know you're excited but 960/00 isn't a valid rating, 13/10 is tho</td>\n",
       "      <td>835246439529840640</td>\n",
       "      <td>0</td>\n",
       "      <td>10</td>\n",
       "      <td>960</td>\n",
       "      <td>13</td>\n",
       "    </tr>\n",
       "    <tr>\n",
       "      <th>514</th>\n",
       "      <td>10</td>\n",
       "      <td>12</td>\n",
       "      <td>\"Yep... just as I suspected. You're not flossing.\" 12/10 and 11/10 for the pup not flossing https://t.co/SuXcI9B7pQ</td>\n",
       "      <td>777684233540206592</td>\n",
       "      <td>10</td>\n",
       "      <td>10</td>\n",
       "      <td>12</td>\n",
       "      <td>11</td>\n",
       "    </tr>\n",
       "    <tr>\n",
       "      <th>681</th>\n",
       "      <td>10</td>\n",
       "      <td>10</td>\n",
       "      <td>This is Bookstore and Seaweed. Bookstore is tired and Seaweed is an asshole. 10/10 and 7/10 respectively https://t.co/eUGjGjjFVJ</td>\n",
       "      <td>747600769478692864</td>\n",
       "      <td>10</td>\n",
       "      <td>10</td>\n",
       "      <td>10</td>\n",
       "      <td>7</td>\n",
       "    </tr>\n",
       "    <tr>\n",
       "      <th>726</th>\n",
       "      <td>11</td>\n",
       "      <td>9</td>\n",
       "      <td>After so many requests, this is Bretagne. She was the last surviving 9/11 search dog, and our second ever 14/10. RIP https://t.co/XAVDNDaVgQ</td>\n",
       "      <td>740373189193256964</td>\n",
       "      <td>11</td>\n",
       "      <td>10</td>\n",
       "      <td>9</td>\n",
       "      <td>14</td>\n",
       "    </tr>\n",
       "    <tr>\n",
       "      <th>800</th>\n",
       "      <td>20</td>\n",
       "      <td>4</td>\n",
       "      <td>Happy 4/20 from the squad! 13/10 for all https://t.co/eV1diwds8a</td>\n",
       "      <td>722974582966214656</td>\n",
       "      <td>20</td>\n",
       "      <td>10</td>\n",
       "      <td>4</td>\n",
       "      <td>13</td>\n",
       "    </tr>\n",
       "    <tr>\n",
       "      <th>830</th>\n",
       "      <td>50</td>\n",
       "      <td>50</td>\n",
       "      <td>This is Bluebert. He just saw that both #FinalFur match ups are split 50/50. Amazed af. 11/10 https://t.co/Kky1DPG4iq</td>\n",
       "      <td>716439118184652801</td>\n",
       "      <td>50</td>\n",
       "      <td>10</td>\n",
       "      <td>50</td>\n",
       "      <td>11</td>\n",
       "    </tr>\n",
       "    <tr>\n",
       "      <th>849</th>\n",
       "      <td>10</td>\n",
       "      <td>10</td>\n",
       "      <td>Meet Travis and Flurp. Travis is pretty chill but Flurp can't lie down properly. 10/10 &amp;amp; 8/10\\nget it together Flurp https://t.co/Akzl5ynMmE</td>\n",
       "      <td>714258258790387713</td>\n",
       "      <td>10</td>\n",
       "      <td>10</td>\n",
       "      <td>10</td>\n",
       "      <td>8</td>\n",
       "    </tr>\n",
       "    <tr>\n",
       "      <th>968</th>\n",
       "      <td>10</td>\n",
       "      <td>9</td>\n",
       "      <td>This is Socks. That water pup w the super legs just splashed him. Socks did not appreciate that. 9/10 and 2/10 https://t.co/8rc5I22bBf</td>\n",
       "      <td>703356393781329922</td>\n",
       "      <td>10</td>\n",
       "      <td>10</td>\n",
       "      <td>9</td>\n",
       "      <td>2</td>\n",
       "    </tr>\n",
       "    <tr>\n",
       "      <th>1050</th>\n",
       "      <td>10</td>\n",
       "      <td>4</td>\n",
       "      <td>This may be the greatest video I've ever been sent. 4/10 for Charles the puppy, 13/10 overall. (Vid by @stevenxx_) https://t.co/uaJmNgXR2P</td>\n",
       "      <td>695064344191721472</td>\n",
       "      <td>10</td>\n",
       "      <td>10</td>\n",
       "      <td>4</td>\n",
       "      <td>13</td>\n",
       "    </tr>\n",
       "    <tr>\n",
       "      <th>1055</th>\n",
       "      <td>10</td>\n",
       "      <td>10</td>\n",
       "      <td>Meet Oliviér. He takes killer selfies. Has a dog of his own. It leaps at random &amp;amp; can't bark for shit. 10/10 &amp;amp; 5/10 https://t.co/6NgsQJuSBJ</td>\n",
       "      <td>694352839993344000</td>\n",
       "      <td>10</td>\n",
       "      <td>10</td>\n",
       "      <td>10</td>\n",
       "      <td>5</td>\n",
       "    </tr>\n",
       "    <tr>\n",
       "      <th>1089</th>\n",
       "      <td>10</td>\n",
       "      <td>5</td>\n",
       "      <td>When bae says they can't go out but you see them with someone else that same night. 5/10 &amp;amp; 10/10 for heartbroken pup https://t.co/aenk0KpoWM</td>\n",
       "      <td>691483041324204033</td>\n",
       "      <td>10</td>\n",
       "      <td>10</td>\n",
       "      <td>5</td>\n",
       "      <td>10</td>\n",
       "    </tr>\n",
       "    <tr>\n",
       "      <th>1106</th>\n",
       "      <td>10</td>\n",
       "      <td>10</td>\n",
       "      <td>This is Eriq. His friend just reminded him of last year's super bowl. Not cool friend\\n10/10 for Eriq\\n6/10 for friend https://t.co/PlEXTofdpf</td>\n",
       "      <td>690400367696297985</td>\n",
       "      <td>10</td>\n",
       "      <td>10</td>\n",
       "      <td>10</td>\n",
       "      <td>6</td>\n",
       "    </tr>\n",
       "    <tr>\n",
       "      <th>1116</th>\n",
       "      <td>10</td>\n",
       "      <td>11</td>\n",
       "      <td>Meet Fynn &amp;amp; Taco. Fynn is an all-powerful leaf lord and Taco is in the wrong place at the wrong time. 11/10 &amp;amp; 10/10 https://t.co/MuqHPvtL8c</td>\n",
       "      <td>689835978131935233</td>\n",
       "      <td>10</td>\n",
       "      <td>10</td>\n",
       "      <td>11</td>\n",
       "      <td>10</td>\n",
       "    </tr>\n",
       "    <tr>\n",
       "      <th>1206</th>\n",
       "      <td>11</td>\n",
       "      <td>7</td>\n",
       "      <td>This is Darrel. He just robbed a 7/11 and is in a high speed police chase. Was just spotted by the helicopter 10/10 https://t.co/7EsP8LmSp5</td>\n",
       "      <td>682962037429899265</td>\n",
       "      <td>11</td>\n",
       "      <td>10</td>\n",
       "      <td>7</td>\n",
       "      <td>10</td>\n",
       "    </tr>\n",
       "    <tr>\n",
       "      <th>1316</th>\n",
       "      <td>10</td>\n",
       "      <td>10</td>\n",
       "      <td>Meet Tassy &amp;amp; Bee. Tassy is pretty chill, but Bee is convinced the Ruffles are haunted. 10/10 &amp;amp; 11/10 respectively https://t.co/fgORpmTN9C</td>\n",
       "      <td>677314812125323265</td>\n",
       "      <td>10</td>\n",
       "      <td>10</td>\n",
       "      <td>10</td>\n",
       "      <td>11</td>\n",
       "    </tr>\n",
       "    <tr>\n",
       "      <th>1343</th>\n",
       "      <td>10</td>\n",
       "      <td>10</td>\n",
       "      <td>These two pups just met and have instantly bonded. Spectacular scene. Mesmerizing af. 10/10 and 7/10 for blue dog https://t.co/gwryaJO4tC</td>\n",
       "      <td>676191832485810177</td>\n",
       "      <td>10</td>\n",
       "      <td>10</td>\n",
       "      <td>10</td>\n",
       "      <td>7</td>\n",
       "    </tr>\n",
       "    <tr>\n",
       "      <th>1404</th>\n",
       "      <td>10</td>\n",
       "      <td>5</td>\n",
       "      <td>Two gorgeous dogs here. Little waddling dog is a rebel. Refuses to look at camera. Must be a preteen. 5/10 &amp;amp; 8/10 https://t.co/YPfw7oahbD</td>\n",
       "      <td>674646392044941312</td>\n",
       "      <td>10</td>\n",
       "      <td>10</td>\n",
       "      <td>5</td>\n",
       "      <td>8</td>\n",
       "    </tr>\n",
       "    <tr>\n",
       "      <th>1489</th>\n",
       "      <td>10</td>\n",
       "      <td>10</td>\n",
       "      <td>10/10 for dog. 7/10 for cat. 12/10 for human. Much skill. Would pet all https://t.co/uhx5gfpx5k</td>\n",
       "      <td>672248013293752320</td>\n",
       "      <td>10</td>\n",
       "      <td>10</td>\n",
       "      <td>10</td>\n",
       "      <td>7</td>\n",
       "    </tr>\n",
       "    <tr>\n",
       "      <th>1541</th>\n",
       "      <td>10</td>\n",
       "      <td>11</td>\n",
       "      <td>Meet Holly. She's trying to teach small human-like pup about blocks but he's not paying attention smh. 11/10 &amp;amp; 8/10 https://t.co/RcksaUrGNu</td>\n",
       "      <td>671154572044468225</td>\n",
       "      <td>10</td>\n",
       "      <td>10</td>\n",
       "      <td>11</td>\n",
       "      <td>8</td>\n",
       "    </tr>\n",
       "  </tbody>\n",
       "</table>\n",
       "</div>"
      ],
      "text/plain": [
       "      tac_deno  tac_nume  \\\n",
       "45          10        17   \n",
       "230          0       960   \n",
       "514         10        12   \n",
       "681         10        10   \n",
       "726         11         9   \n",
       "800         20         4   \n",
       "830         50        50   \n",
       "849         10        10   \n",
       "968         10         9   \n",
       "1050        10         4   \n",
       "1055        10        10   \n",
       "1089        10         5   \n",
       "1106        10        10   \n",
       "1116        10        11   \n",
       "1206        11         7   \n",
       "1316        10        10   \n",
       "1343        10        10   \n",
       "1404        10         5   \n",
       "1489        10        10   \n",
       "1541        10        11   \n",
       "\n",
       "                                                                                                                                                     text  \\\n",
       "45                                                            @roushfenway These are good dogs but 17/10 is an emotional impulse rating. More like 13/10s   \n",
       "230                                                    @jonnysun @Lin_Manuel ok jomny I know you're excited but 960/00 isn't a valid rating, 13/10 is tho   \n",
       "514                                   \"Yep... just as I suspected. You're not flossing.\" 12/10 and 11/10 for the pup not flossing https://t.co/SuXcI9B7pQ   \n",
       "681                      This is Bookstore and Seaweed. Bookstore is tired and Seaweed is an asshole. 10/10 and 7/10 respectively https://t.co/eUGjGjjFVJ   \n",
       "726          After so many requests, this is Bretagne. She was the last surviving 9/11 search dog, and our second ever 14/10. RIP https://t.co/XAVDNDaVgQ   \n",
       "800                                                                                      Happy 4/20 from the squad! 13/10 for all https://t.co/eV1diwds8a   \n",
       "830                                 This is Bluebert. He just saw that both #FinalFur match ups are split 50/50. Amazed af. 11/10 https://t.co/Kky1DPG4iq   \n",
       "849      Meet Travis and Flurp. Travis is pretty chill but Flurp can't lie down properly. 10/10 &amp; 8/10\\nget it together Flurp https://t.co/Akzl5ynMmE   \n",
       "968                This is Socks. That water pup w the super legs just splashed him. Socks did not appreciate that. 9/10 and 2/10 https://t.co/8rc5I22bBf   \n",
       "1050           This may be the greatest video I've ever been sent. 4/10 for Charles the puppy, 13/10 overall. (Vid by @stevenxx_) https://t.co/uaJmNgXR2P   \n",
       "1055  Meet Oliviér. He takes killer selfies. Has a dog of his own. It leaps at random &amp; can't bark for shit. 10/10 &amp; 5/10 https://t.co/6NgsQJuSBJ   \n",
       "1089     When bae says they can't go out but you see them with someone else that same night. 5/10 &amp; 10/10 for heartbroken pup https://t.co/aenk0KpoWM   \n",
       "1106       This is Eriq. His friend just reminded him of last year's super bowl. Not cool friend\\n10/10 for Eriq\\n6/10 for friend https://t.co/PlEXTofdpf   \n",
       "1116  Meet Fynn &amp; Taco. Fynn is an all-powerful leaf lord and Taco is in the wrong place at the wrong time. 11/10 &amp; 10/10 https://t.co/MuqHPvtL8c   \n",
       "1206          This is Darrel. He just robbed a 7/11 and is in a high speed police chase. Was just spotted by the helicopter 10/10 https://t.co/7EsP8LmSp5   \n",
       "1316    Meet Tassy &amp; Bee. Tassy is pretty chill, but Bee is convinced the Ruffles are haunted. 10/10 &amp; 11/10 respectively https://t.co/fgORpmTN9C   \n",
       "1343            These two pups just met and have instantly bonded. Spectacular scene. Mesmerizing af. 10/10 and 7/10 for blue dog https://t.co/gwryaJO4tC   \n",
       "1404        Two gorgeous dogs here. Little waddling dog is a rebel. Refuses to look at camera. Must be a preteen. 5/10 &amp; 8/10 https://t.co/YPfw7oahbD   \n",
       "1489                                                      10/10 for dog. 7/10 for cat. 12/10 for human. Much skill. Would pet all https://t.co/uhx5gfpx5k   \n",
       "1541      Meet Holly. She's trying to teach small human-like pup about blocks but he's not paying attention smh. 11/10 &amp; 8/10 https://t.co/RcksaUrGNu   \n",
       "\n",
       "                tweet_id  deno1  deno2  nume1  nume2  \n",
       "45    881633300179243008     10     10     17     13  \n",
       "230   835246439529840640      0     10    960     13  \n",
       "514   777684233540206592     10     10     12     11  \n",
       "681   747600769478692864     10     10     10      7  \n",
       "726   740373189193256964     11     10      9     14  \n",
       "800   722974582966214656     20     10      4     13  \n",
       "830   716439118184652801     50     10     50     11  \n",
       "849   714258258790387713     10     10     10      8  \n",
       "968   703356393781329922     10     10      9      2  \n",
       "1050  695064344191721472     10     10      4     13  \n",
       "1055  694352839993344000     10     10     10      5  \n",
       "1089  691483041324204033     10     10      5     10  \n",
       "1106  690400367696297985     10     10     10      6  \n",
       "1116  689835978131935233     10     10     11     10  \n",
       "1206  682962037429899265     11     10      7     10  \n",
       "1316  677314812125323265     10     10     10     11  \n",
       "1343  676191832485810177     10     10     10      7  \n",
       "1404  674646392044941312     10     10      5      8  \n",
       "1489  672248013293752320     10     10     10      7  \n",
       "1541  671154572044468225     10     10     11      8  "
      ]
     },
     "execution_count": 104,
     "metadata": {},
     "output_type": "execute_result"
    }
   ],
   "source": [
    "two_pattern.head(20)"
   ]
  },
  {
   "cell_type": "markdown",
   "metadata": {},
   "source": [
    "By looking at the dataframe above, it seems like there are cases for 2 matched pattern are:\n",
    "- 2 rating for 2 dogs, will keep rating with higher numerator\n",
    "- 1 for dog rating and 1 for date, i.e. 9/11\n",
    "- 1 for dog rating and something else, i.e. 3 1/2 legs\n",
    "\n",
    "It looks like if I take the rating for higher numerator out of 2, it would work for all cases.\n",
    "\n",
    "Before I do that, I need to drop tweet_id 672248013293752320 (3 matched pattern tweet) from the dataframe as I already determined it has the correct numerator and denominator."
   ]
  },
  {
   "cell_type": "code",
   "execution_count": 105,
   "metadata": {},
   "outputs": [],
   "source": [
    "# Removing tweets 672248013293752320\n",
    "two_pattern = two_pattern[(two_pattern['tweet_id'] != 672248013293752320)]"
   ]
  },
  {
   "cell_type": "markdown",
   "metadata": {},
   "source": [
    "Determine which of 2 ratings have higher numerator and replace that with current numerator and denominator."
   ]
  },
  {
   "cell_type": "code",
   "execution_count": 106,
   "metadata": {
    "scrolled": true
   },
   "outputs": [
    {
     "data": {
      "text/plain": [
       "45      None\n",
       "230     None\n",
       "514     None\n",
       "681     None\n",
       "726     None\n",
       "800     None\n",
       "830     None\n",
       "849     None\n",
       "968     None\n",
       "1050    None\n",
       "1055    None\n",
       "1089    None\n",
       "1106    None\n",
       "1116    None\n",
       "1206    None\n",
       "1316    None\n",
       "1343    None\n",
       "1404    None\n",
       "1541    None\n",
       "1590    None\n",
       "1654    None\n",
       "1693    None\n",
       "1738    None\n",
       "1747    None\n",
       "1773    None\n",
       "1781    None\n",
       "1810    None\n",
       "2112    None\n",
       "2126    None\n",
       "dtype: object"
      ]
     },
     "execution_count": 106,
     "metadata": {},
     "output_type": "execute_result"
    }
   ],
   "source": [
    "# Function to pick rating with higher numerator and assign numerator and denominator.\n",
    "def assign_correct_rating(x):\n",
    "    if x['nume1'] > x['nume2']:\n",
    "        nume = x['nume1']\n",
    "        deno = x['deno1']\n",
    "    else:\n",
    "        nume = x['nume2']\n",
    "        deno = x['deno2']\n",
    " \n",
    "    twitter_archive_clean.loc[twitter_archive_clean['tweet_id'] == x['tweet_id'], 'rating_numerator'] = nume\n",
    "    twitter_archive_clean.loc[twitter_archive_clean['tweet_id'] == x['tweet_id'], 'rating_denominator'] = deno  \n",
    "\n",
    "two_pattern.apply(assign_correct_rating, axis=1)"
   ]
  },
  {
   "cell_type": "markdown",
   "metadata": {},
   "source": [
    "Test to see if correct rating has been assigned."
   ]
  },
  {
   "cell_type": "code",
   "execution_count": 107,
   "metadata": {
    "scrolled": true
   },
   "outputs": [
    {
     "data": {
      "text/html": [
       "<div>\n",
       "<style scoped>\n",
       "    .dataframe tbody tr th:only-of-type {\n",
       "        vertical-align: middle;\n",
       "    }\n",
       "\n",
       "    .dataframe tbody tr th {\n",
       "        vertical-align: top;\n",
       "    }\n",
       "\n",
       "    .dataframe thead th {\n",
       "        text-align: right;\n",
       "    }\n",
       "</style>\n",
       "<table border=\"1\" class=\"dataframe\">\n",
       "  <thead>\n",
       "    <tr style=\"text-align: right;\">\n",
       "      <th></th>\n",
       "      <th>tweet_id</th>\n",
       "      <th>in_reply_to_status_id</th>\n",
       "      <th>in_reply_to_user_id</th>\n",
       "      <th>timestamp</th>\n",
       "      <th>source</th>\n",
       "      <th>text</th>\n",
       "      <th>rating_numerator</th>\n",
       "      <th>rating_denominator</th>\n",
       "      <th>name</th>\n",
       "      <th>life_stage</th>\n",
       "    </tr>\n",
       "  </thead>\n",
       "  <tbody>\n",
       "    <tr>\n",
       "      <th>1089</th>\n",
       "      <td>691483041324204033</td>\n",
       "      <td>0</td>\n",
       "      <td>0</td>\n",
       "      <td>2016-01-25 04:49:38</td>\n",
       "      <td>Twitter for iPhone</td>\n",
       "      <td>When bae says they can't go out but you see them with someone else that same night. 5/10 &amp;amp; 10/10 for heartbroken pup https://t.co/aenk0KpoWM</td>\n",
       "      <td>10</td>\n",
       "      <td>10</td>\n",
       "      <td>None</td>\n",
       "      <td>None</td>\n",
       "    </tr>\n",
       "  </tbody>\n",
       "</table>\n",
       "</div>"
      ],
      "text/plain": [
       "                tweet_id  in_reply_to_status_id  in_reply_to_user_id  \\\n",
       "1089  691483041324204033                      0                    0   \n",
       "\n",
       "               timestamp              source  \\\n",
       "1089 2016-01-25 04:49:38  Twitter for iPhone   \n",
       "\n",
       "                                                                                                                                                  text  \\\n",
       "1089  When bae says they can't go out but you see them with someone else that same night. 5/10 &amp; 10/10 for heartbroken pup https://t.co/aenk0KpoWM   \n",
       "\n",
       "      rating_numerator  rating_denominator  name life_stage  \n",
       "1089                10                  10  None       None  "
      ]
     },
     "execution_count": 107,
     "metadata": {},
     "output_type": "execute_result"
    }
   ],
   "source": [
    "# Testing - check if value is changed from 5/10 to 10/10 for tweet_id 691483041324204033\n",
    "twitter_archive_clean[twitter_archive_clean['tweet_id'] == 691483041324204033]"
   ]
  },
  {
   "cell_type": "markdown",
   "metadata": {},
   "source": [
    "Now, I am going to replace numerator and denominator for tweet matching only 1 rating."
   ]
  },
  {
   "cell_type": "code",
   "execution_count": 108,
   "metadata": {},
   "outputs": [],
   "source": [
    "one_pattern = extracted[extracted[0][1].isnull()]"
   ]
  },
  {
   "cell_type": "code",
   "execution_count": 109,
   "metadata": {
    "scrolled": true
   },
   "outputs": [
    {
     "data": {
      "text/html": [
       "<div>\n",
       "<style scoped>\n",
       "    .dataframe tbody tr th:only-of-type {\n",
       "        vertical-align: middle;\n",
       "    }\n",
       "\n",
       "    .dataframe tbody tr th {\n",
       "        vertical-align: top;\n",
       "    }\n",
       "\n",
       "    .dataframe thead tr th {\n",
       "        text-align: left;\n",
       "    }\n",
       "</style>\n",
       "<table border=\"1\" class=\"dataframe\">\n",
       "  <thead>\n",
       "    <tr>\n",
       "      <th></th>\n",
       "      <th colspan=\"3\" halign=\"left\">0</th>\n",
       "      <th colspan=\"3\" halign=\"left\">1</th>\n",
       "    </tr>\n",
       "    <tr>\n",
       "      <th>match</th>\n",
       "      <th>0</th>\n",
       "      <th>1</th>\n",
       "      <th>2</th>\n",
       "      <th>0</th>\n",
       "      <th>1</th>\n",
       "      <th>2</th>\n",
       "    </tr>\n",
       "  </thead>\n",
       "  <tbody>\n",
       "    <tr>\n",
       "      <th>0</th>\n",
       "      <td>13</td>\n",
       "      <td>NaN</td>\n",
       "      <td>NaN</td>\n",
       "      <td>10</td>\n",
       "      <td>NaN</td>\n",
       "      <td>NaN</td>\n",
       "    </tr>\n",
       "    <tr>\n",
       "      <th>1</th>\n",
       "      <td>13</td>\n",
       "      <td>NaN</td>\n",
       "      <td>NaN</td>\n",
       "      <td>10</td>\n",
       "      <td>NaN</td>\n",
       "      <td>NaN</td>\n",
       "    </tr>\n",
       "    <tr>\n",
       "      <th>2</th>\n",
       "      <td>12</td>\n",
       "      <td>NaN</td>\n",
       "      <td>NaN</td>\n",
       "      <td>10</td>\n",
       "      <td>NaN</td>\n",
       "      <td>NaN</td>\n",
       "    </tr>\n",
       "    <tr>\n",
       "      <th>3</th>\n",
       "      <td>13</td>\n",
       "      <td>NaN</td>\n",
       "      <td>NaN</td>\n",
       "      <td>10</td>\n",
       "      <td>NaN</td>\n",
       "      <td>NaN</td>\n",
       "    </tr>\n",
       "    <tr>\n",
       "      <th>4</th>\n",
       "      <td>12</td>\n",
       "      <td>NaN</td>\n",
       "      <td>NaN</td>\n",
       "      <td>10</td>\n",
       "      <td>NaN</td>\n",
       "      <td>NaN</td>\n",
       "    </tr>\n",
       "  </tbody>\n",
       "</table>\n",
       "</div>"
      ],
      "text/plain": [
       "        0             1          \n",
       "match   0    1    2   0    1    2\n",
       "0      13  NaN  NaN  10  NaN  NaN\n",
       "1      13  NaN  NaN  10  NaN  NaN\n",
       "2      12  NaN  NaN  10  NaN  NaN\n",
       "3      13  NaN  NaN  10  NaN  NaN\n",
       "4      12  NaN  NaN  10  NaN  NaN"
      ]
     },
     "execution_count": 109,
     "metadata": {},
     "output_type": "execute_result"
    }
   ],
   "source": [
    "one_pattern.head()"
   ]
  },
  {
   "cell_type": "markdown",
   "metadata": {},
   "source": [
    "Replace extracted numerator and denominator with current numerator and denominator."
   ]
  },
  {
   "cell_type": "code",
   "execution_count": 110,
   "metadata": {},
   "outputs": [],
   "source": [
    "twitter_archive_clean.loc[extracted[0][1].isnull(), 'rating_numerator'] = one_pattern[0][0].astype(int)\n",
    "twitter_archive_clean.loc[extracted[0][1].isnull(), 'rating_denominator'] = one_pattern[1][0].astype(int)"
   ]
  },
  {
   "cell_type": "markdown",
   "metadata": {},
   "source": [
    "###### Test"
   ]
  },
  {
   "cell_type": "code",
   "execution_count": 111,
   "metadata": {
    "scrolled": false
   },
   "outputs": [
    {
     "data": {
      "text/html": [
       "<div>\n",
       "<style scoped>\n",
       "    .dataframe tbody tr th:only-of-type {\n",
       "        vertical-align: middle;\n",
       "    }\n",
       "\n",
       "    .dataframe tbody tr th {\n",
       "        vertical-align: top;\n",
       "    }\n",
       "\n",
       "    .dataframe thead th {\n",
       "        text-align: right;\n",
       "    }\n",
       "</style>\n",
       "<table border=\"1\" class=\"dataframe\">\n",
       "  <thead>\n",
       "    <tr style=\"text-align: right;\">\n",
       "      <th></th>\n",
       "      <th>tweet_id</th>\n",
       "      <th>in_reply_to_status_id</th>\n",
       "      <th>in_reply_to_user_id</th>\n",
       "      <th>timestamp</th>\n",
       "      <th>source</th>\n",
       "      <th>text</th>\n",
       "      <th>rating_numerator</th>\n",
       "      <th>rating_denominator</th>\n",
       "      <th>name</th>\n",
       "      <th>life_stage</th>\n",
       "    </tr>\n",
       "  </thead>\n",
       "  <tbody>\n",
       "    <tr>\n",
       "      <th>388</th>\n",
       "      <td>802600418706604034</td>\n",
       "      <td>0</td>\n",
       "      <td>0</td>\n",
       "      <td>2016-11-26 19:50:26</td>\n",
       "      <td>Vine - Make a Scene</td>\n",
       "      <td>This is Bailey. She has mastered the head tilt. 11/10 rather h*ckin adorable https://t.co/urhl90ZE1O</td>\n",
       "      <td>11</td>\n",
       "      <td>10</td>\n",
       "      <td>Bailey</td>\n",
       "      <td>None</td>\n",
       "    </tr>\n",
       "    <tr>\n",
       "      <th>306</th>\n",
       "      <td>820314633777061888</td>\n",
       "      <td>0</td>\n",
       "      <td>0</td>\n",
       "      <td>2017-01-14 17:00:24</td>\n",
       "      <td>Twitter for iPhone</td>\n",
       "      <td>We are proud to support @LoveYourMelon on their mission to put a hat on every kid battling cancer. They are 14/10\\n\\nhttps://t.co/XQlmPTLHPl https...</td>\n",
       "      <td>14</td>\n",
       "      <td>10</td>\n",
       "      <td>None</td>\n",
       "      <td>None</td>\n",
       "    </tr>\n",
       "    <tr>\n",
       "      <th>1634</th>\n",
       "      <td>669583744538451968</td>\n",
       "      <td>0</td>\n",
       "      <td>0</td>\n",
       "      <td>2015-11-25 18:29:39</td>\n",
       "      <td>Twitter for iPhone</td>\n",
       "      <td>Special dog here. Pretty big. Neck kinda long for dog. Cool spots. Must be a Dalmatian variant. 6/10 would still pet https://t.co/f8GXeDbFzu</td>\n",
       "      <td>6</td>\n",
       "      <td>10</td>\n",
       "      <td>None</td>\n",
       "      <td>None</td>\n",
       "    </tr>\n",
       "    <tr>\n",
       "      <th>1288</th>\n",
       "      <td>678446151570427904</td>\n",
       "      <td>0</td>\n",
       "      <td>0</td>\n",
       "      <td>2015-12-20 05:25:42</td>\n",
       "      <td>Twitter for iPhone</td>\n",
       "      <td>Touching scene here. Really stirs up the emotions. The bond between father &amp;amp; son. So beautiful. 10/10 for both pups https://t.co/AJWJHov5gx</td>\n",
       "      <td>10</td>\n",
       "      <td>10</td>\n",
       "      <td>None</td>\n",
       "      <td>None</td>\n",
       "    </tr>\n",
       "    <tr>\n",
       "      <th>768</th>\n",
       "      <td>730211855403241472</td>\n",
       "      <td>0</td>\n",
       "      <td>0</td>\n",
       "      <td>2016-05-11 01:44:07</td>\n",
       "      <td>Twitter for iPhone</td>\n",
       "      <td>This is Ziva. She doesn't know how her collar works. 11/10 would totally fix for her https://t.co/K7pthJXjWE</td>\n",
       "      <td>11</td>\n",
       "      <td>10</td>\n",
       "      <td>Ziva</td>\n",
       "      <td>None</td>\n",
       "    </tr>\n",
       "    <tr>\n",
       "      <th>1060</th>\n",
       "      <td>693993230313091072</td>\n",
       "      <td>0</td>\n",
       "      <td>0</td>\n",
       "      <td>2016-02-01 03:04:14</td>\n",
       "      <td>Vine - Make a Scene</td>\n",
       "      <td>These lil fellas are the best of friends. 12/10 for both. 1 like = 1 friend (vid by @CassieBrookee15) https://t.co/gzRghPC61H</td>\n",
       "      <td>12</td>\n",
       "      <td>10</td>\n",
       "      <td>None</td>\n",
       "      <td>None</td>\n",
       "    </tr>\n",
       "    <tr>\n",
       "      <th>2005</th>\n",
       "      <td>704347321748819968</td>\n",
       "      <td>0</td>\n",
       "      <td>0</td>\n",
       "      <td>2016-02-29 16:47:42</td>\n",
       "      <td>Twitter for iPhone</td>\n",
       "      <td>This is Ralphson. He's very confused. Wondering why he's sitting on Santa's lap in February. 10/10 stay woke pupper https://t.co/INphk4ltkZ</td>\n",
       "      <td>10</td>\n",
       "      <td>10</td>\n",
       "      <td>Ralphson</td>\n",
       "      <td>pupper</td>\n",
       "    </tr>\n",
       "    <tr>\n",
       "      <th>5</th>\n",
       "      <td>891087950875897856</td>\n",
       "      <td>0</td>\n",
       "      <td>0</td>\n",
       "      <td>2017-07-29 00:08:17</td>\n",
       "      <td>Twitter for iPhone</td>\n",
       "      <td>Here we have a majestic great white breaching off South Africa's coast. Absolutely h*ckin breathtaking. 13/10 (IG: tucker_marlo) #BarkWeek https:/...</td>\n",
       "      <td>13</td>\n",
       "      <td>10</td>\n",
       "      <td>None</td>\n",
       "      <td>None</td>\n",
       "    </tr>\n",
       "    <tr>\n",
       "      <th>1323</th>\n",
       "      <td>676948236477857792</td>\n",
       "      <td>0</td>\n",
       "      <td>0</td>\n",
       "      <td>2015-12-16 02:13:31</td>\n",
       "      <td>Twitter for iPhone</td>\n",
       "      <td>This is Karl. Karl thinks he's slick. 6/10 sneaky pup https://t.co/Lo4ALwjVh4</td>\n",
       "      <td>6</td>\n",
       "      <td>10</td>\n",
       "      <td>Karl</td>\n",
       "      <td>None</td>\n",
       "    </tr>\n",
       "    <tr>\n",
       "      <th>1152</th>\n",
       "      <td>686947101016735744</td>\n",
       "      <td>0</td>\n",
       "      <td>0</td>\n",
       "      <td>2016-01-12 16:25:26</td>\n",
       "      <td>Twitter for iPhone</td>\n",
       "      <td>This is Jackson. He was specifically told not to sleep in the fridge. Damn it Jackson. 11/10 would squeeze softly https://t.co/lJs10ZJsgj</td>\n",
       "      <td>11</td>\n",
       "      <td>10</td>\n",
       "      <td>Jackson</td>\n",
       "      <td>None</td>\n",
       "    </tr>\n",
       "  </tbody>\n",
       "</table>\n",
       "</div>"
      ],
      "text/plain": [
       "                tweet_id  in_reply_to_status_id  in_reply_to_user_id  \\\n",
       "388   802600418706604034                      0                    0   \n",
       "306   820314633777061888                      0                    0   \n",
       "1634  669583744538451968                      0                    0   \n",
       "1288  678446151570427904                      0                    0   \n",
       "768   730211855403241472                      0                    0   \n",
       "1060  693993230313091072                      0                    0   \n",
       "2005  704347321748819968                      0                    0   \n",
       "5     891087950875897856                      0                    0   \n",
       "1323  676948236477857792                      0                    0   \n",
       "1152  686947101016735744                      0                    0   \n",
       "\n",
       "               timestamp               source  \\\n",
       "388  2016-11-26 19:50:26  Vine - Make a Scene   \n",
       "306  2017-01-14 17:00:24   Twitter for iPhone   \n",
       "1634 2015-11-25 18:29:39   Twitter for iPhone   \n",
       "1288 2015-12-20 05:25:42   Twitter for iPhone   \n",
       "768  2016-05-11 01:44:07   Twitter for iPhone   \n",
       "1060 2016-02-01 03:04:14  Vine - Make a Scene   \n",
       "2005 2016-02-29 16:47:42   Twitter for iPhone   \n",
       "5    2017-07-29 00:08:17   Twitter for iPhone   \n",
       "1323 2015-12-16 02:13:31   Twitter for iPhone   \n",
       "1152 2016-01-12 16:25:26   Twitter for iPhone   \n",
       "\n",
       "                                                                                                                                                       text  \\\n",
       "388                                                    This is Bailey. She has mastered the head tilt. 11/10 rather h*ckin adorable https://t.co/urhl90ZE1O   \n",
       "306   We are proud to support @LoveYourMelon on their mission to put a hat on every kid battling cancer. They are 14/10\\n\\nhttps://t.co/XQlmPTLHPl https...   \n",
       "1634           Special dog here. Pretty big. Neck kinda long for dog. Cool spots. Must be a Dalmatian variant. 6/10 would still pet https://t.co/f8GXeDbFzu   \n",
       "1288        Touching scene here. Really stirs up the emotions. The bond between father &amp; son. So beautiful. 10/10 for both pups https://t.co/AJWJHov5gx   \n",
       "768                                            This is Ziva. She doesn't know how her collar works. 11/10 would totally fix for her https://t.co/K7pthJXjWE   \n",
       "1060                          These lil fellas are the best of friends. 12/10 for both. 1 like = 1 friend (vid by @CassieBrookee15) https://t.co/gzRghPC61H   \n",
       "2005            This is Ralphson. He's very confused. Wondering why he's sitting on Santa's lap in February. 10/10 stay woke pupper https://t.co/INphk4ltkZ   \n",
       "5     Here we have a majestic great white breaching off South Africa's coast. Absolutely h*ckin breathtaking. 13/10 (IG: tucker_marlo) #BarkWeek https:/...   \n",
       "1323                                                                          This is Karl. Karl thinks he's slick. 6/10 sneaky pup https://t.co/Lo4ALwjVh4   \n",
       "1152              This is Jackson. He was specifically told not to sleep in the fridge. Damn it Jackson. 11/10 would squeeze softly https://t.co/lJs10ZJsgj   \n",
       "\n",
       "      rating_numerator  rating_denominator      name life_stage  \n",
       "388                 11                  10    Bailey       None  \n",
       "306                 14                  10      None       None  \n",
       "1634                 6                  10      None       None  \n",
       "1288                10                  10      None       None  \n",
       "768                 11                  10      Ziva       None  \n",
       "1060                12                  10      None       None  \n",
       "2005                10                  10  Ralphson     pupper  \n",
       "5                   13                  10      None       None  \n",
       "1323                 6                  10      Karl       None  \n",
       "1152                11                  10   Jackson       None  "
      ]
     },
     "execution_count": 111,
     "metadata": {},
     "output_type": "execute_result"
    }
   ],
   "source": [
    "# Make sure rating in text column matches numerator and denominator columns.\n",
    "twitter_archive_clean.sample(10)"
   ]
  },
  {
   "cell_type": "markdown",
   "metadata": {},
   "source": [
    "Rating in text column matches numerator and denominator columns."
   ]
  },
  {
   "cell_type": "markdown",
   "metadata": {},
   "source": [
    "### Quality"
   ]
  },
  {
   "cell_type": "markdown",
   "metadata": {},
   "source": [
    "###### `twitter_archive` :  Text column contains text, numerator, denominator, and short-url."
   ]
  },
  {
   "cell_type": "markdown",
   "metadata": {},
   "source": [
    "###### Define\n",
    "Name, numerator, and denominator are extracted in previous sections. I will not be using other variables (like short-url) in text column for analysis and visualzation. No further work needed. "
   ]
  },
  {
   "cell_type": "markdown",
   "metadata": {},
   "source": [
    "###### Code\n",
    "N/A"
   ]
  },
  {
   "cell_type": "markdown",
   "metadata": {},
   "source": [
    "###### Test\n",
    "N/A"
   ]
  },
  {
   "cell_type": "markdown",
   "metadata": {},
   "source": [
    "### Quality"
   ]
  },
  {
   "cell_type": "markdown",
   "metadata": {},
   "source": [
    "###### `twitter_archive` : twitter id 835246439529840640 has wrong numerator and denominator. They should be 13/10 instead of 960/0."
   ]
  },
  {
   "cell_type": "markdown",
   "metadata": {},
   "source": [
    "###### Define\n",
    "Replace numerator and denominator for row in the twitter_archive table that have numerator 960 and denominator 0 (there is only one) with 13 and 10, respectively."
   ]
  },
  {
   "cell_type": "markdown",
   "metadata": {},
   "source": [
    "###### Code"
   ]
  },
  {
   "cell_type": "code",
   "execution_count": 112,
   "metadata": {
    "scrolled": false
   },
   "outputs": [
    {
     "data": {
      "text/html": [
       "<div>\n",
       "<style scoped>\n",
       "    .dataframe tbody tr th:only-of-type {\n",
       "        vertical-align: middle;\n",
       "    }\n",
       "\n",
       "    .dataframe tbody tr th {\n",
       "        vertical-align: top;\n",
       "    }\n",
       "\n",
       "    .dataframe thead th {\n",
       "        text-align: right;\n",
       "    }\n",
       "</style>\n",
       "<table border=\"1\" class=\"dataframe\">\n",
       "  <thead>\n",
       "    <tr style=\"text-align: right;\">\n",
       "      <th></th>\n",
       "      <th>tweet_id</th>\n",
       "      <th>in_reply_to_status_id</th>\n",
       "      <th>in_reply_to_user_id</th>\n",
       "      <th>timestamp</th>\n",
       "      <th>source</th>\n",
       "      <th>text</th>\n",
       "      <th>rating_numerator</th>\n",
       "      <th>rating_denominator</th>\n",
       "      <th>name</th>\n",
       "      <th>life_stage</th>\n",
       "    </tr>\n",
       "  </thead>\n",
       "  <tbody>\n",
       "    <tr>\n",
       "      <th>230</th>\n",
       "      <td>835246439529840640</td>\n",
       "      <td>-2147483648</td>\n",
       "      <td>26259576</td>\n",
       "      <td>2017-02-24 21:54:03</td>\n",
       "      <td>Twitter for iPhone</td>\n",
       "      <td>@jonnysun @Lin_Manuel ok jomny I know you're excited but 960/00 isn't a valid rating, 13/10 is tho</td>\n",
       "      <td>960</td>\n",
       "      <td>0</td>\n",
       "      <td>None</td>\n",
       "      <td>None</td>\n",
       "    </tr>\n",
       "  </tbody>\n",
       "</table>\n",
       "</div>"
      ],
      "text/plain": [
       "               tweet_id  in_reply_to_status_id  in_reply_to_user_id  \\\n",
       "230  835246439529840640            -2147483648             26259576   \n",
       "\n",
       "              timestamp              source  \\\n",
       "230 2017-02-24 21:54:03  Twitter for iPhone   \n",
       "\n",
       "                                                                                                   text  \\\n",
       "230  @jonnysun @Lin_Manuel ok jomny I know you're excited but 960/00 isn't a valid rating, 13/10 is tho   \n",
       "\n",
       "     rating_numerator  rating_denominator  name life_stage  \n",
       "230               960                   0  None       None  "
      ]
     },
     "execution_count": 112,
     "metadata": {},
     "output_type": "execute_result"
    }
   ],
   "source": [
    "twitter_archive_clean[twitter_archive_clean['rating_numerator'] == 960]"
   ]
  },
  {
   "cell_type": "markdown",
   "metadata": {},
   "source": [
    "Replace numerator 960 and denominator 0 (there is only one) with 13 and 10."
   ]
  },
  {
   "cell_type": "code",
   "execution_count": 113,
   "metadata": {},
   "outputs": [],
   "source": [
    "# Replace numerator with 13\n",
    "twitter_archive_clean['rating_numerator'] = twitter_archive_clean['rating_numerator'].replace(960, 13)"
   ]
  },
  {
   "cell_type": "code",
   "execution_count": 114,
   "metadata": {},
   "outputs": [],
   "source": [
    "# Replace denominator with 10\n",
    "twitter_archive_clean['rating_denominator'] = twitter_archive_clean['rating_denominator'].replace(0, 10)"
   ]
  },
  {
   "cell_type": "markdown",
   "metadata": {},
   "source": [
    "###### Test"
   ]
  },
  {
   "cell_type": "code",
   "execution_count": 115,
   "metadata": {
    "scrolled": true
   },
   "outputs": [
    {
     "data": {
      "text/html": [
       "<div>\n",
       "<style scoped>\n",
       "    .dataframe tbody tr th:only-of-type {\n",
       "        vertical-align: middle;\n",
       "    }\n",
       "\n",
       "    .dataframe tbody tr th {\n",
       "        vertical-align: top;\n",
       "    }\n",
       "\n",
       "    .dataframe thead th {\n",
       "        text-align: right;\n",
       "    }\n",
       "</style>\n",
       "<table border=\"1\" class=\"dataframe\">\n",
       "  <thead>\n",
       "    <tr style=\"text-align: right;\">\n",
       "      <th></th>\n",
       "      <th>tweet_id</th>\n",
       "      <th>in_reply_to_status_id</th>\n",
       "      <th>in_reply_to_user_id</th>\n",
       "      <th>timestamp</th>\n",
       "      <th>source</th>\n",
       "      <th>text</th>\n",
       "      <th>rating_numerator</th>\n",
       "      <th>rating_denominator</th>\n",
       "      <th>name</th>\n",
       "      <th>life_stage</th>\n",
       "    </tr>\n",
       "  </thead>\n",
       "  <tbody>\n",
       "    <tr>\n",
       "      <th>230</th>\n",
       "      <td>835246439529840640</td>\n",
       "      <td>-2147483648</td>\n",
       "      <td>26259576</td>\n",
       "      <td>2017-02-24 21:54:03</td>\n",
       "      <td>Twitter for iPhone</td>\n",
       "      <td>@jonnysun @Lin_Manuel ok jomny I know you're excited but 960/00 isn't a valid rating, 13/10 is tho</td>\n",
       "      <td>13</td>\n",
       "      <td>10</td>\n",
       "      <td>None</td>\n",
       "      <td>None</td>\n",
       "    </tr>\n",
       "  </tbody>\n",
       "</table>\n",
       "</div>"
      ],
      "text/plain": [
       "               tweet_id  in_reply_to_status_id  in_reply_to_user_id  \\\n",
       "230  835246439529840640            -2147483648             26259576   \n",
       "\n",
       "              timestamp              source  \\\n",
       "230 2017-02-24 21:54:03  Twitter for iPhone   \n",
       "\n",
       "                                                                                                   text  \\\n",
       "230  @jonnysun @Lin_Manuel ok jomny I know you're excited but 960/00 isn't a valid rating, 13/10 is tho   \n",
       "\n",
       "     rating_numerator  rating_denominator  name life_stage  \n",
       "230                13                  10  None       None  "
      ]
     },
     "execution_count": 115,
     "metadata": {},
     "output_type": "execute_result"
    }
   ],
   "source": [
    "twitter_archive_clean[twitter_archive_clean['tweet_id'] == 835246439529840640]"
   ]
  },
  {
   "cell_type": "markdown",
   "metadata": {},
   "source": [
    "Correct numerator and denominator assigned."
   ]
  },
  {
   "cell_type": "markdown",
   "metadata": {},
   "source": [
    "### Quality"
   ]
  },
  {
   "cell_type": "markdown",
   "metadata": {},
   "source": [
    "###### `twitter_archive` : twitter id 786709082849828864 has wrong numerator and denominator. They should be 10/10 instead of 75/10."
   ]
  },
  {
   "cell_type": "markdown",
   "metadata": {},
   "source": [
    "###### Define\n",
    "Replace numerator and denominator for row in the twitter_archive table that have numerator 75 with 10.\n",
    "The actual value for numerator is 9.75, but I am rounding it up to 10."
   ]
  },
  {
   "cell_type": "markdown",
   "metadata": {},
   "source": [
    "###### Code"
   ]
  },
  {
   "cell_type": "code",
   "execution_count": 116,
   "metadata": {
    "scrolled": true
   },
   "outputs": [
    {
     "data": {
      "text/html": [
       "<div>\n",
       "<style scoped>\n",
       "    .dataframe tbody tr th:only-of-type {\n",
       "        vertical-align: middle;\n",
       "    }\n",
       "\n",
       "    .dataframe tbody tr th {\n",
       "        vertical-align: top;\n",
       "    }\n",
       "\n",
       "    .dataframe thead th {\n",
       "        text-align: right;\n",
       "    }\n",
       "</style>\n",
       "<table border=\"1\" class=\"dataframe\">\n",
       "  <thead>\n",
       "    <tr style=\"text-align: right;\">\n",
       "      <th></th>\n",
       "      <th>tweet_id</th>\n",
       "      <th>in_reply_to_status_id</th>\n",
       "      <th>in_reply_to_user_id</th>\n",
       "      <th>timestamp</th>\n",
       "      <th>source</th>\n",
       "      <th>text</th>\n",
       "      <th>rating_numerator</th>\n",
       "      <th>rating_denominator</th>\n",
       "      <th>name</th>\n",
       "      <th>life_stage</th>\n",
       "    </tr>\n",
       "  </thead>\n",
       "  <tbody>\n",
       "    <tr>\n",
       "      <th>466</th>\n",
       "      <td>786709082849828864</td>\n",
       "      <td>0</td>\n",
       "      <td>0</td>\n",
       "      <td>2016-10-13 23:23:56</td>\n",
       "      <td>Twitter for iPhone</td>\n",
       "      <td>This is Logan, the Chow who lived. He solemnly swears he's up to lots of good. H*ckin magical af 9.75/10 https://t.co/yBO5wuqaPS</td>\n",
       "      <td>75</td>\n",
       "      <td>10</td>\n",
       "      <td>Logan</td>\n",
       "      <td>None</td>\n",
       "    </tr>\n",
       "  </tbody>\n",
       "</table>\n",
       "</div>"
      ],
      "text/plain": [
       "               tweet_id  in_reply_to_status_id  in_reply_to_user_id  \\\n",
       "466  786709082849828864                      0                    0   \n",
       "\n",
       "              timestamp              source  \\\n",
       "466 2016-10-13 23:23:56  Twitter for iPhone   \n",
       "\n",
       "                                                                                                                                 text  \\\n",
       "466  This is Logan, the Chow who lived. He solemnly swears he's up to lots of good. H*ckin magical af 9.75/10 https://t.co/yBO5wuqaPS   \n",
       "\n",
       "     rating_numerator  rating_denominator   name life_stage  \n",
       "466                75                  10  Logan       None  "
      ]
     },
     "execution_count": 116,
     "metadata": {},
     "output_type": "execute_result"
    }
   ],
   "source": [
    "twitter_archive_clean[twitter_archive_clean['tweet_id'] == 786709082849828864]"
   ]
  },
  {
   "cell_type": "markdown",
   "metadata": {},
   "source": [
    "Replace numerator with 10"
   ]
  },
  {
   "cell_type": "code",
   "execution_count": 117,
   "metadata": {},
   "outputs": [],
   "source": [
    "# Replace numerator with 10\n",
    "twitter_archive_clean.loc[twitter_archive_clean['tweet_id'] == 786709082849828864, 'rating_numerator'] = 10"
   ]
  },
  {
   "cell_type": "markdown",
   "metadata": {},
   "source": [
    "###### test"
   ]
  },
  {
   "cell_type": "code",
   "execution_count": 118,
   "metadata": {
    "scrolled": true
   },
   "outputs": [
    {
     "data": {
      "text/html": [
       "<div>\n",
       "<style scoped>\n",
       "    .dataframe tbody tr th:only-of-type {\n",
       "        vertical-align: middle;\n",
       "    }\n",
       "\n",
       "    .dataframe tbody tr th {\n",
       "        vertical-align: top;\n",
       "    }\n",
       "\n",
       "    .dataframe thead th {\n",
       "        text-align: right;\n",
       "    }\n",
       "</style>\n",
       "<table border=\"1\" class=\"dataframe\">\n",
       "  <thead>\n",
       "    <tr style=\"text-align: right;\">\n",
       "      <th></th>\n",
       "      <th>tweet_id</th>\n",
       "      <th>in_reply_to_status_id</th>\n",
       "      <th>in_reply_to_user_id</th>\n",
       "      <th>timestamp</th>\n",
       "      <th>source</th>\n",
       "      <th>text</th>\n",
       "      <th>rating_numerator</th>\n",
       "      <th>rating_denominator</th>\n",
       "      <th>name</th>\n",
       "      <th>life_stage</th>\n",
       "    </tr>\n",
       "  </thead>\n",
       "  <tbody>\n",
       "    <tr>\n",
       "      <th>466</th>\n",
       "      <td>786709082849828864</td>\n",
       "      <td>0</td>\n",
       "      <td>0</td>\n",
       "      <td>2016-10-13 23:23:56</td>\n",
       "      <td>Twitter for iPhone</td>\n",
       "      <td>This is Logan, the Chow who lived. He solemnly swears he's up to lots of good. H*ckin magical af 9.75/10 https://t.co/yBO5wuqaPS</td>\n",
       "      <td>10</td>\n",
       "      <td>10</td>\n",
       "      <td>Logan</td>\n",
       "      <td>None</td>\n",
       "    </tr>\n",
       "  </tbody>\n",
       "</table>\n",
       "</div>"
      ],
      "text/plain": [
       "               tweet_id  in_reply_to_status_id  in_reply_to_user_id  \\\n",
       "466  786709082849828864                      0                    0   \n",
       "\n",
       "              timestamp              source  \\\n",
       "466 2016-10-13 23:23:56  Twitter for iPhone   \n",
       "\n",
       "                                                                                                                                 text  \\\n",
       "466  This is Logan, the Chow who lived. He solemnly swears he's up to lots of good. H*ckin magical af 9.75/10 https://t.co/yBO5wuqaPS   \n",
       "\n",
       "     rating_numerator  rating_denominator   name life_stage  \n",
       "466                10                  10  Logan       None  "
      ]
     },
     "execution_count": 118,
     "metadata": {},
     "output_type": "execute_result"
    }
   ],
   "source": [
    "twitter_archive_clean[twitter_archive_clean['tweet_id'] == 786709082849828864]"
   ]
  },
  {
   "cell_type": "markdown",
   "metadata": {},
   "source": [
    "Correct numerator and denominator assigned."
   ]
  },
  {
   "cell_type": "markdown",
   "metadata": {},
   "source": [
    "### Quality"
   ]
  },
  {
   "cell_type": "markdown",
   "metadata": {},
   "source": [
    "###### `image_predictions` : The format of predicted dog breeds in column p1, p2, and p3 are not consistent. Some are camelcases, some are lowercases, some use dash instead of underscore, etc."
   ]
  },
  {
   "cell_type": "markdown",
   "metadata": {},
   "source": [
    "###### Define\n",
    "Change predicted image (p1, p2, p3) to all lower cases and change underscore to dash."
   ]
  },
  {
   "cell_type": "markdown",
   "metadata": {},
   "source": [
    "###### Code"
   ]
  },
  {
   "cell_type": "code",
   "execution_count": 119,
   "metadata": {
    "scrolled": true
   },
   "outputs": [
    {
     "data": {
      "text/html": [
       "<div>\n",
       "<style scoped>\n",
       "    .dataframe tbody tr th:only-of-type {\n",
       "        vertical-align: middle;\n",
       "    }\n",
       "\n",
       "    .dataframe tbody tr th {\n",
       "        vertical-align: top;\n",
       "    }\n",
       "\n",
       "    .dataframe thead th {\n",
       "        text-align: right;\n",
       "    }\n",
       "</style>\n",
       "<table border=\"1\" class=\"dataframe\">\n",
       "  <thead>\n",
       "    <tr style=\"text-align: right;\">\n",
       "      <th></th>\n",
       "      <th>tweet_id</th>\n",
       "      <th>jpg_url</th>\n",
       "      <th>img_num</th>\n",
       "      <th>p1</th>\n",
       "      <th>p1_conf</th>\n",
       "      <th>p1_dog</th>\n",
       "      <th>p2</th>\n",
       "      <th>p2_conf</th>\n",
       "      <th>p2_dog</th>\n",
       "      <th>p3</th>\n",
       "      <th>p3_conf</th>\n",
       "      <th>p3_dog</th>\n",
       "    </tr>\n",
       "  </thead>\n",
       "  <tbody>\n",
       "    <tr>\n",
       "      <th>0</th>\n",
       "      <td>666020888022790149</td>\n",
       "      <td>https://pbs.twimg.com/media/CT4udn0WwAA0aMy.jpg</td>\n",
       "      <td>1</td>\n",
       "      <td>Welsh_springer_spaniel</td>\n",
       "      <td>0.465074</td>\n",
       "      <td>True</td>\n",
       "      <td>collie</td>\n",
       "      <td>0.156665</td>\n",
       "      <td>True</td>\n",
       "      <td>Shetland_sheepdog</td>\n",
       "      <td>0.061428</td>\n",
       "      <td>True</td>\n",
       "    </tr>\n",
       "    <tr>\n",
       "      <th>1</th>\n",
       "      <td>666029285002620928</td>\n",
       "      <td>https://pbs.twimg.com/media/CT42GRgUYAA5iDo.jpg</td>\n",
       "      <td>1</td>\n",
       "      <td>redbone</td>\n",
       "      <td>0.506826</td>\n",
       "      <td>True</td>\n",
       "      <td>miniature_pinscher</td>\n",
       "      <td>0.074192</td>\n",
       "      <td>True</td>\n",
       "      <td>Rhodesian_ridgeback</td>\n",
       "      <td>0.072010</td>\n",
       "      <td>True</td>\n",
       "    </tr>\n",
       "    <tr>\n",
       "      <th>2</th>\n",
       "      <td>666033412701032449</td>\n",
       "      <td>https://pbs.twimg.com/media/CT4521TWwAEvMyu.jpg</td>\n",
       "      <td>1</td>\n",
       "      <td>German_shepherd</td>\n",
       "      <td>0.596461</td>\n",
       "      <td>True</td>\n",
       "      <td>malinois</td>\n",
       "      <td>0.138584</td>\n",
       "      <td>True</td>\n",
       "      <td>bloodhound</td>\n",
       "      <td>0.116197</td>\n",
       "      <td>True</td>\n",
       "    </tr>\n",
       "    <tr>\n",
       "      <th>3</th>\n",
       "      <td>666044226329800704</td>\n",
       "      <td>https://pbs.twimg.com/media/CT5Dr8HUEAA-lEu.jpg</td>\n",
       "      <td>1</td>\n",
       "      <td>Rhodesian_ridgeback</td>\n",
       "      <td>0.408143</td>\n",
       "      <td>True</td>\n",
       "      <td>redbone</td>\n",
       "      <td>0.360687</td>\n",
       "      <td>True</td>\n",
       "      <td>miniature_pinscher</td>\n",
       "      <td>0.222752</td>\n",
       "      <td>True</td>\n",
       "    </tr>\n",
       "    <tr>\n",
       "      <th>4</th>\n",
       "      <td>666049248165822465</td>\n",
       "      <td>https://pbs.twimg.com/media/CT5IQmsXIAAKY4A.jpg</td>\n",
       "      <td>1</td>\n",
       "      <td>miniature_pinscher</td>\n",
       "      <td>0.560311</td>\n",
       "      <td>True</td>\n",
       "      <td>Rottweiler</td>\n",
       "      <td>0.243682</td>\n",
       "      <td>True</td>\n",
       "      <td>Doberman</td>\n",
       "      <td>0.154629</td>\n",
       "      <td>True</td>\n",
       "    </tr>\n",
       "  </tbody>\n",
       "</table>\n",
       "</div>"
      ],
      "text/plain": [
       "             tweet_id                                          jpg_url  \\\n",
       "0  666020888022790149  https://pbs.twimg.com/media/CT4udn0WwAA0aMy.jpg   \n",
       "1  666029285002620928  https://pbs.twimg.com/media/CT42GRgUYAA5iDo.jpg   \n",
       "2  666033412701032449  https://pbs.twimg.com/media/CT4521TWwAEvMyu.jpg   \n",
       "3  666044226329800704  https://pbs.twimg.com/media/CT5Dr8HUEAA-lEu.jpg   \n",
       "4  666049248165822465  https://pbs.twimg.com/media/CT5IQmsXIAAKY4A.jpg   \n",
       "\n",
       "   img_num                      p1   p1_conf  p1_dog                  p2  \\\n",
       "0        1  Welsh_springer_spaniel  0.465074    True              collie   \n",
       "1        1                 redbone  0.506826    True  miniature_pinscher   \n",
       "2        1         German_shepherd  0.596461    True            malinois   \n",
       "3        1     Rhodesian_ridgeback  0.408143    True             redbone   \n",
       "4        1      miniature_pinscher  0.560311    True          Rottweiler   \n",
       "\n",
       "    p2_conf  p2_dog                   p3   p3_conf  p3_dog  \n",
       "0  0.156665    True    Shetland_sheepdog  0.061428    True  \n",
       "1  0.074192    True  Rhodesian_ridgeback  0.072010    True  \n",
       "2  0.138584    True           bloodhound  0.116197    True  \n",
       "3  0.360687    True   miniature_pinscher  0.222752    True  \n",
       "4  0.243682    True             Doberman  0.154629    True  "
      ]
     },
     "execution_count": 119,
     "metadata": {},
     "output_type": "execute_result"
    }
   ],
   "source": [
    "image_predictions_clean.head()"
   ]
  },
  {
   "cell_type": "markdown",
   "metadata": {},
   "source": [
    "Change predicted image (p1, p2, p3) to all lower cases and change underscore to dash."
   ]
  },
  {
   "cell_type": "code",
   "execution_count": 120,
   "metadata": {},
   "outputs": [],
   "source": [
    "# Convert to lower cases\n",
    "image_predictions_clean['p1'] = image_predictions_clean['p1'].str.lower()\n",
    "image_predictions_clean['p2'] = image_predictions_clean['p2'].str.lower()\n",
    "image_predictions_clean['p3'] = image_predictions_clean['p3'].str.lower()"
   ]
  },
  {
   "cell_type": "code",
   "execution_count": 121,
   "metadata": {},
   "outputs": [],
   "source": [
    "# Replace underscore with dash\n",
    "image_predictions_clean['p1'] = image_predictions_clean['p1'].str.replace('-', '_')\n",
    "image_predictions_clean['p2'] = image_predictions_clean['p2'].str.replace('-', '_')\n",
    "image_predictions_clean['p3'] = image_predictions_clean['p3'].str.replace('-', '_')"
   ]
  },
  {
   "cell_type": "markdown",
   "metadata": {},
   "source": [
    "###### Test"
   ]
  },
  {
   "cell_type": "code",
   "execution_count": 122,
   "metadata": {},
   "outputs": [
    {
     "data": {
      "text/html": [
       "<div>\n",
       "<style scoped>\n",
       "    .dataframe tbody tr th:only-of-type {\n",
       "        vertical-align: middle;\n",
       "    }\n",
       "\n",
       "    .dataframe tbody tr th {\n",
       "        vertical-align: top;\n",
       "    }\n",
       "\n",
       "    .dataframe thead th {\n",
       "        text-align: right;\n",
       "    }\n",
       "</style>\n",
       "<table border=\"1\" class=\"dataframe\">\n",
       "  <thead>\n",
       "    <tr style=\"text-align: right;\">\n",
       "      <th></th>\n",
       "      <th>tweet_id</th>\n",
       "      <th>jpg_url</th>\n",
       "      <th>img_num</th>\n",
       "      <th>p1</th>\n",
       "      <th>p1_conf</th>\n",
       "      <th>p1_dog</th>\n",
       "      <th>p2</th>\n",
       "      <th>p2_conf</th>\n",
       "      <th>p2_dog</th>\n",
       "      <th>p3</th>\n",
       "      <th>p3_conf</th>\n",
       "      <th>p3_dog</th>\n",
       "    </tr>\n",
       "  </thead>\n",
       "  <tbody>\n",
       "    <tr>\n",
       "      <th>141</th>\n",
       "      <td>668567822092664832</td>\n",
       "      <td>https://pbs.twimg.com/media/CUc64knWoAkZt70.jpg</td>\n",
       "      <td>1</td>\n",
       "      <td>shih_tzu</td>\n",
       "      <td>0.985649</td>\n",
       "      <td>True</td>\n",
       "      <td>lhasa</td>\n",
       "      <td>0.007078</td>\n",
       "      <td>True</td>\n",
       "      <td>pekinese</td>\n",
       "      <td>0.003053</td>\n",
       "      <td>True</td>\n",
       "    </tr>\n",
       "  </tbody>\n",
       "</table>\n",
       "</div>"
      ],
      "text/plain": [
       "               tweet_id                                          jpg_url  \\\n",
       "141  668567822092664832  https://pbs.twimg.com/media/CUc64knWoAkZt70.jpg   \n",
       "\n",
       "     img_num        p1   p1_conf  p1_dog     p2   p2_conf  p2_dog        p3  \\\n",
       "141        1  shih_tzu  0.985649    True  lhasa  0.007078    True  pekinese   \n",
       "\n",
       "      p3_conf  p3_dog  \n",
       "141  0.003053    True  "
      ]
     },
     "execution_count": 122,
     "metadata": {},
     "output_type": "execute_result"
    }
   ],
   "source": [
    "# make sure there are no more capital letters and dashes\n",
    "image_predictions_clean[image_predictions_clean['tweet_id'] == 668567822092664832]"
   ]
  },
  {
   "cell_type": "code",
   "execution_count": 123,
   "metadata": {
    "scrolled": false
   },
   "outputs": [
    {
     "data": {
      "text/html": [
       "<div>\n",
       "<style scoped>\n",
       "    .dataframe tbody tr th:only-of-type {\n",
       "        vertical-align: middle;\n",
       "    }\n",
       "\n",
       "    .dataframe tbody tr th {\n",
       "        vertical-align: top;\n",
       "    }\n",
       "\n",
       "    .dataframe thead th {\n",
       "        text-align: right;\n",
       "    }\n",
       "</style>\n",
       "<table border=\"1\" class=\"dataframe\">\n",
       "  <thead>\n",
       "    <tr style=\"text-align: right;\">\n",
       "      <th></th>\n",
       "      <th>tweet_id</th>\n",
       "      <th>jpg_url</th>\n",
       "      <th>img_num</th>\n",
       "      <th>p1</th>\n",
       "      <th>p1_conf</th>\n",
       "      <th>p1_dog</th>\n",
       "      <th>p2</th>\n",
       "      <th>p2_conf</th>\n",
       "      <th>p2_dog</th>\n",
       "      <th>p3</th>\n",
       "      <th>p3_conf</th>\n",
       "      <th>p3_dog</th>\n",
       "    </tr>\n",
       "  </thead>\n",
       "  <tbody>\n",
       "    <tr>\n",
       "      <th>102</th>\n",
       "      <td>667801013445750784</td>\n",
       "      <td>https://pbs.twimg.com/media/CUSBemVUEAAn-6V.jpg</td>\n",
       "      <td>1</td>\n",
       "      <td>flat_coated_retriever</td>\n",
       "      <td>0.508392</td>\n",
       "      <td>True</td>\n",
       "      <td>chesapeake_bay_retriever</td>\n",
       "      <td>0.262239</td>\n",
       "      <td>True</td>\n",
       "      <td>curly_coated_retriever</td>\n",
       "      <td>0.04892</td>\n",
       "      <td>True</td>\n",
       "    </tr>\n",
       "  </tbody>\n",
       "</table>\n",
       "</div>"
      ],
      "text/plain": [
       "               tweet_id                                          jpg_url  \\\n",
       "102  667801013445750784  https://pbs.twimg.com/media/CUSBemVUEAAn-6V.jpg   \n",
       "\n",
       "     img_num                     p1   p1_conf  p1_dog  \\\n",
       "102        1  flat_coated_retriever  0.508392    True   \n",
       "\n",
       "                           p2   p2_conf  p2_dog                      p3  \\\n",
       "102  chesapeake_bay_retriever  0.262239    True  curly_coated_retriever   \n",
       "\n",
       "     p3_conf  p3_dog  \n",
       "102  0.04892    True  "
      ]
     },
     "execution_count": 123,
     "metadata": {},
     "output_type": "execute_result"
    }
   ],
   "source": [
    "# make sure there are no more capital letters and dashes\n",
    "image_predictions_clean[image_predictions_clean['tweet_id'] == 667801013445750784]"
   ]
  },
  {
   "cell_type": "markdown",
   "metadata": {},
   "source": [
    "There are no more capital letters and dashes."
   ]
  },
  {
   "cell_type": "markdown",
   "metadata": {},
   "source": [
    "### Tidiness"
   ]
  },
  {
   "cell_type": "markdown",
   "metadata": {},
   "source": [
    "###### `image_predictions` : 'pg_url', 'img_num', 'p1', 'p1_conf', 'p1_dog', 'p2', 'p2_conf', 'p2_dog', 'p3', 'p3_conf', and 'p3_dog' should be part of the twitter_archive table."
   ]
  },
  {
   "cell_type": "markdown",
   "metadata": {},
   "source": [
    "###### Define\n",
    "Merge 'pg_url', 'img_num', 'p1', 'p1_conf', 'p1_dog', 'p2', 'p2_conf', 'p2_dog', 'p3', 'p3_conf', and 'p3_dog'  to the twitter_archive table, joining on tweet_id."
   ]
  },
  {
   "cell_type": "markdown",
   "metadata": {},
   "source": [
    "###### Code"
   ]
  },
  {
   "cell_type": "markdown",
   "metadata": {},
   "source": [
    "Merge twitter_archive_clean and image_prediction_clean tables."
   ]
  },
  {
   "cell_type": "code",
   "execution_count": 124,
   "metadata": {},
   "outputs": [],
   "source": [
    "# Merge twitter_archive_clean and image_prediction_clean.\n",
    "# Using inner join to filter out tweets which do not have image predictions.\n",
    "twitter_archive_clean = pd.merge(twitter_archive_clean, image_predictions_clean,\n",
    "                            on = 'tweet_id', how = 'inner')"
   ]
  },
  {
   "cell_type": "markdown",
   "metadata": {},
   "source": [
    "###### Test"
   ]
  },
  {
   "cell_type": "code",
   "execution_count": 125,
   "metadata": {
    "scrolled": false
   },
   "outputs": [
    {
     "name": "stdout",
     "output_type": "stream",
     "text": [
      "<class 'pandas.core.frame.DataFrame'>\n",
      "Int64Index: 1994 entries, 0 to 1993\n",
      "Data columns (total 21 columns):\n",
      "tweet_id                 1994 non-null int64\n",
      "in_reply_to_status_id    1994 non-null int32\n",
      "in_reply_to_user_id      1994 non-null int32\n",
      "timestamp                1994 non-null datetime64[ns]\n",
      "source                   1994 non-null object\n",
      "text                     1994 non-null object\n",
      "rating_numerator         1994 non-null int64\n",
      "rating_denominator       1994 non-null int64\n",
      "name                     1994 non-null object\n",
      "life_stage               1994 non-null object\n",
      "jpg_url                  1994 non-null object\n",
      "img_num                  1994 non-null int64\n",
      "p1                       1994 non-null object\n",
      "p1_conf                  1994 non-null float64\n",
      "p1_dog                   1994 non-null bool\n",
      "p2                       1994 non-null object\n",
      "p2_conf                  1994 non-null float64\n",
      "p2_dog                   1994 non-null bool\n",
      "p3                       1994 non-null object\n",
      "p3_conf                  1994 non-null float64\n",
      "p3_dog                   1994 non-null bool\n",
      "dtypes: bool(3), datetime64[ns](1), float64(3), int32(2), int64(4), object(8)\n",
      "memory usage: 286.2+ KB\n"
     ]
    }
   ],
   "source": [
    "twitter_archive_clean.info()"
   ]
  },
  {
   "cell_type": "markdown",
   "metadata": {},
   "source": [
    "twitter_archive_clean and image_prediction_clean tables are successfully merged."
   ]
  },
  {
   "cell_type": "markdown",
   "metadata": {},
   "source": [
    "### Tidiness"
   ]
  },
  {
   "cell_type": "markdown",
   "metadata": {},
   "source": [
    "###### `additional_data` :  'retweet_count' and 'favorite_count' should be part of the twitter_archive table"
   ]
  },
  {
   "cell_type": "markdown",
   "metadata": {},
   "source": [
    "###### Define\n",
    "Merge  'retweet_count' and 'favorite_count' columns to the twitter_archive table, joining on tweet_id."
   ]
  },
  {
   "cell_type": "markdown",
   "metadata": {},
   "source": [
    "###### Code"
   ]
  },
  {
   "cell_type": "markdown",
   "metadata": {},
   "source": [
    "Merge twitter_archive_clean and additional_data_clean tables."
   ]
  },
  {
   "cell_type": "code",
   "execution_count": 126,
   "metadata": {},
   "outputs": [],
   "source": [
    "# Merge twitter_archive_clean and additional_data_clean.\n",
    "twitter_archive_clean = pd.merge(twitter_archive_clean, additional_data_clean,\n",
    "                            on = 'tweet_id', how = 'inner')"
   ]
  },
  {
   "cell_type": "markdown",
   "metadata": {},
   "source": [
    "###### Test"
   ]
  },
  {
   "cell_type": "code",
   "execution_count": 127,
   "metadata": {
    "scrolled": false
   },
   "outputs": [
    {
     "name": "stdout",
     "output_type": "stream",
     "text": [
      "<class 'pandas.core.frame.DataFrame'>\n",
      "Int64Index: 1994 entries, 0 to 1993\n",
      "Data columns (total 23 columns):\n",
      "tweet_id                 1994 non-null int64\n",
      "in_reply_to_status_id    1994 non-null int32\n",
      "in_reply_to_user_id      1994 non-null int32\n",
      "timestamp                1994 non-null datetime64[ns]\n",
      "source                   1994 non-null object\n",
      "text                     1994 non-null object\n",
      "rating_numerator         1994 non-null int64\n",
      "rating_denominator       1994 non-null int64\n",
      "name                     1994 non-null object\n",
      "life_stage               1994 non-null object\n",
      "jpg_url                  1994 non-null object\n",
      "img_num                  1994 non-null int64\n",
      "p1                       1994 non-null object\n",
      "p1_conf                  1994 non-null float64\n",
      "p1_dog                   1994 non-null bool\n",
      "p2                       1994 non-null object\n",
      "p2_conf                  1994 non-null float64\n",
      "p2_dog                   1994 non-null bool\n",
      "p3                       1994 non-null object\n",
      "p3_conf                  1994 non-null float64\n",
      "p3_dog                   1994 non-null bool\n",
      "retweet_count            1994 non-null int64\n",
      "favorite_count           1994 non-null int64\n",
      "dtypes: bool(3), datetime64[ns](1), float64(3), int32(2), int64(6), object(8)\n",
      "memory usage: 317.4+ KB\n"
     ]
    }
   ],
   "source": [
    "twitter_archive_clean.info()"
   ]
  },
  {
   "cell_type": "markdown",
   "metadata": {},
   "source": [
    "twitter_archive_clean and additional_data_clean tables are sucessfully merged."
   ]
  },
  {
   "cell_type": "markdown",
   "metadata": {},
   "source": [
    "### Quality"
   ]
  },
  {
   "cell_type": "markdown",
   "metadata": {},
   "source": [
    "###### `additional-data` : There is 1 tweet which has retweet_count 0 and 170 tweets which have favorite_count 0."
   ]
  },
  {
   "cell_type": "markdown",
   "metadata": {},
   "source": [
    "###### Define\n",
    "Since unpopular tweet could have 0 retweet and favorite vote, this could just be valid data. <br/>\n",
    "But I will look at them and make sure there are not issues."
   ]
  },
  {
   "cell_type": "markdown",
   "metadata": {},
   "source": [
    "###### Code"
   ]
  },
  {
   "cell_type": "code",
   "execution_count": 128,
   "metadata": {},
   "outputs": [
    {
     "data": {
      "text/html": [
       "<div>\n",
       "<style scoped>\n",
       "    .dataframe tbody tr th:only-of-type {\n",
       "        vertical-align: middle;\n",
       "    }\n",
       "\n",
       "    .dataframe tbody tr th {\n",
       "        vertical-align: top;\n",
       "    }\n",
       "\n",
       "    .dataframe thead th {\n",
       "        text-align: right;\n",
       "    }\n",
       "</style>\n",
       "<table border=\"1\" class=\"dataframe\">\n",
       "  <thead>\n",
       "    <tr style=\"text-align: right;\">\n",
       "      <th></th>\n",
       "      <th>tweet_id</th>\n",
       "      <th>in_reply_to_status_id</th>\n",
       "      <th>in_reply_to_user_id</th>\n",
       "      <th>timestamp</th>\n",
       "      <th>source</th>\n",
       "      <th>text</th>\n",
       "      <th>rating_numerator</th>\n",
       "      <th>rating_denominator</th>\n",
       "      <th>name</th>\n",
       "      <th>life_stage</th>\n",
       "      <th>...</th>\n",
       "      <th>p1_conf</th>\n",
       "      <th>p1_dog</th>\n",
       "      <th>p2</th>\n",
       "      <th>p2_conf</th>\n",
       "      <th>p2_dog</th>\n",
       "      <th>p3</th>\n",
       "      <th>p3_conf</th>\n",
       "      <th>p3_dog</th>\n",
       "      <th>retweet_count</th>\n",
       "      <th>favorite_count</th>\n",
       "    </tr>\n",
       "  </thead>\n",
       "  <tbody>\n",
       "  </tbody>\n",
       "</table>\n",
       "<p>0 rows × 23 columns</p>\n",
       "</div>"
      ],
      "text/plain": [
       "Empty DataFrame\n",
       "Columns: [tweet_id, in_reply_to_status_id, in_reply_to_user_id, timestamp, source, text, rating_numerator, rating_denominator, name, life_stage, jpg_url, img_num, p1, p1_conf, p1_dog, p2, p2_conf, p2_dog, p3, p3_conf, p3_dog, retweet_count, favorite_count]\n",
       "Index: []\n",
       "\n",
       "[0 rows x 23 columns]"
      ]
     },
     "execution_count": 128,
     "metadata": {},
     "output_type": "execute_result"
    }
   ],
   "source": [
    "twitter_archive_clean[twitter_archive_clean['retweet_count'] == 0]"
   ]
  },
  {
   "cell_type": "code",
   "execution_count": 129,
   "metadata": {
    "scrolled": true
   },
   "outputs": [
    {
     "data": {
      "text/html": [
       "<div>\n",
       "<style scoped>\n",
       "    .dataframe tbody tr th:only-of-type {\n",
       "        vertical-align: middle;\n",
       "    }\n",
       "\n",
       "    .dataframe tbody tr th {\n",
       "        vertical-align: top;\n",
       "    }\n",
       "\n",
       "    .dataframe thead th {\n",
       "        text-align: right;\n",
       "    }\n",
       "</style>\n",
       "<table border=\"1\" class=\"dataframe\">\n",
       "  <thead>\n",
       "    <tr style=\"text-align: right;\">\n",
       "      <th></th>\n",
       "      <th>tweet_id</th>\n",
       "      <th>in_reply_to_status_id</th>\n",
       "      <th>in_reply_to_user_id</th>\n",
       "      <th>timestamp</th>\n",
       "      <th>source</th>\n",
       "      <th>text</th>\n",
       "      <th>rating_numerator</th>\n",
       "      <th>rating_denominator</th>\n",
       "      <th>name</th>\n",
       "      <th>life_stage</th>\n",
       "      <th>...</th>\n",
       "      <th>p1_conf</th>\n",
       "      <th>p1_dog</th>\n",
       "      <th>p2</th>\n",
       "      <th>p2_conf</th>\n",
       "      <th>p2_dog</th>\n",
       "      <th>p3</th>\n",
       "      <th>p3_conf</th>\n",
       "      <th>p3_dog</th>\n",
       "      <th>retweet_count</th>\n",
       "      <th>favorite_count</th>\n",
       "    </tr>\n",
       "  </thead>\n",
       "  <tbody>\n",
       "  </tbody>\n",
       "</table>\n",
       "<p>0 rows × 23 columns</p>\n",
       "</div>"
      ],
      "text/plain": [
       "Empty DataFrame\n",
       "Columns: [tweet_id, in_reply_to_status_id, in_reply_to_user_id, timestamp, source, text, rating_numerator, rating_denominator, name, life_stage, jpg_url, img_num, p1, p1_conf, p1_dog, p2, p2_conf, p2_dog, p3, p3_conf, p3_dog, retweet_count, favorite_count]\n",
       "Index: []\n",
       "\n",
       "[0 rows x 23 columns]"
      ]
     },
     "execution_count": 129,
     "metadata": {},
     "output_type": "execute_result"
    }
   ],
   "source": [
    "twitter_archive_clean[twitter_archive_clean['favorite_count'] == 0]"
   ]
  },
  {
   "cell_type": "markdown",
   "metadata": {},
   "source": [
    "As it turns out tweets with retweet_count == 0 and favorite_count == 0 were removed as retweet data was deleted.  No further work needed."
   ]
  },
  {
   "cell_type": "markdown",
   "metadata": {},
   "source": [
    "###### Test\n",
    "N/A"
   ]
  },
  {
   "cell_type": "markdown",
   "metadata": {},
   "source": [
    "## Save Cleaned Data\n",
    "\n",
    "Save cleaned data to 'twitter_archive_master.csv' for analysis and visualization."
   ]
  },
  {
   "cell_type": "code",
   "execution_count": 130,
   "metadata": {},
   "outputs": [],
   "source": [
    "twitter_archive_clean.to_csv('twitter_archive_master.csv', index=False)"
   ]
  },
  {
   "cell_type": "markdown",
   "metadata": {},
   "source": [
    "<a id='analyze'></a>\n",
    "## Analyze Data\n",
    "\n",
    "Load data from twitter_archive_master.csv"
   ]
  },
  {
   "cell_type": "code",
   "execution_count": 131,
   "metadata": {},
   "outputs": [],
   "source": [
    "twitter_archive_master = pd.read_csv('twitter_archive_master.csv')"
   ]
  },
  {
   "cell_type": "markdown",
   "metadata": {},
   "source": [
    "After I looked at twitter_archive_master in Microsoft excel file, I came up with 3 questions I would like to explore.\n",
    "\n",
    "1. How good the image prediction algorithm was to predict dog images?\n",
    "2. Are top breeds of dogs associated with rating?\n",
    "3. Which variables are associated with retweets and favorite counts?"
   ]
  },
  {
   "cell_type": "markdown",
   "metadata": {},
   "source": [
    "#### How good the image prediction algorithm was to predict dog images?"
   ]
  },
  {
   "cell_type": "code",
   "execution_count": 132,
   "metadata": {
    "scrolled": true
   },
   "outputs": [
    {
     "name": "stdout",
     "output_type": "stream",
     "text": [
      "<class 'pandas.core.frame.DataFrame'>\n",
      "RangeIndex: 1994 entries, 0 to 1993\n",
      "Data columns (total 23 columns):\n",
      "tweet_id                 1994 non-null int64\n",
      "in_reply_to_status_id    1994 non-null int64\n",
      "in_reply_to_user_id      1994 non-null int64\n",
      "timestamp                1994 non-null object\n",
      "source                   1994 non-null object\n",
      "text                     1994 non-null object\n",
      "rating_numerator         1994 non-null int64\n",
      "rating_denominator       1994 non-null int64\n",
      "name                     1994 non-null object\n",
      "life_stage               1994 non-null object\n",
      "jpg_url                  1994 non-null object\n",
      "img_num                  1994 non-null int64\n",
      "p1                       1994 non-null object\n",
      "p1_conf                  1994 non-null float64\n",
      "p1_dog                   1994 non-null bool\n",
      "p2                       1994 non-null object\n",
      "p2_conf                  1994 non-null float64\n",
      "p2_dog                   1994 non-null bool\n",
      "p3                       1994 non-null object\n",
      "p3_conf                  1994 non-null float64\n",
      "p3_dog                   1994 non-null bool\n",
      "retweet_count            1994 non-null int64\n",
      "favorite_count           1994 non-null int64\n",
      "dtypes: bool(3), float64(3), int64(8), object(9)\n",
      "memory usage: 317.5+ KB\n"
     ]
    }
   ],
   "source": [
    "twitter_archive_master.info()"
   ]
  },
  {
   "cell_type": "markdown",
   "metadata": {},
   "source": [
    "First I want to look how many or what percentage of images were correctly predicted with 1st prediction."
   ]
  },
  {
   "cell_type": "code",
   "execution_count": 133,
   "metadata": {},
   "outputs": [],
   "source": [
    "p1_mask = twitter_archive_master['p1_dog'] == True\n",
    "p1_predicted = twitter_archive_master[p1_mask]"
   ]
  },
  {
   "cell_type": "code",
   "execution_count": 134,
   "metadata": {},
   "outputs": [
    {
     "data": {
      "text/plain": [
       "1477"
      ]
     },
     "execution_count": 134,
     "metadata": {},
     "output_type": "execute_result"
    }
   ],
   "source": [
    "len(p1_predicted)"
   ]
  },
  {
   "cell_type": "code",
   "execution_count": 135,
   "metadata": {
    "scrolled": true
   },
   "outputs": [
    {
     "data": {
      "text/plain": [
       "0.7407221664994985"
      ]
     },
     "execution_count": 135,
     "metadata": {},
     "output_type": "execute_result"
    }
   ],
   "source": [
    "len(p1_predicted) / len(twitter_archive_master)"
   ]
  },
  {
   "cell_type": "markdown",
   "metadata": {},
   "source": [
    "The image prediction algorithm correctly got 74.07% of tweet images (1447 out of 1994) with 1st prediction."
   ]
  },
  {
   "cell_type": "code",
   "execution_count": 136,
   "metadata": {},
   "outputs": [
    {
     "data": {
      "text/plain": [
       "count    1477.000000\n",
       "mean        0.614364\n",
       "std         0.260342\n",
       "min         0.044333\n",
       "25%         0.392108\n",
       "50%         0.615741\n",
       "75%         0.853170\n",
       "max         0.999956\n",
       "Name: p1_conf, dtype: float64"
      ]
     },
     "execution_count": 136,
     "metadata": {},
     "output_type": "execute_result"
    }
   ],
   "source": [
    "p1_predicted['p1_conf'].describe()"
   ]
  },
  {
   "cell_type": "markdown",
   "metadata": {},
   "source": [
    "Mean p1 confidence is 61.44%, 25th percentile is 39.21%, and 75th percentile 85.32%. Min is 4.43%, and max is 100%."
   ]
  },
  {
   "cell_type": "code",
   "execution_count": 137,
   "metadata": {},
   "outputs": [],
   "source": [
    "# Storing prediction number and dog breed\n",
    "twitter_archive_master['predicted'] = np.where(p1_mask, 'p1', 'no')\n",
    "twitter_archive_master['predicted_dog'] = np.where(p1_mask, twitter_archive_master['p1'], 'None')"
   ]
  },
  {
   "cell_type": "markdown",
   "metadata": {},
   "source": [
    "Now looking at how many or what percentage of images were correctly predicted with 2nd prediction."
   ]
  },
  {
   "cell_type": "code",
   "execution_count": 138,
   "metadata": {},
   "outputs": [],
   "source": [
    "p2_mask = (twitter_archive_master['p1_dog'] == False) & (twitter_archive_master['p2_dog'] == True)\n",
    "p2_predicted = twitter_archive_master[p2_mask]"
   ]
  },
  {
   "cell_type": "code",
   "execution_count": 139,
   "metadata": {},
   "outputs": [
    {
     "data": {
      "text/plain": [
       "147"
      ]
     },
     "execution_count": 139,
     "metadata": {},
     "output_type": "execute_result"
    }
   ],
   "source": [
    "len(p2_predicted)"
   ]
  },
  {
   "cell_type": "code",
   "execution_count": 140,
   "metadata": {},
   "outputs": [
    {
     "data": {
      "text/plain": [
       "0.07372116349047142"
      ]
     },
     "execution_count": 140,
     "metadata": {},
     "output_type": "execute_result"
    }
   ],
   "source": [
    "len(p2_predicted) / len(twitter_archive_master)"
   ]
  },
  {
   "cell_type": "markdown",
   "metadata": {},
   "source": [
    "The image prediction algorithm correctly got 7.37% of tweet images (147 out of 1994) with 2nd prediction."
   ]
  },
  {
   "cell_type": "code",
   "execution_count": 141,
   "metadata": {
    "scrolled": true
   },
   "outputs": [
    {
     "data": {
      "text/plain": [
       "count    147.000000\n",
       "mean       0.113112\n",
       "std        0.088177\n",
       "min        0.000010\n",
       "25%        0.049720\n",
       "50%        0.098378\n",
       "75%        0.160239\n",
       "max        0.430624\n",
       "Name: p2_conf, dtype: float64"
      ]
     },
     "execution_count": 141,
     "metadata": {},
     "output_type": "execute_result"
    }
   ],
   "source": [
    "p2_predicted['p2_conf'].describe()"
   ]
  },
  {
   "cell_type": "markdown",
   "metadata": {},
   "source": [
    "Mean p2 confidence is 11.31%, 25th percentile is 49.72%, and 75th percentile 16.02%. Min is 0%, and max is 43.06%."
   ]
  },
  {
   "cell_type": "code",
   "execution_count": 142,
   "metadata": {},
   "outputs": [],
   "source": [
    "# Storing prediction number and dog breed\n",
    "twitter_archive_master['predicted'] = np.where(p2_mask, 'p2', twitter_archive_master['predicted'])\n",
    "twitter_archive_master['predicted_dog'] = np.where(p2_mask, twitter_archive_master['p2'], twitter_archive_master['predicted_dog'])"
   ]
  },
  {
   "cell_type": "markdown",
   "metadata": {},
   "source": [
    "Next, I want to look how many or what percentage of images were correctly predicted with 3rd prediction."
   ]
  },
  {
   "cell_type": "code",
   "execution_count": 143,
   "metadata": {},
   "outputs": [],
   "source": [
    "p3_mask = (twitter_archive_master['p1_dog'] == False) & (twitter_archive_master['p2_dog'] == False) & (twitter_archive_master['p3_dog'] == True)\n",
    "\n",
    "p3_predicted = twitter_archive_master[p3_mask] "
   ]
  },
  {
   "cell_type": "code",
   "execution_count": 144,
   "metadata": {},
   "outputs": [
    {
     "data": {
      "text/plain": [
       "62"
      ]
     },
     "execution_count": 144,
     "metadata": {},
     "output_type": "execute_result"
    }
   ],
   "source": [
    "len(p3_predicted)"
   ]
  },
  {
   "cell_type": "code",
   "execution_count": 145,
   "metadata": {},
   "outputs": [
    {
     "data": {
      "text/plain": [
       "0.031093279839518557"
      ]
     },
     "execution_count": 145,
     "metadata": {},
     "output_type": "execute_result"
    }
   ],
   "source": [
    "len(p3_predicted) / len(twitter_archive_master)"
   ]
  },
  {
   "cell_type": "markdown",
   "metadata": {},
   "source": [
    "The image prediction algorithm correctly got 3.11% of tweet images (62 out of 1994) with 3rd prediction."
   ]
  },
  {
   "cell_type": "code",
   "execution_count": 146,
   "metadata": {},
   "outputs": [
    {
     "data": {
      "text/plain": [
       "count    62.000000\n",
       "mean      0.050794\n",
       "std       0.042491\n",
       "min       0.000083\n",
       "25%       0.019140\n",
       "50%       0.042161\n",
       "75%       0.082053\n",
       "max       0.233162\n",
       "Name: p3_conf, dtype: float64"
      ]
     },
     "execution_count": 146,
     "metadata": {},
     "output_type": "execute_result"
    }
   ],
   "source": [
    "p3_predicted['p3_conf'].describe()"
   ]
  },
  {
   "cell_type": "markdown",
   "metadata": {},
   "source": [
    "Mean p3 confidence is 5.1%, 25th percentile is 1.91%, and 75th percentile 8.21%. Min is 0%, and max is 20.32%."
   ]
  },
  {
   "cell_type": "code",
   "execution_count": 147,
   "metadata": {},
   "outputs": [],
   "source": [
    "# Storing prediction number and dog breed\n",
    "twitter_archive_master['predicted'] = np.where(p3_mask, 'p3', twitter_archive_master['predicted'])\n",
    "twitter_archive_master['predicted_dog'] = np.where(p3_mask, twitter_archive_master['p3'], twitter_archive_master['predicted_dog'])"
   ]
  },
  {
   "cell_type": "markdown",
   "metadata": {},
   "source": [
    "Lastly, I want to look how many or what percentage of images were not predicted."
   ]
  },
  {
   "cell_type": "code",
   "execution_count": 148,
   "metadata": {},
   "outputs": [],
   "source": [
    "no_prediction = \\\n",
    "twitter_archive_master[(twitter_archive_master['p1_dog'] == False) & \\\n",
    "                       (twitter_archive_master['p2_dog'] == False) & \\\n",
    "                       (twitter_archive_master['p3_dog'] == False)] "
   ]
  },
  {
   "cell_type": "code",
   "execution_count": 149,
   "metadata": {},
   "outputs": [
    {
     "data": {
      "text/plain": [
       "308"
      ]
     },
     "execution_count": 149,
     "metadata": {},
     "output_type": "execute_result"
    }
   ],
   "source": [
    "len(no_prediction)"
   ]
  },
  {
   "cell_type": "code",
   "execution_count": 150,
   "metadata": {},
   "outputs": [
    {
     "data": {
      "text/plain": [
       "0.15446339017051153"
      ]
     },
     "execution_count": 150,
     "metadata": {},
     "output_type": "execute_result"
    }
   ],
   "source": [
    "len(no_prediction) / len(twitter_archive_master)"
   ]
  },
  {
   "cell_type": "markdown",
   "metadata": {},
   "source": [
    "The image prediction algorithm wasn't able to predict 15.45% of tweet images (308 out of 1994)."
   ]
  },
  {
   "cell_type": "markdown",
   "metadata": {},
   "source": [
    "#### Findings\n",
    "The image prediction algorithm was able to predict 84.55% of dog images.\n",
    "\n",
    "<u>Breakdowns:</u><br/>\n",
    "1st prediction: The prediction algorithm got 74.07% of tweet images (1447 out of 1994) with 61.44% of mean confidence.<br/>\n",
    "2st prediction: The prediction algorithm got 7.37% of tweet images (147 out of 1994) with 11.31% of mean confidence.<br/>\n",
    "3st prediction: The prediction algorithm got 3.11% of tweet images (62 out of 1994) with 5.1% of mean confidence.<br/>\n",
    "no  prediction: The prediction algorithm wasn't able to predict 15.45% of tweet images (308 out of 1994)."
   ]
  },
  {
   "cell_type": "markdown",
   "metadata": {},
   "source": [
    "#### Are top breeds of dogs associated with rating?"
   ]
  },
  {
   "cell_type": "markdown",
   "metadata": {},
   "source": [
    "Calculate rating from numerator and demominator and explore the ratings. "
   ]
  },
  {
   "cell_type": "code",
   "execution_count": 151,
   "metadata": {},
   "outputs": [],
   "source": [
    "# Calculate and create 'rating' from 'rating_numerator' and 'rating _denominator'\n",
    "twitter_archive_master['rating'] = twitter_archive_master['rating_numerator']/twitter_archive_master['rating_denominator']"
   ]
  },
  {
   "cell_type": "code",
   "execution_count": 152,
   "metadata": {
    "scrolled": true
   },
   "outputs": [
    {
     "data": {
      "text/plain": [
       "count    1994.000000\n",
       "mean        1.168319\n",
       "std         4.064404\n",
       "min         0.000000\n",
       "25%         1.000000\n",
       "50%         1.100000\n",
       "75%         1.200000\n",
       "max       177.600000\n",
       "Name: rating, dtype: float64"
      ]
     },
     "execution_count": 152,
     "metadata": {},
     "output_type": "execute_result"
    }
   ],
   "source": [
    "twitter_archive_master['rating'].describe()"
   ]
  },
  {
   "cell_type": "code",
   "execution_count": 153,
   "metadata": {
    "scrolled": true
   },
   "outputs": [
    {
     "data": {
      "text/plain": [
       "1.200000      454\n",
       "1.000000      423\n",
       "1.100000      404\n",
       "1.300000      263\n",
       "0.900000      152\n",
       "0.800000       96\n",
       "0.700000       50\n",
       "1.400000       36\n",
       "0.600000       32\n",
       "0.500000       31\n",
       "0.300000       19\n",
       "0.400000       14\n",
       "0.200000        9\n",
       "0.100000        4\n",
       "0.000000        2\n",
       "3.428571        1\n",
       "177.600000      1\n",
       "2.600000        1\n",
       "42.000000       1\n",
       "2.700000        1\n",
       "Name: rating, dtype: int64"
      ]
     },
     "execution_count": 153,
     "metadata": {},
     "output_type": "execute_result"
    }
   ],
   "source": [
    "twitter_archive_master['rating'].value_counts()"
   ]
  },
  {
   "cell_type": "code",
   "execution_count": 154,
   "metadata": {
    "scrolled": true
   },
   "outputs": [
    {
     "data": {
      "text/html": [
       "<div>\n",
       "<style scoped>\n",
       "    .dataframe tbody tr th:only-of-type {\n",
       "        vertical-align: middle;\n",
       "    }\n",
       "\n",
       "    .dataframe tbody tr th {\n",
       "        vertical-align: top;\n",
       "    }\n",
       "\n",
       "    .dataframe thead th {\n",
       "        text-align: right;\n",
       "    }\n",
       "</style>\n",
       "<table border=\"1\" class=\"dataframe\">\n",
       "  <thead>\n",
       "    <tr style=\"text-align: right;\">\n",
       "      <th></th>\n",
       "      <th>tweet_id</th>\n",
       "      <th>in_reply_to_status_id</th>\n",
       "      <th>in_reply_to_user_id</th>\n",
       "      <th>timestamp</th>\n",
       "      <th>source</th>\n",
       "      <th>text</th>\n",
       "      <th>rating_numerator</th>\n",
       "      <th>rating_denominator</th>\n",
       "      <th>name</th>\n",
       "      <th>life_stage</th>\n",
       "      <th>...</th>\n",
       "      <th>p2_conf</th>\n",
       "      <th>p2_dog</th>\n",
       "      <th>p3</th>\n",
       "      <th>p3_conf</th>\n",
       "      <th>p3_dog</th>\n",
       "      <th>retweet_count</th>\n",
       "      <th>favorite_count</th>\n",
       "      <th>predicted</th>\n",
       "      <th>predicted_dog</th>\n",
       "      <th>rating</th>\n",
       "    </tr>\n",
       "  </thead>\n",
       "  <tbody>\n",
       "    <tr>\n",
       "      <th>317</th>\n",
       "      <td>810984652412424192</td>\n",
       "      <td>0</td>\n",
       "      <td>0</td>\n",
       "      <td>2016-12-19 23:06:23</td>\n",
       "      <td>Twitter for iPhone</td>\n",
       "      <td>Meet Sam. She smiles 24/7 &amp;amp; secretly aspires to be a reindeer. \\r\\nKeep Sam smiling by clicking and sharing this link:\\r\\nhttps://t.co/98tB8y7...</td>\n",
       "      <td>24</td>\n",
       "      <td>7</td>\n",
       "      <td>Sam</td>\n",
       "      <td>None</td>\n",
       "      <td>...</td>\n",
       "      <td>0.036708</td>\n",
       "      <td>True</td>\n",
       "      <td>labrador_retriever</td>\n",
       "      <td>0.025823</td>\n",
       "      <td>True</td>\n",
       "      <td>1608</td>\n",
       "      <td>5813</td>\n",
       "      <td>p1</td>\n",
       "      <td>golden_retriever</td>\n",
       "      <td>3.428571</td>\n",
       "    </tr>\n",
       "    <tr>\n",
       "      <th>599</th>\n",
       "      <td>749981277374128128</td>\n",
       "      <td>0</td>\n",
       "      <td>0</td>\n",
       "      <td>2016-07-04 15:00:45</td>\n",
       "      <td>TweetDeck</td>\n",
       "      <td>This is Atticus. He's quite simply America af. 1776/10 https://t.co/GRXwMxLBkh</td>\n",
       "      <td>1776</td>\n",
       "      <td>10</td>\n",
       "      <td>Atticus</td>\n",
       "      <td>None</td>\n",
       "      <td>...</td>\n",
       "      <td>0.080822</td>\n",
       "      <td>False</td>\n",
       "      <td>sunglass</td>\n",
       "      <td>0.050776</td>\n",
       "      <td>False</td>\n",
       "      <td>2705</td>\n",
       "      <td>5503</td>\n",
       "      <td>no</td>\n",
       "      <td>None</td>\n",
       "      <td>177.600000</td>\n",
       "    </tr>\n",
       "    <tr>\n",
       "      <th>1124</th>\n",
       "      <td>680494726643068929</td>\n",
       "      <td>0</td>\n",
       "      <td>0</td>\n",
       "      <td>2015-12-25 21:06:00</td>\n",
       "      <td>Twitter for iPhone</td>\n",
       "      <td>Here we have uncovered an entire battalion of holiday puppers. Average of 11.26/10 https://t.co/eNm2S6p9BD</td>\n",
       "      <td>26</td>\n",
       "      <td>10</td>\n",
       "      <td>None</td>\n",
       "      <td>None</td>\n",
       "      <td>...</td>\n",
       "      <td>0.111622</td>\n",
       "      <td>True</td>\n",
       "      <td>great_pyrenees</td>\n",
       "      <td>0.064061</td>\n",
       "      <td>True</td>\n",
       "      <td>528</td>\n",
       "      <td>1829</td>\n",
       "      <td>p1</td>\n",
       "      <td>kuvasz</td>\n",
       "      <td>2.600000</td>\n",
       "    </tr>\n",
       "    <tr>\n",
       "      <th>1412</th>\n",
       "      <td>670842764863651840</td>\n",
       "      <td>0</td>\n",
       "      <td>0</td>\n",
       "      <td>2015-11-29 05:52:33</td>\n",
       "      <td>Twitter for iPhone</td>\n",
       "      <td>After so many requests... here you go.\\r\\n\\r\\nGood dogg. 420/10 https://t.co/yfAAo1gdeY</td>\n",
       "      <td>420</td>\n",
       "      <td>10</td>\n",
       "      <td>None</td>\n",
       "      <td>None</td>\n",
       "      <td>...</td>\n",
       "      <td>0.094075</td>\n",
       "      <td>False</td>\n",
       "      <td>drumstick</td>\n",
       "      <td>0.061113</td>\n",
       "      <td>False</td>\n",
       "      <td>9271</td>\n",
       "      <td>25465</td>\n",
       "      <td>no</td>\n",
       "      <td>None</td>\n",
       "      <td>42.000000</td>\n",
       "    </tr>\n",
       "    <tr>\n",
       "      <th>1788</th>\n",
       "      <td>778027034220126208</td>\n",
       "      <td>0</td>\n",
       "      <td>0</td>\n",
       "      <td>2016-09-20 00:24:34</td>\n",
       "      <td>Twitter for iPhone</td>\n",
       "      <td>This is Sophie. She's a Jubilant Bush Pupper. Super h*ckin rare. Appears at random just to smile at the locals. 11.27/10 would smile back https://...</td>\n",
       "      <td>27</td>\n",
       "      <td>10</td>\n",
       "      <td>Sophie</td>\n",
       "      <td>pupper</td>\n",
       "      <td>...</td>\n",
       "      <td>0.015950</td>\n",
       "      <td>True</td>\n",
       "      <td>lhasa</td>\n",
       "      <td>0.006519</td>\n",
       "      <td>True</td>\n",
       "      <td>1818</td>\n",
       "      <td>7134</td>\n",
       "      <td>p1</td>\n",
       "      <td>clumber</td>\n",
       "      <td>2.700000</td>\n",
       "    </tr>\n",
       "  </tbody>\n",
       "</table>\n",
       "<p>5 rows × 26 columns</p>\n",
       "</div>"
      ],
      "text/plain": [
       "                tweet_id  in_reply_to_status_id  in_reply_to_user_id  \\\n",
       "317   810984652412424192                      0                    0   \n",
       "599   749981277374128128                      0                    0   \n",
       "1124  680494726643068929                      0                    0   \n",
       "1412  670842764863651840                      0                    0   \n",
       "1788  778027034220126208                      0                    0   \n",
       "\n",
       "                timestamp              source  \\\n",
       "317   2016-12-19 23:06:23  Twitter for iPhone   \n",
       "599   2016-07-04 15:00:45           TweetDeck   \n",
       "1124  2015-12-25 21:06:00  Twitter for iPhone   \n",
       "1412  2015-11-29 05:52:33  Twitter for iPhone   \n",
       "1788  2016-09-20 00:24:34  Twitter for iPhone   \n",
       "\n",
       "                                                                                                                                                       text  \\\n",
       "317   Meet Sam. She smiles 24/7 &amp; secretly aspires to be a reindeer. \\r\\nKeep Sam smiling by clicking and sharing this link:\\r\\nhttps://t.co/98tB8y7...   \n",
       "599                                                                          This is Atticus. He's quite simply America af. 1776/10 https://t.co/GRXwMxLBkh   \n",
       "1124                                             Here we have uncovered an entire battalion of holiday puppers. Average of 11.26/10 https://t.co/eNm2S6p9BD   \n",
       "1412                                                                After so many requests... here you go.\\r\\n\\r\\nGood dogg. 420/10 https://t.co/yfAAo1gdeY   \n",
       "1788  This is Sophie. She's a Jubilant Bush Pupper. Super h*ckin rare. Appears at random just to smile at the locals. 11.27/10 would smile back https://...   \n",
       "\n",
       "      rating_numerator  rating_denominator     name life_stage     ...      \\\n",
       "317                 24                   7      Sam       None     ...       \n",
       "599               1776                  10  Atticus       None     ...       \n",
       "1124                26                  10     None       None     ...       \n",
       "1412               420                  10     None       None     ...       \n",
       "1788                27                  10   Sophie     pupper     ...       \n",
       "\n",
       "       p2_conf  p2_dog                  p3   p3_conf  p3_dog retweet_count  \\\n",
       "317   0.036708    True  labrador_retriever  0.025823    True          1608   \n",
       "599   0.080822   False            sunglass  0.050776   False          2705   \n",
       "1124  0.111622    True      great_pyrenees  0.064061    True           528   \n",
       "1412  0.094075   False           drumstick  0.061113   False          9271   \n",
       "1788  0.015950    True               lhasa  0.006519    True          1818   \n",
       "\n",
       "      favorite_count  predicted     predicted_dog      rating  \n",
       "317             5813         p1  golden_retriever    3.428571  \n",
       "599             5503         no              None  177.600000  \n",
       "1124            1829         p1            kuvasz    2.600000  \n",
       "1412           25465         no              None   42.000000  \n",
       "1788            7134         p1           clumber    2.700000  \n",
       "\n",
       "[5 rows x 26 columns]"
      ]
     },
     "execution_count": 154,
     "metadata": {},
     "output_type": "execute_result"
    }
   ],
   "source": [
    "twitter_archive_master[twitter_archive_master['rating'] > 1.4]"
   ]
  },
  {
   "cell_type": "code",
   "execution_count": 155,
   "metadata": {},
   "outputs": [
    {
     "data": {
      "text/plain": [
       "0.20511534603811435"
      ]
     },
     "execution_count": 155,
     "metadata": {},
     "output_type": "execute_result"
    }
   ],
   "source": [
    "len(twitter_archive_master[twitter_archive_master['rating'] < 1.0]) / len(twitter_archive_master['rating'])"
   ]
  },
  {
   "cell_type": "markdown",
   "metadata": {},
   "source": [
    "Mean rating is 1.17, 25th percentile is 1.00, and 75th percentile 1.20.  Min is 0, and max is 177.60. \n",
    "\n",
    "Majority of ratings are under 1.40, but there are some extreme ratings (like 177.60 and 42.00).\n",
    "Only 5 tweets have rating more han 1.40.\n",
    "\n",
    "21% of tweets have rating under 1.00."
   ]
  },
  {
   "cell_type": "code",
   "execution_count": 156,
   "metadata": {},
   "outputs": [
    {
     "data": {
      "text/plain": [
       "114"
      ]
     },
     "execution_count": 156,
     "metadata": {},
     "output_type": "execute_result"
    }
   ],
   "source": [
    "len(twitter_archive_master['predicted_dog'].value_counts())"
   ]
  },
  {
   "cell_type": "markdown",
   "metadata": {},
   "source": [
    "There are 113 dog breeds. ('None' as one of values in 'predicted_dogs')\n",
    "\n",
    "I will pick top 10 dogs to do the analysis. "
   ]
  },
  {
   "cell_type": "code",
   "execution_count": 157,
   "metadata": {},
   "outputs": [
    {
     "data": {
      "text/plain": [
       "golden_retriever      158\n",
       "labrador_retriever    108\n",
       "pembroke               95\n",
       "chihuahua              91\n",
       "pug                    62\n",
       "toy_poodle             51\n",
       "chow                   48\n",
       "samoyed                42\n",
       "pomeranian             42\n",
       "malamute               33\n",
       "Name: predicted_dog, dtype: int64"
      ]
     },
     "execution_count": 157,
     "metadata": {},
     "output_type": "execute_result"
    }
   ],
   "source": [
    "twitter_archive_master['predicted_dog'].value_counts()[1:11]"
   ]
  },
  {
   "cell_type": "code",
   "execution_count": 158,
   "metadata": {
    "scrolled": true
   },
   "outputs": [],
   "source": [
    "# Get 10 top dog breed\n",
    "# 'None' has most number of entries, so I'm excluding the first value.\n",
    "top_breeds = twitter_archive_master['predicted_dog'].value_counts()[1:11].index\n",
    "\n",
    "# Filtering out tweets which do not match with breeds in top_breed list\n",
    "twitter_archive_master_top_breeds = \\\n",
    "    twitter_archive_master[twitter_archive_master['predicted_dog'].isin(top_breeds.tolist())]"
   ]
  },
  {
   "cell_type": "code",
   "execution_count": 159,
   "metadata": {},
   "outputs": [
    {
     "data": {
      "text/plain": [
       "count    730.000000\n",
       "mean       1.117847\n",
       "std        0.179160\n",
       "min        0.300000\n",
       "25%        1.000000\n",
       "50%        1.100000\n",
       "75%        1.200000\n",
       "max        3.428571\n",
       "Name: rating, dtype: float64"
      ]
     },
     "execution_count": 159,
     "metadata": {},
     "output_type": "execute_result"
    }
   ],
   "source": [
    "twitter_archive_master_top_breeds['rating'].describe()"
   ]
  },
  {
   "cell_type": "markdown",
   "metadata": {},
   "source": [
    "Removing max rating value as it is an outlier."
   ]
  },
  {
   "cell_type": "code",
   "execution_count": 160,
   "metadata": {},
   "outputs": [
    {
     "name": "stderr",
     "output_type": "stream",
     "text": [
      "C:\\Users\\ayumi\\Anaconda3\\lib\\site-packages\\ipykernel_launcher.py:1: SettingWithCopyWarning: \n",
      "A value is trying to be set on a copy of a slice from a DataFrame\n",
      "\n",
      "See the caveats in the documentation: http://pandas.pydata.org/pandas-docs/stable/indexing.html#indexing-view-versus-copy\n",
      "  \"\"\"Entry point for launching an IPython kernel.\n"
     ]
    }
   ],
   "source": [
    "twitter_archive_master_top_breeds.drop(twitter_archive_master_top_breeds[twitter_archive_master_top_breeds['rating'] > 3.0].index, inplace=True)"
   ]
  },
  {
   "cell_type": "code",
   "execution_count": 161,
   "metadata": {
    "scrolled": true
   },
   "outputs": [
    {
     "data": {
      "text/plain": [
       "Text(0,0.5,'Ratings')"
      ]
     },
     "execution_count": 161,
     "metadata": {},
     "output_type": "execute_result"
    },
    {
     "data": {
      "image/png": "[encoded data removed]",
      "text/plain": [
       "<Figure size 1080x576 with 1 Axes>"
      ]
     },
     "metadata": {},
     "output_type": "display_data"
    }
   ],
   "source": [
    "fig = plt.figure(figsize=(15,8))\n",
    "\n",
    "ax = sns.boxplot(data=twitter_archive_master_top_breeds, x='predicted_dog', y='rating', palette=\"Spectral\")\n",
    "ax.set_title('Top 10 Dog Breeds vs Ratings', fontsize=18)\n",
    "ax.set_xlabel('Dog Breeds', fontsize=14)\n",
    "ax.set_ylabel('Ratings', fontsize=14)"
   ]
  },
  {
   "cell_type": "markdown",
   "metadata": {},
   "source": [
    "#### Findings\n",
    "Majority of ratings are under 1.40, but there are some extreme ratings (like 177.60 and 42.00).<br/>\n",
    "Only 5 tweets have rating more than 1.40.  21% of tweets have rating under 1.00.\n",
    "\n",
    "There are 113 dog breeds in the data set. I've used 10 top dog breeds to do the analysis.<br/>\n",
    "Samoyed has higher median and higher interquartile range and pug has lower median and lower interquartile range than the rest of top 10 breed dogs.<br/>\n",
    "Median rating of all top 10 dog breeds are between 1.0 and 1.2.\n",
    "\n",
    "It doesn't seem like dog breeds have any correlation with rating."
   ]
  },
  {
   "cell_type": "markdown",
   "metadata": {},
   "source": [
    "#### Which variables are associated with retweets and favorite counts?"
   ]
  },
  {
   "cell_type": "code",
   "execution_count": 162,
   "metadata": {
    "scrolled": false
   },
   "outputs": [
    {
     "data": {
      "text/plain": [
       "count     1994.000000\n",
       "mean      2711.898195\n",
       "std       4682.374483\n",
       "min         13.000000\n",
       "25%        607.000000\n",
       "50%       1310.000000\n",
       "75%       3118.500000\n",
       "max      77226.000000\n",
       "Name: retweet_count, dtype: float64"
      ]
     },
     "execution_count": 162,
     "metadata": {},
     "output_type": "execute_result"
    }
   ],
   "source": [
    "twitter_archive_master['retweet_count'].describe()"
   ]
  },
  {
   "cell_type": "markdown",
   "metadata": {},
   "source": [
    "Mean retweet_count is 2714.04, 25th percentile is 607.00, and 75th percentile 3119.50. Min is 1994.00, and max is 77281.00."
   ]
  },
  {
   "cell_type": "code",
   "execution_count": 163,
   "metadata": {},
   "outputs": [
    {
     "data": {
      "text/plain": [
       "count      1994.000000\n",
       "mean       8836.069208\n",
       "std       12547.186081\n",
       "min          80.000000\n",
       "25%        1923.000000\n",
       "50%        4039.500000\n",
       "75%       11126.500000\n",
       "max      143184.000000\n",
       "Name: favorite_count, dtype: float64"
      ]
     },
     "execution_count": 163,
     "metadata": {},
     "output_type": "execute_result"
    }
   ],
   "source": [
    "twitter_archive_master['favorite_count'].describe()"
   ]
  },
  {
   "cell_type": "markdown",
   "metadata": {},
   "source": [
    "Mean retweet_count is 8842.77, 25th percentile is 1924.25, and 75th percentile 11137.25. Min is 80.00, and max is 143268.00.\n",
    "\n",
    "First I'd like to see if retweet counts and favorite counts are correlaed with each other. Are retweet counts go up as favorite counts go up, vice versa?"
   ]
  },
  {
   "cell_type": "code",
   "execution_count": 164,
   "metadata": {
    "scrolled": true
   },
   "outputs": [
    {
     "data": {
      "text/plain": [
       "Text(0,0.5,'Favorite Counts')"
      ]
     },
     "execution_count": 164,
     "metadata": {},
     "output_type": "execute_result"
    },
    {
     "data": {
      "image/png": "[encoded data removed]",
      "text/plain": [
       "<Figure size 576x360 with 1 Axes>"
      ]
     },
     "metadata": {},
     "output_type": "display_data"
    }
   ],
   "source": [
    "# Scatter plot for retweet counts vs favorite counts with trendline\n",
    "fig = plt.figure(figsize=(8,5))\n",
    "\n",
    "ax = sns.regplot(\n",
    "    x='retweet_count',\n",
    "    y='favorite_count',\n",
    "    data=twitter_archive_master\n",
    ")\n",
    "ax.set_title('Retweet Counts vs Favorite Counts', fontsize=18)\n",
    "ax.set_xlabel('Retweet Counts', fontsize=14)\n",
    "ax.set_ylabel('Favorite Counts', fontsize=14)"
   ]
  },
  {
   "cell_type": "code",
   "execution_count": 165,
   "metadata": {
    "scrolled": true
   },
   "outputs": [
    {
     "data": {
      "text/html": [
       "<table class=\"simpletable\">\n",
       "<caption>OLS Regression Results</caption>\n",
       "<tr>\n",
       "  <th>Dep. Variable:</th>      <td>retweet_count</td>  <th>  R-squared:         </th> <td>   0.841</td> \n",
       "</tr>\n",
       "<tr>\n",
       "  <th>Model:</th>                   <td>OLS</td>       <th>  Adj. R-squared:    </th> <td>   0.841</td> \n",
       "</tr>\n",
       "<tr>\n",
       "  <th>Method:</th>             <td>Least Squares</td>  <th>  F-statistic:       </th> <td>1.057e+04</td>\n",
       "</tr>\n",
       "<tr>\n",
       "  <th>Date:</th>             <td>Wed, 13 Jun 2018</td> <th>  Prob (F-statistic):</th>  <td>  0.00</td>  \n",
       "</tr>\n",
       "<tr>\n",
       "  <th>Time:</th>                 <td>19:40:51</td>     <th>  Log-Likelihood:    </th> <td> -17845.</td> \n",
       "</tr>\n",
       "<tr>\n",
       "  <th>No. Observations:</th>      <td>  1994</td>      <th>  AIC:               </th> <td>3.569e+04</td>\n",
       "</tr>\n",
       "<tr>\n",
       "  <th>Df Residuals:</th>          <td>  1992</td>      <th>  BIC:               </th> <td>3.571e+04</td>\n",
       "</tr>\n",
       "<tr>\n",
       "  <th>Df Model:</th>              <td>     1</td>      <th>                     </th>     <td> </td>    \n",
       "</tr>\n",
       "<tr>\n",
       "  <th>Covariance Type:</th>      <td>nonrobust</td>    <th>                     </th>     <td> </td>    \n",
       "</tr>\n",
       "</table>\n",
       "<table class=\"simpletable\">\n",
       "<tr>\n",
       "         <td></td>           <th>coef</th>     <th>std err</th>      <th>t</th>      <th>P>|t|</th>  <th>[0.025</th>    <th>0.975]</th>  \n",
       "</tr>\n",
       "<tr>\n",
       "  <th>intercept</th>      <td> -312.7707</td> <td>   51.094</td> <td>   -6.121</td> <td> 0.000</td> <td> -412.974</td> <td> -212.568</td>\n",
       "</tr>\n",
       "<tr>\n",
       "  <th>favorite_count</th> <td>    0.3423</td> <td>    0.003</td> <td>  102.797</td> <td> 0.000</td> <td>    0.336</td> <td>    0.349</td>\n",
       "</tr>\n",
       "</table>\n",
       "<table class=\"simpletable\">\n",
       "<tr>\n",
       "  <th>Omnibus:</th>       <td>2259.699</td> <th>  Durbin-Watson:     </th>  <td>   1.074</td> \n",
       "</tr>\n",
       "<tr>\n",
       "  <th>Prob(Omnibus):</th>  <td> 0.000</td>  <th>  Jarque-Bera (JB):  </th> <td>587757.738</td>\n",
       "</tr>\n",
       "<tr>\n",
       "  <th>Skew:</th>           <td> 5.301</td>  <th>  Prob(JB):          </th>  <td>    0.00</td> \n",
       "</tr>\n",
       "<tr>\n",
       "  <th>Kurtosis:</th>       <td>86.438</td>  <th>  Cond. No.          </th>  <td>1.88e+04</td> \n",
       "</tr>\n",
       "</table>"
      ],
      "text/plain": [
       "<class 'statsmodels.iolib.summary.Summary'>\n",
       "\"\"\"\n",
       "                            OLS Regression Results                            \n",
       "==============================================================================\n",
       "Dep. Variable:          retweet_count   R-squared:                       0.841\n",
       "Model:                            OLS   Adj. R-squared:                  0.841\n",
       "Method:                 Least Squares   F-statistic:                 1.057e+04\n",
       "Date:                Wed, 13 Jun 2018   Prob (F-statistic):               0.00\n",
       "Time:                        19:40:51   Log-Likelihood:                -17845.\n",
       "No. Observations:                1994   AIC:                         3.569e+04\n",
       "Df Residuals:                    1992   BIC:                         3.571e+04\n",
       "Df Model:                           1                                         \n",
       "Covariance Type:            nonrobust                                         \n",
       "==================================================================================\n",
       "                     coef    std err          t      P>|t|      [0.025      0.975]\n",
       "----------------------------------------------------------------------------------\n",
       "intercept       -312.7707     51.094     -6.121      0.000    -412.974    -212.568\n",
       "favorite_count     0.3423      0.003    102.797      0.000       0.336       0.349\n",
       "==============================================================================\n",
       "Omnibus:                     2259.699   Durbin-Watson:                   1.074\n",
       "Prob(Omnibus):                  0.000   Jarque-Bera (JB):           587757.738\n",
       "Skew:                           5.301   Prob(JB):                         0.00\n",
       "Kurtosis:                      86.438   Cond. No.                     1.88e+04\n",
       "==============================================================================\n",
       "\n",
       "Warnings:\n",
       "[1] Standard Errors assume that the covariance matrix of the errors is correctly specified.\n",
       "[2] The condition number is large, 1.88e+04. This might indicate that there are\n",
       "strong multicollinearity or other numerical problems.\n",
       "\"\"\""
      ]
     },
     "execution_count": 165,
     "metadata": {},
     "output_type": "execute_result"
    }
   ],
   "source": [
    "# Linear regression model for retweet_count and favorite_count\n",
    "twitter_archive_master['intercept'] = 1\n",
    "\n",
    "lm = sms.OLS(twitter_archive_master['retweet_count'], twitter_archive_master[['intercept', 'favorite_count']])\n",
    "results = lm.fit()\n",
    "results.summary()"
   ]
  },
  {
   "cell_type": "markdown",
   "metadata": {},
   "source": [
    "As I suspected, favorite_count goes up when retweet_count goes up, vise versa. The plot shows there is strong increaseing trendline also.\n",
    "\n",
    "Next, I want to took at rating vs retweet counts and favorites counts.  Is higher rating tweets get more retweet_count and favorite counts?\n",
    "\n",
    "Before I do that, I want to remove couple of outliners from rating."
   ]
  },
  {
   "cell_type": "code",
   "execution_count": 166,
   "metadata": {},
   "outputs": [],
   "source": [
    "# Remove outliers from rating.\n",
    "twitter_archive_master_no_outliers = twitter_archive_master[twitter_archive_master['rating'] < 40]"
   ]
  },
  {
   "cell_type": "code",
   "execution_count": 167,
   "metadata": {
    "scrolled": true
   },
   "outputs": [
    {
     "data": {
      "text/plain": [
       "Text(0,0.5,'Ratings')"
      ]
     },
     "execution_count": 167,
     "metadata": {},
     "output_type": "execute_result"
    },
    {
     "data": {
      "image/png": "[encoded data removed]",
      "text/plain": [
       "<Figure size 1152x360 with 2 Axes>"
      ]
     },
     "metadata": {},
     "output_type": "display_data"
    }
   ],
   "source": [
    "# Scatter plot for rating vs retweet counts/favorite counts with trendline\n",
    "fig, (ax1, ax2) = plt.subplots(1,2,figsize=(16,5))\n",
    "\n",
    "sns.regplot(\n",
    "    x='retweet_count',\n",
    "    y='rating',\n",
    "    data=twitter_archive_master_no_outliers,\n",
    "    ax=ax1\n",
    ")\n",
    "ax1.set_title('Ratings vs Retweet Counts', fontsize=18)\n",
    "ax1.set_xlabel('Retweet Counts', fontsize=14)\n",
    "ax1.set_ylabel('Ratings', fontsize=14)\n",
    "\n",
    "sns.regplot(\n",
    "    x='favorite_count',\n",
    "    y='rating',\n",
    "    data=twitter_archive_master_no_outliers,\n",
    "    ax=ax2\n",
    ")\n",
    "ax2.set_title('Ratings vs Favorite Counts', fontsize=18)\n",
    "ax2.set_xlabel('Favorite Counts', fontsize=14)\n",
    "ax2.set_ylabel('Ratings', fontsize=14)"
   ]
  },
  {
   "cell_type": "markdown",
   "metadata": {},
   "source": [
    "In the plots above, both retweet and favorite counts have increasing trendline indicating there is positive correlation to ratings.\n",
    "\n",
    "Next, I will explore dog breeds.  Do certain dog breeds get more retweet and favorite counts?\n",
    "I will use top 10 dog breeds I determined previously to do this analysis.\n",
    "\n",
    "Removing some outliers from retweet counts."
   ]
  },
  {
   "cell_type": "code",
   "execution_count": 168,
   "metadata": {},
   "outputs": [],
   "source": [
    "# Remove outliers from retweet_count\n",
    "twitter_archive_master_tb_rc = twitter_archive_master_top_breeds[twitter_archive_master_top_breeds['retweet_count'] <= 10000]"
   ]
  },
  {
   "cell_type": "code",
   "execution_count": 169,
   "metadata": {
    "scrolled": true
   },
   "outputs": [
    {
     "data": {
      "text/plain": [
       "Text(0,0.5,'Retweet Counts')"
      ]
     },
     "execution_count": 169,
     "metadata": {},
     "output_type": "execute_result"
    },
    {
     "data": {
      "image/png": "[encoded data removed]",
      "text/plain": [
       "<Figure size 1080x576 with 1 Axes>"
      ]
     },
     "metadata": {},
     "output_type": "display_data"
    }
   ],
   "source": [
    "# Boxplot for top 10 dog breeds vs retweet counts\n",
    "fig = plt.figure(figsize=(15,8))\n",
    "\n",
    "ax1 = sns.boxplot(data=twitter_archive_master_tb_rc, x='predicted_dog', y='retweet_count', palette=\"Spectral\")\n",
    "ax1.set_title('Top 10 Dog Breeds vs Retweet Counts', fontsize=18)\n",
    "ax1.set_xlabel('Dog Breeds', fontsize=14)\n",
    "ax1.set_ylabel('Retweet Counts', fontsize=14)"
   ]
  },
  {
   "cell_type": "markdown",
   "metadata": {},
   "source": [
    "The difference is not significant, but samoyed seems to get most retweet counts, and pug and pomeranian tend to get least retweet counts out of all top 10 dog breeds.\n",
    "\n",
    "Removing some outliers from favorite counts."
   ]
  },
  {
   "cell_type": "code",
   "execution_count": 170,
   "metadata": {},
   "outputs": [],
   "source": [
    "# Remove outliers from favorite_counts\n",
    "twitter_archive_master_tb_fc = twitter_archive_master_top_breeds[twitter_archive_master_top_breeds['favorite_count'] <= 20000]"
   ]
  },
  {
   "cell_type": "code",
   "execution_count": 171,
   "metadata": {
    "scrolled": true
   },
   "outputs": [
    {
     "data": {
      "text/plain": [
       "Text(0,0.5,'Favorite Counts')"
      ]
     },
     "execution_count": 171,
     "metadata": {},
     "output_type": "execute_result"
    },
    {
     "data": {
      "image/png": "[encoded data removed]",
      "text/plain": [
       "<Figure size 1080x576 with 1 Axes>"
      ]
     },
     "metadata": {},
     "output_type": "display_data"
    }
   ],
   "source": [
    "# Boxplot for top 10 dog breeds vs favorite counts\n",
    "fig = plt.figure(figsize=(15,8))\n",
    "\n",
    "ax2 = sns.boxplot(data=twitter_archive_master_tb_fc, x='predicted_dog', y='favorite_count', palette=\"Spectral\")\n",
    "ax2.set_title('Top 10 Dog Breeds vs Favorite Counts', fontsize=18)\n",
    "ax2.set_xlabel('Dog Breeds', fontsize=14)\n",
    "ax2.set_ylabel('Favorite Counts', fontsize=14)"
   ]
  },
  {
   "cell_type": "markdown",
   "metadata": {},
   "source": [
    "Golden retriever and labrador retriever seem to get most favorite counts, and pug and chihuahua tend to get least retweet counts out of all top 10 dog breeds.\n",
    "\n",
    "For dog breeds, I didn't find any siginificat relationship between dog breeds and retweet and favorite counts.\n",
    "\n",
    "Lastly, I want to look if life stage of dogs has some assiciation to retweet and favorite counts.\n",
    "\n",
    "I will filter out tweets which do not have dog life stages."
   ]
  },
  {
   "cell_type": "code",
   "execution_count": 172,
   "metadata": {},
   "outputs": [],
   "source": [
    "# Remove tweets which do not have life_stage\n",
    "twitter_archive_master_life_stages = twitter_archive_master[twitter_archive_master['life_stage'] != 'None']"
   ]
  },
  {
   "cell_type": "markdown",
   "metadata": {},
   "source": [
    "Removing outliers from retweet counts."
   ]
  },
  {
   "cell_type": "code",
   "execution_count": 173,
   "metadata": {},
   "outputs": [],
   "source": [
    "# Remove outliers from retweet_counts\n",
    "twitter_archive_master_life_stages_rc = twitter_archive_master_life_stages[twitter_archive_master_life_stages['retweet_count'] <= 20000]"
   ]
  },
  {
   "cell_type": "code",
   "execution_count": 174,
   "metadata": {
    "scrolled": true
   },
   "outputs": [
    {
     "data": {
      "text/plain": [
       "Text(0,0.5,'Retweet Counts')"
      ]
     },
     "execution_count": 174,
     "metadata": {},
     "output_type": "execute_result"
    },
    {
     "data": {
      "image/png": "[encoded data removed]",
      "text/plain": [
       "<Figure size 1080x576 with 1 Axes>"
      ]
     },
     "metadata": {},
     "output_type": "display_data"
    }
   ],
   "source": [
    "# Boxplot for life stages vs retweet counts\n",
    "fig = plt.figure(figsize=(15,8))\n",
    "\n",
    "ax1 = sns.boxplot(data=twitter_archive_master_life_stages_rc, x='life_stage', y='retweet_count', palette=\"Spectral\")\n",
    "ax1.set_title('Life Stages vs Retweet Counts', fontsize=18)\n",
    "ax1.set_xlabel('Life Stages', fontsize=14)\n",
    "ax1.set_ylabel('Retweet Counts', fontsize=14)"
   ]
  },
  {
   "cell_type": "markdown",
   "metadata": {},
   "source": [
    "Except pupper, median of all other life stages have about the same median. <br/>\n",
    "\n",
    "It seems like pupper gets lower retweet counts compare to other life stages.<br/>\n",
    "The multi life stages have large interquatile range.  There very little number of tweets which has life stage 'multi', 6 to be exact. So I would guess the range of these values are wide.\n",
    "\n",
    "Removing outliners from favorite counts."
   ]
  },
  {
   "cell_type": "code",
   "execution_count": 175,
   "metadata": {},
   "outputs": [],
   "source": [
    "# Remove outliers from favorite_count\n",
    "twitter_archive_master_life_stages_fc = twitter_archive_master_life_stages[twitter_archive_master_life_stages['favorite_count'] <= 20000]"
   ]
  },
  {
   "cell_type": "code",
   "execution_count": 176,
   "metadata": {
    "scrolled": true
   },
   "outputs": [
    {
     "data": {
      "text/plain": [
       "Text(0,0.5,'Favorite Counts')"
      ]
     },
     "execution_count": 176,
     "metadata": {},
     "output_type": "execute_result"
    },
    {
     "data": {
      "image/png": "[encoded data removed]",
      "text/plain": [
       "<Figure size 1080x576 with 1 Axes>"
      ]
     },
     "metadata": {},
     "output_type": "display_data"
    }
   ],
   "source": [
    "# Boxplot for life stages vs favorite counts\n",
    "fig = plt.figure(figsize=(15,8))\n",
    "\n",
    "ax2 = sns.boxplot(data=twitter_archive_master_life_stages_fc, x='life_stage', y='favorite_count', palette=\"Spectral\")\n",
    "ax2.set_title('Life Stages vs Favorite Counts', fontsize=18)\n",
    "ax2.set_xlabel('Life Stages', fontsize=14)\n",
    "ax2.set_ylabel('Favorite Counts', fontsize=14)"
   ]
  },
  {
   "cell_type": "markdown",
   "metadata": {},
   "source": [
    "There are not significat difference in median of life stages of dogs except pupper. The pupper tends to get lower favorite counts.\n",
    "\n",
    "Now, putting everything together to fit multiple linear regression model and see if I can find out which data are associated to retweet counts and favorite counts."
   ]
  },
  {
   "cell_type": "code",
   "execution_count": 177,
   "metadata": {},
   "outputs": [],
   "source": [
    "# Get dummies for dog breeds and life stages\n",
    "# Using twitter_archive_master_top_breeds since it only contains tweets with top 10 dog breeds\n",
    "dummy_df = pd.get_dummies(twitter_archive_master_top_breeds[['predicted_dog', 'life_stage']], drop_first = True)   \n",
    "\n",
    "# Join dummies to twitter_master_archive\n",
    "twitter_archive_master_OLS = twitter_archive_master_top_breeds.join(dummy_df)"
   ]
  },
  {
   "cell_type": "code",
   "execution_count": 178,
   "metadata": {},
   "outputs": [
    {
     "data": {
      "text/html": [
       "<table class=\"simpletable\">\n",
       "<caption>OLS Regression Results</caption>\n",
       "<tr>\n",
       "  <th>Dep. Variable:</th>      <td>retweet_count</td>  <th>  R-squared:         </th> <td>   0.120</td> \n",
       "</tr>\n",
       "<tr>\n",
       "  <th>Model:</th>                   <td>OLS</td>       <th>  Adj. R-squared:    </th> <td>   0.101</td> \n",
       "</tr>\n",
       "<tr>\n",
       "  <th>Method:</th>             <td>Least Squares</td>  <th>  F-statistic:       </th> <td>   6.482</td> \n",
       "</tr>\n",
       "<tr>\n",
       "  <th>Date:</th>             <td>Wed, 13 Jun 2018</td> <th>  Prob (F-statistic):</th> <td>4.25e-13</td> \n",
       "</tr>\n",
       "<tr>\n",
       "  <th>Time:</th>                 <td>19:40:54</td>     <th>  Log-Likelihood:    </th> <td> -7221.6</td> \n",
       "</tr>\n",
       "<tr>\n",
       "  <th>No. Observations:</th>      <td>   729</td>      <th>  AIC:               </th> <td>1.448e+04</td>\n",
       "</tr>\n",
       "<tr>\n",
       "  <th>Df Residuals:</th>          <td>   713</td>      <th>  BIC:               </th> <td>1.455e+04</td>\n",
       "</tr>\n",
       "<tr>\n",
       "  <th>Df Model:</th>              <td>    15</td>      <th>                     </th>     <td> </td>    \n",
       "</tr>\n",
       "<tr>\n",
       "  <th>Covariance Type:</th>      <td>nonrobust</td>    <th>                     </th>     <td> </td>    \n",
       "</tr>\n",
       "</table>\n",
       "<table class=\"simpletable\">\n",
       "<tr>\n",
       "                  <td></td>                    <th>coef</th>     <th>std err</th>      <th>t</th>      <th>P>|t|</th>  <th>[0.025</th>    <th>0.975]</th>  \n",
       "</tr>\n",
       "<tr>\n",
       "  <th>intercept</th>                        <td>-6821.6092</td> <td> 1376.235</td> <td>   -4.957</td> <td> 0.000</td> <td>-9523.566</td> <td>-4119.652</td>\n",
       "</tr>\n",
       "<tr>\n",
       "  <th>rating</th>                           <td> 9115.0548</td> <td> 1213.668</td> <td>    7.510</td> <td> 0.000</td> <td> 6732.265</td> <td> 1.15e+04</td>\n",
       "</tr>\n",
       "<tr>\n",
       "  <th>predicted_dog_chow</th>               <td> -904.5678</td> <td>  884.492</td> <td>   -1.023</td> <td> 0.307</td> <td>-2641.087</td> <td>  831.951</td>\n",
       "</tr>\n",
       "<tr>\n",
       "  <th>predicted_dog_golden_retriever</th>   <td> -370.2874</td> <td>  663.187</td> <td>   -0.558</td> <td> 0.577</td> <td>-1672.320</td> <td>  931.745</td>\n",
       "</tr>\n",
       "<tr>\n",
       "  <th>predicted_dog_labrador_retriever</th> <td>   94.5638</td> <td>  705.049</td> <td>    0.134</td> <td> 0.893</td> <td>-1289.657</td> <td> 1478.785</td>\n",
       "</tr>\n",
       "<tr>\n",
       "  <th>predicted_dog_malamute</th>           <td>  178.1559</td> <td>  999.379</td> <td>    0.178</td> <td> 0.859</td> <td>-1783.922</td> <td> 2140.234</td>\n",
       "</tr>\n",
       "<tr>\n",
       "  <th>predicted_dog_pembroke</th>           <td> -606.4624</td> <td>  727.348</td> <td>   -0.834</td> <td> 0.405</td> <td>-2034.463</td> <td>  821.538</td>\n",
       "</tr>\n",
       "<tr>\n",
       "  <th>predicted_dog_pomeranian</th>         <td> -627.4714</td> <td>  920.796</td> <td>   -0.681</td> <td> 0.496</td> <td>-2435.267</td> <td> 1180.324</td>\n",
       "</tr>\n",
       "<tr>\n",
       "  <th>predicted_dog_pug</th>                <td> -546.3419</td> <td>  810.826</td> <td>   -0.674</td> <td> 0.501</td> <td>-2138.233</td> <td> 1045.550</td>\n",
       "</tr>\n",
       "<tr>\n",
       "  <th>predicted_dog_samoyed</th>            <td>  826.0094</td> <td>  931.185</td> <td>    0.887</td> <td> 0.375</td> <td>-1002.182</td> <td> 2654.201</td>\n",
       "</tr>\n",
       "<tr>\n",
       "  <th>predicted_dog_toy_poodle</th>         <td> -938.3040</td> <td>  861.286</td> <td>   -1.089</td> <td> 0.276</td> <td>-2629.265</td> <td>  752.657</td>\n",
       "</tr>\n",
       "<tr>\n",
       "  <th>life_stage_doggo</th>                 <td> 4634.1885</td> <td> 1135.410</td> <td>    4.082</td> <td> 0.000</td> <td> 2405.041</td> <td> 6863.336</td>\n",
       "</tr>\n",
       "<tr>\n",
       "  <th>life_stage_floofer</th>               <td> 1585.0029</td> <td> 2231.917</td> <td>    0.710</td> <td> 0.478</td> <td>-2796.913</td> <td> 5966.919</td>\n",
       "</tr>\n",
       "<tr>\n",
       "  <th>life_stage_multi</th>                 <td> 1703.3617</td> <td> 2222.246</td> <td>    0.767</td> <td> 0.444</td> <td>-2659.566</td> <td> 6066.289</td>\n",
       "</tr>\n",
       "<tr>\n",
       "  <th>life_stage_pupper</th>                <td> -651.0008</td> <td>  596.593</td> <td>   -1.091</td> <td> 0.276</td> <td>-1822.290</td> <td>  520.288</td>\n",
       "</tr>\n",
       "<tr>\n",
       "  <th>life_stage_puppo</th>                 <td>  196.4948</td> <td> 1656.930</td> <td>    0.119</td> <td> 0.906</td> <td>-3056.551</td> <td> 3449.541</td>\n",
       "</tr>\n",
       "</table>\n",
       "<table class=\"simpletable\">\n",
       "<tr>\n",
       "  <th>Omnibus:</th>       <td>974.043</td> <th>  Durbin-Watson:     </th>  <td>   1.947</td> \n",
       "</tr>\n",
       "<tr>\n",
       "  <th>Prob(Omnibus):</th> <td> 0.000</td>  <th>  Jarque-Bera (JB):  </th> <td>187056.654</td>\n",
       "</tr>\n",
       "<tr>\n",
       "  <th>Skew:</th>          <td> 6.926</td>  <th>  Prob(JB):          </th>  <td>    0.00</td> \n",
       "</tr>\n",
       "<tr>\n",
       "  <th>Kurtosis:</th>      <td>80.242</td>  <th>  Cond. No.          </th>  <td>    19.1</td> \n",
       "</tr>\n",
       "</table>"
      ],
      "text/plain": [
       "<class 'statsmodels.iolib.summary.Summary'>\n",
       "\"\"\"\n",
       "                            OLS Regression Results                            \n",
       "==============================================================================\n",
       "Dep. Variable:          retweet_count   R-squared:                       0.120\n",
       "Model:                            OLS   Adj. R-squared:                  0.101\n",
       "Method:                 Least Squares   F-statistic:                     6.482\n",
       "Date:                Wed, 13 Jun 2018   Prob (F-statistic):           4.25e-13\n",
       "Time:                        19:40:54   Log-Likelihood:                -7221.6\n",
       "No. Observations:                 729   AIC:                         1.448e+04\n",
       "Df Residuals:                     713   BIC:                         1.455e+04\n",
       "Df Model:                          15                                         \n",
       "Covariance Type:            nonrobust                                         \n",
       "====================================================================================================\n",
       "                                       coef    std err          t      P>|t|      [0.025      0.975]\n",
       "----------------------------------------------------------------------------------------------------\n",
       "intercept                        -6821.6092   1376.235     -4.957      0.000   -9523.566   -4119.652\n",
       "rating                            9115.0548   1213.668      7.510      0.000    6732.265    1.15e+04\n",
       "predicted_dog_chow                -904.5678    884.492     -1.023      0.307   -2641.087     831.951\n",
       "predicted_dog_golden_retriever    -370.2874    663.187     -0.558      0.577   -1672.320     931.745\n",
       "predicted_dog_labrador_retriever    94.5638    705.049      0.134      0.893   -1289.657    1478.785\n",
       "predicted_dog_malamute             178.1559    999.379      0.178      0.859   -1783.922    2140.234\n",
       "predicted_dog_pembroke            -606.4624    727.348     -0.834      0.405   -2034.463     821.538\n",
       "predicted_dog_pomeranian          -627.4714    920.796     -0.681      0.496   -2435.267    1180.324\n",
       "predicted_dog_pug                 -546.3419    810.826     -0.674      0.501   -2138.233    1045.550\n",
       "predicted_dog_samoyed              826.0094    931.185      0.887      0.375   -1002.182    2654.201\n",
       "predicted_dog_toy_poodle          -938.3040    861.286     -1.089      0.276   -2629.265     752.657\n",
       "life_stage_doggo                  4634.1885   1135.410      4.082      0.000    2405.041    6863.336\n",
       "life_stage_floofer                1585.0029   2231.917      0.710      0.478   -2796.913    5966.919\n",
       "life_stage_multi                  1703.3617   2222.246      0.767      0.444   -2659.566    6066.289\n",
       "life_stage_pupper                 -651.0008    596.593     -1.091      0.276   -1822.290     520.288\n",
       "life_stage_puppo                   196.4948   1656.930      0.119      0.906   -3056.551    3449.541\n",
       "==============================================================================\n",
       "Omnibus:                      974.043   Durbin-Watson:                   1.947\n",
       "Prob(Omnibus):                  0.000   Jarque-Bera (JB):           187056.654\n",
       "Skew:                           6.926   Prob(JB):                         0.00\n",
       "Kurtosis:                      80.242   Cond. No.                         19.1\n",
       "==============================================================================\n",
       "\n",
       "Warnings:\n",
       "[1] Standard Errors assume that the covariance matrix of the errors is correctly specified.\n",
       "\"\"\""
      ]
     },
     "execution_count": 178,
     "metadata": {},
     "output_type": "execute_result"
    }
   ],
   "source": [
    "# Multiple linear regression for retweet counts\n",
    "twitter_archive_master_OLS['intercept'] = 1\n",
    "\n",
    "lm = sms.OLS(twitter_archive_master_OLS['retweet_count'], \\\n",
    "             twitter_archive_master_OLS[['intercept', 'rating', 'predicted_dog_chow', 'predicted_dog_golden_retriever', \\\n",
    "                                         'predicted_dog_labrador_retriever', 'predicted_dog_malamute', \\\n",
    "                                         'predicted_dog_pembroke', 'predicted_dog_pomeranian', 'predicted_dog_pug', \\\n",
    "                                         'predicted_dog_samoyed', 'predicted_dog_toy_poodle', 'life_stage_doggo', \\\n",
    "                                         'life_stage_floofer', 'life_stage_multi', 'life_stage_pupper', 'life_stage_puppo']]) \n",
    "results = lm.fit()\n",
    "results.summary()"
   ]
  },
  {
   "cell_type": "code",
   "execution_count": 179,
   "metadata": {
    "scrolled": true
   },
   "outputs": [
    {
     "data": {
      "text/html": [
       "<table class=\"simpletable\">\n",
       "<caption>OLS Regression Results</caption>\n",
       "<tr>\n",
       "  <th>Dep. Variable:</th>     <td>favorite_count</td>  <th>  R-squared:         </th> <td>   0.194</td> \n",
       "</tr>\n",
       "<tr>\n",
       "  <th>Model:</th>                   <td>OLS</td>       <th>  Adj. R-squared:    </th> <td>   0.177</td> \n",
       "</tr>\n",
       "<tr>\n",
       "  <th>Method:</th>             <td>Least Squares</td>  <th>  F-statistic:       </th> <td>   11.46</td> \n",
       "</tr>\n",
       "<tr>\n",
       "  <th>Date:</th>             <td>Wed, 13 Jun 2018</td> <th>  Prob (F-statistic):</th> <td>2.04e-25</td> \n",
       "</tr>\n",
       "<tr>\n",
       "  <th>Time:</th>                 <td>19:40:54</td>     <th>  Log-Likelihood:    </th> <td> -7879.7</td> \n",
       "</tr>\n",
       "<tr>\n",
       "  <th>No. Observations:</th>      <td>   729</td>      <th>  AIC:               </th> <td>1.579e+04</td>\n",
       "</tr>\n",
       "<tr>\n",
       "  <th>Df Residuals:</th>          <td>   713</td>      <th>  BIC:               </th> <td>1.586e+04</td>\n",
       "</tr>\n",
       "<tr>\n",
       "  <th>Df Model:</th>              <td>    15</td>      <th>                     </th>     <td> </td>    \n",
       "</tr>\n",
       "<tr>\n",
       "  <th>Covariance Type:</th>      <td>nonrobust</td>    <th>                     </th>     <td> </td>    \n",
       "</tr>\n",
       "</table>\n",
       "<table class=\"simpletable\">\n",
       "<tr>\n",
       "                  <td></td>                    <th>coef</th>     <th>std err</th>      <th>t</th>      <th>P>|t|</th>  <th>[0.025</th>    <th>0.975]</th>  \n",
       "</tr>\n",
       "<tr>\n",
       "  <th>intercept</th>                        <td>-2.592e+04</td> <td> 3394.277</td> <td>   -7.636</td> <td> 0.000</td> <td>-3.26e+04</td> <td>-1.93e+04</td>\n",
       "</tr>\n",
       "<tr>\n",
       "  <th>rating</th>                           <td> 3.269e+04</td> <td> 2993.330</td> <td>   10.921</td> <td> 0.000</td> <td> 2.68e+04</td> <td> 3.86e+04</td>\n",
       "</tr>\n",
       "<tr>\n",
       "  <th>predicted_dog_chow</th>               <td>-2106.6385</td> <td> 2181.466</td> <td>   -0.966</td> <td> 0.335</td> <td>-6389.504</td> <td> 2176.227</td>\n",
       "</tr>\n",
       "<tr>\n",
       "  <th>predicted_dog_golden_retriever</th>   <td> -144.8609</td> <td> 1635.651</td> <td>   -0.089</td> <td> 0.929</td> <td>-3356.130</td> <td> 3066.408</td>\n",
       "</tr>\n",
       "<tr>\n",
       "  <th>predicted_dog_labrador_retriever</th> <td>  601.1614</td> <td> 1738.898</td> <td>    0.346</td> <td> 0.730</td> <td>-2812.812</td> <td> 4015.135</td>\n",
       "</tr>\n",
       "<tr>\n",
       "  <th>predicted_dog_malamute</th>           <td> 1075.7206</td> <td> 2464.819</td> <td>    0.436</td> <td> 0.663</td> <td>-3763.451</td> <td> 5914.892</td>\n",
       "</tr>\n",
       "<tr>\n",
       "  <th>predicted_dog_pembroke</th>           <td> -358.9418</td> <td> 1793.896</td> <td>   -0.200</td> <td> 0.841</td> <td>-3880.892</td> <td> 3163.008</td>\n",
       "</tr>\n",
       "<tr>\n",
       "  <th>predicted_dog_pomeranian</th>         <td>-2136.8776</td> <td> 2271.006</td> <td>   -0.941</td> <td> 0.347</td> <td>-6595.536</td> <td> 2321.780</td>\n",
       "</tr>\n",
       "<tr>\n",
       "  <th>predicted_dog_pug</th>                <td> -908.7188</td> <td> 1999.781</td> <td>   -0.454</td> <td> 0.650</td> <td>-4834.881</td> <td> 3017.444</td>\n",
       "</tr>\n",
       "<tr>\n",
       "  <th>predicted_dog_samoyed</th>            <td> 1534.2437</td> <td> 2296.628</td> <td>    0.668</td> <td> 0.504</td> <td>-2974.718</td> <td> 6043.205</td>\n",
       "</tr>\n",
       "<tr>\n",
       "  <th>predicted_dog_toy_poodle</th>         <td>-3136.6077</td> <td> 2124.234</td> <td>   -1.477</td> <td> 0.140</td> <td>-7307.110</td> <td> 1033.894</td>\n",
       "</tr>\n",
       "<tr>\n",
       "  <th>life_stage_doggo</th>                 <td> 9698.3930</td> <td> 2800.320</td> <td>    3.463</td> <td> 0.001</td> <td> 4200.535</td> <td> 1.52e+04</td>\n",
       "</tr>\n",
       "<tr>\n",
       "  <th>life_stage_floofer</th>               <td> 1762.4241</td> <td> 5504.690</td> <td>    0.320</td> <td> 0.749</td> <td>-9044.916</td> <td> 1.26e+04</td>\n",
       "</tr>\n",
       "<tr>\n",
       "  <th>life_stage_multi</th>                 <td> 2993.4271</td> <td> 5480.837</td> <td>    0.546</td> <td> 0.585</td> <td>-7767.081</td> <td> 1.38e+04</td>\n",
       "</tr>\n",
       "<tr>\n",
       "  <th>life_stage_pupper</th>                <td>-3399.0738</td> <td> 1471.407</td> <td>   -2.310</td> <td> 0.021</td> <td>-6287.883</td> <td> -510.265</td>\n",
       "</tr>\n",
       "<tr>\n",
       "  <th>life_stage_puppo</th>                 <td> 3386.9714</td> <td> 4086.571</td> <td>    0.829</td> <td> 0.407</td> <td>-4636.180</td> <td> 1.14e+04</td>\n",
       "</tr>\n",
       "</table>\n",
       "<table class=\"simpletable\">\n",
       "<tr>\n",
       "  <th>Omnibus:</th>       <td>595.229</td> <th>  Durbin-Watson:     </th> <td>   1.596</td> \n",
       "</tr>\n",
       "<tr>\n",
       "  <th>Prob(Omnibus):</th> <td> 0.000</td>  <th>  Jarque-Bera (JB):  </th> <td>14920.130</td>\n",
       "</tr>\n",
       "<tr>\n",
       "  <th>Skew:</th>          <td> 3.534</td>  <th>  Prob(JB):          </th> <td>    0.00</td> \n",
       "</tr>\n",
       "<tr>\n",
       "  <th>Kurtosis:</th>      <td>24.006</td>  <th>  Cond. No.          </th> <td>    19.1</td> \n",
       "</tr>\n",
       "</table>"
      ],
      "text/plain": [
       "<class 'statsmodels.iolib.summary.Summary'>\n",
       "\"\"\"\n",
       "                            OLS Regression Results                            \n",
       "==============================================================================\n",
       "Dep. Variable:         favorite_count   R-squared:                       0.194\n",
       "Model:                            OLS   Adj. R-squared:                  0.177\n",
       "Method:                 Least Squares   F-statistic:                     11.46\n",
       "Date:                Wed, 13 Jun 2018   Prob (F-statistic):           2.04e-25\n",
       "Time:                        19:40:54   Log-Likelihood:                -7879.7\n",
       "No. Observations:                 729   AIC:                         1.579e+04\n",
       "Df Residuals:                     713   BIC:                         1.586e+04\n",
       "Df Model:                          15                                         \n",
       "Covariance Type:            nonrobust                                         \n",
       "====================================================================================================\n",
       "                                       coef    std err          t      P>|t|      [0.025      0.975]\n",
       "----------------------------------------------------------------------------------------------------\n",
       "intercept                        -2.592e+04   3394.277     -7.636      0.000   -3.26e+04   -1.93e+04\n",
       "rating                            3.269e+04   2993.330     10.921      0.000    2.68e+04    3.86e+04\n",
       "predicted_dog_chow               -2106.6385   2181.466     -0.966      0.335   -6389.504    2176.227\n",
       "predicted_dog_golden_retriever    -144.8609   1635.651     -0.089      0.929   -3356.130    3066.408\n",
       "predicted_dog_labrador_retriever   601.1614   1738.898      0.346      0.730   -2812.812    4015.135\n",
       "predicted_dog_malamute            1075.7206   2464.819      0.436      0.663   -3763.451    5914.892\n",
       "predicted_dog_pembroke            -358.9418   1793.896     -0.200      0.841   -3880.892    3163.008\n",
       "predicted_dog_pomeranian         -2136.8776   2271.006     -0.941      0.347   -6595.536    2321.780\n",
       "predicted_dog_pug                 -908.7188   1999.781     -0.454      0.650   -4834.881    3017.444\n",
       "predicted_dog_samoyed             1534.2437   2296.628      0.668      0.504   -2974.718    6043.205\n",
       "predicted_dog_toy_poodle         -3136.6077   2124.234     -1.477      0.140   -7307.110    1033.894\n",
       "life_stage_doggo                  9698.3930   2800.320      3.463      0.001    4200.535    1.52e+04\n",
       "life_stage_floofer                1762.4241   5504.690      0.320      0.749   -9044.916    1.26e+04\n",
       "life_stage_multi                  2993.4271   5480.837      0.546      0.585   -7767.081    1.38e+04\n",
       "life_stage_pupper                -3399.0738   1471.407     -2.310      0.021   -6287.883    -510.265\n",
       "life_stage_puppo                  3386.9714   4086.571      0.829      0.407   -4636.180    1.14e+04\n",
       "==============================================================================\n",
       "Omnibus:                      595.229   Durbin-Watson:                   1.596\n",
       "Prob(Omnibus):                  0.000   Jarque-Bera (JB):            14920.130\n",
       "Skew:                           3.534   Prob(JB):                         0.00\n",
       "Kurtosis:                      24.006   Cond. No.                         19.1\n",
       "==============================================================================\n",
       "\n",
       "Warnings:\n",
       "[1] Standard Errors assume that the covariance matrix of the errors is correctly specified.\n",
       "\"\"\""
      ]
     },
     "execution_count": 179,
     "metadata": {},
     "output_type": "execute_result"
    }
   ],
   "source": [
    "# Multiple linear regression for favorite counts\n",
    "twitter_archive_master_OLS['intercept'] = 1\n",
    "\n",
    "lm = sms.OLS(twitter_archive_master_OLS['favorite_count'], \\\n",
    "             twitter_archive_master_OLS[['intercept', 'rating', 'predicted_dog_chow', 'predicted_dog_golden_retriever', \\\n",
    "                                         'predicted_dog_labrador_retriever', 'predicted_dog_malamute', \\\n",
    "                                         'predicted_dog_pembroke', 'predicted_dog_pomeranian', 'predicted_dog_pug', \\\n",
    "                                         'predicted_dog_samoyed', 'predicted_dog_toy_poodle', 'life_stage_doggo', \\\n",
    "                                         'life_stage_floofer', 'life_stage_multi', 'life_stage_pupper', 'life_stage_puppo']]) \n",
    "results = lm.fit()\n",
    "results.summary()"
   ]
  },
  {
   "cell_type": "markdown",
   "metadata": {},
   "source": [
    "Interpreting the results for both retweet and favorite counts, rating and life stage 'doggo' are statistically significant.<br/>\n",
    "Thus, rating and life stage 'doggo' are correlated to both retweet and favorite counts."
   ]
  },
  {
   "cell_type": "markdown",
   "metadata": {},
   "source": [
    "<a id='conclusions'></a>\n",
    "## Conclusions\n",
    "Retweet counts and favorite counts are correlated with each other. There is positive relationship between retweet and favorite counts. \n",
    "\n",
    "<u>Analysis using plots:</u><br>\n",
    "- For ratings, both retweet and favorite counts have increasing trendline indicating there is positive correlation to ratings.\n",
    "- For dog breeds, I didn't find any significant relationship between dog breeds and retweet and favorite counts.\n",
    "- For life stages, it seems like pupper gets lower both retweet and favorite counts compare to other life stages. But the difference is not significant.  I didn't find any significant relationship.\n",
    "\n",
    "<u>Analysis using multiple linear regression:</u><br/>\n",
    "- Rating and life stage 'doggo' have strong correlation with retweet and favorite counts."
   ]
  },
  {
   "cell_type": "code",
   "execution_count": null,
   "metadata": {},
   "outputs": [],
   "source": []
  }
 ],
 "metadata": {
  "kernelspec": {
   "display_name": "Python 3",
   "language": "python",
   "name": "python3"
  },
  "language_info": {
   "codemirror_mode": {
    "name": "ipython",
    "version": 3
   },
   "file_extension": ".py",
   "mimetype": "text/x-python",
   "name": "python",
   "nbconvert_exporter": "python",
   "pygments_lexer": "ipython3",
   "version": "3.6.4"
  }
 },
 "nbformat": 4,
 "nbformat_minor": 2
}
